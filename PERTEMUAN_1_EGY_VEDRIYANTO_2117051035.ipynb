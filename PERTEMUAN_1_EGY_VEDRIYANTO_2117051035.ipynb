{
  "nbformat": 4,
  "nbformat_minor": 0,
  "metadata": {
    "colab": {
      "provenance": [],
      "collapsed_sections": [
        "rTo-Yk17dpOG",
        "mgsh5J9Chjlf",
        "IHy4G_HojYI3",
        "FnOCKGamkfM8",
        "eIXkK9JemZ_l",
        "ao6vZM9rKshY",
        "41p5p7hwK497"
      ],
      "authorship_tag": "ABX9TyPvlGRy4OOtOtE+3KoPdUbD",
      "include_colab_link": true
    },
    "kernelspec": {
      "name": "python3",
      "display_name": "Python 3"
    },
    "language_info": {
      "name": "python"
    }
  },
  "cells": [
    {
      "cell_type": "markdown",
      "metadata": {
        "id": "view-in-github",
        "colab_type": "text"
      },
      "source": [
        "<a href=\"https://colab.research.google.com/github/egyvedriyanto78/Machine-Learning/blob/main/PERTEMUAN_1_EGY_VEDRIYANTO_2117051035.ipynb\" target=\"_parent\"><img src=\"https://colab.research.google.com/assets/colab-badge.svg\" alt=\"Open In Colab\"/></a>"
      ]
    },
    {
      "cell_type": "markdown",
      "source": [
        "# Pertemuan 1 Machine Learning\n",
        "\n",
        "##### Egy Vedriyanto \n",
        "##### 2117051035\n",
        "##### Kelas B"
      ],
      "metadata": {
        "id": "sGhuwvFGeAzW"
      }
    },
    {
      "cell_type": "markdown",
      "source": [
        "## Variable\n",
        "Deklarasi nilai ke dalam variabel"
      ],
      "metadata": {
        "id": "rTo-Yk17dpOG"
      }
    },
    {
      "cell_type": "code",
      "execution_count": null,
      "metadata": {
        "colab": {
          "base_uri": "https://localhost:8080/"
        },
        "id": "KhOS1WcJdICN",
        "outputId": "b74a8255-d8cb-4fe6-cfb1-623badad9cb7"
      },
      "outputs": [
        {
          "output_type": "stream",
          "name": "stdout",
          "text": [
            "8\n",
            "Output:  8\n"
          ]
        }
      ],
      "source": [
        "#input nilai \"8\" ke dalam variabel A\n",
        "A = 8\n",
        "print(A)\n",
        "print(\"Output: \", A)"
      ]
    },
    {
      "cell_type": "code",
      "source": [
        "A = \"8\"\n",
        "print(A)\n",
        "print(type(A))\n",
        "\n",
        "B = int(A)\n",
        "print(B)\n",
        "print(type(B))"
      ],
      "metadata": {
        "colab": {
          "base_uri": "https://localhost:8080/"
        },
        "id": "kivcT-qSehBG",
        "outputId": "bb4c0d8e-5089-4844-9ff7-d8d980a4c821"
      },
      "execution_count": null,
      "outputs": [
        {
          "output_type": "stream",
          "name": "stdout",
          "text": [
            "8\n",
            "<class 'str'>\n",
            "8\n",
            "<class 'int'>\n"
          ]
        }
      ]
    },
    {
      "cell_type": "code",
      "source": [
        "#input nilai sebagai list\n",
        "nilai = [70, 80, 90, 100, 85]\n",
        "print(nilai)\n",
        "#nilai"
      ],
      "metadata": {
        "colab": {
          "base_uri": "https://localhost:8080/"
        },
        "id": "aikH5RZWgPW-",
        "outputId": "f925c757-19f8-462f-cbd6-265062dcfa29"
      },
      "execution_count": null,
      "outputs": [
        {
          "output_type": "stream",
          "name": "stdout",
          "text": [
            "[70, 80, 90, 100, 85]\n"
          ]
        }
      ]
    },
    {
      "cell_type": "code",
      "source": [
        "data = [80, \"A\", \"Joni\"]\n",
        "print(data)"
      ],
      "metadata": {
        "colab": {
          "base_uri": "https://localhost:8080/"
        },
        "id": "YwQQz13LgkOt",
        "outputId": "1e578b36-9f47-4b4f-9aa7-a8a246bbe11b"
      },
      "execution_count": null,
      "outputs": [
        {
          "output_type": "stream",
          "name": "stdout",
          "text": [
            "[80, 'A', 'Joni']\n"
          ]
        }
      ]
    },
    {
      "cell_type": "markdown",
      "source": [
        "## Conditional"
      ],
      "metadata": {
        "id": "mgsh5J9Chjlf"
      }
    },
    {
      "cell_type": "code",
      "source": [
        "if 7 == A:\n",
        "  print(\"Nilai 7 sama dengan nilai A yang mana adalah\", A)\n",
        "else:\n",
        "  print(\"Nilai 7 tidak sama dengan nilai A yang mana adalah\", A)"
      ],
      "metadata": {
        "colab": {
          "base_uri": "https://localhost:8080/"
        },
        "id": "vXvdYC_ghmNk",
        "outputId": "297d1bf1-38c9-4309-c667-19f2085db8c6"
      },
      "execution_count": null,
      "outputs": [
        {
          "output_type": "stream",
          "name": "stdout",
          "text": [
            "Nilai 7 tidak sama dengan nilai A yang mana adalah 8\n"
          ]
        }
      ]
    },
    {
      "cell_type": "code",
      "source": [
        "#mengecek nilai dalam list\n",
        "\n",
        "if 70 in nilai:\n",
        "  print(\"ada nilai 70 di dalam list\")\n",
        "else:\n",
        "  print(\"tidak ada di dalam list\")"
      ],
      "metadata": {
        "colab": {
          "base_uri": "https://localhost:8080/"
        },
        "id": "rFvjnwWwh-ml",
        "outputId": "f43f104c-aa8b-4a47-9b77-e81f07a2f2f0"
      },
      "execution_count": null,
      "outputs": [
        {
          "output_type": "stream",
          "name": "stdout",
          "text": [
            "ada nilai 70 di dalam list\n"
          ]
        }
      ]
    },
    {
      "cell_type": "markdown",
      "source": [
        "## Looping"
      ],
      "metadata": {
        "id": "IHy4G_HojYI3"
      }
    },
    {
      "cell_type": "code",
      "source": [
        "#Mencetak perkalian angka 2 dengan angka 0 sampai 10\n",
        "for i in range(10):\n",
        "  print(i*2)"
      ],
      "metadata": {
        "colab": {
          "base_uri": "https://localhost:8080/"
        },
        "id": "47mqUh1ijbtD",
        "outputId": "a94999d1-3a90-4bd2-f4e5-ac9c6c7747b0"
      },
      "execution_count": null,
      "outputs": [
        {
          "output_type": "stream",
          "name": "stdout",
          "text": [
            "0\n",
            "2\n",
            "4\n",
            "6\n",
            "8\n",
            "10\n",
            "12\n",
            "14\n",
            "16\n",
            "18\n"
          ]
        }
      ]
    },
    {
      "cell_type": "markdown",
      "source": [
        "## Function"
      ],
      "metadata": {
        "id": "FnOCKGamkfM8"
      }
    },
    {
      "cell_type": "code",
      "source": [
        "#Fungsi yang mencetak suatu nilai\n",
        "def cetak_a():\n",
        "  print(\"A\")\n",
        "\n",
        "#panggil fungsi cetak_a\n",
        "cetak_a()"
      ],
      "metadata": {
        "colab": {
          "base_uri": "https://localhost:8080/"
        },
        "id": "ReiGvaaGkkn7",
        "outputId": "4ac6fdab-fdab-4569-c2bc-7e581ba7705e"
      },
      "execution_count": null,
      "outputs": [
        {
          "output_type": "stream",
          "name": "stdout",
          "text": [
            "A\n"
          ]
        }
      ]
    },
    {
      "cell_type": "code",
      "source": [
        "#Fungsi yang mengembalikan suatu nilai dari suatu masukan\n",
        "def cetak_pangkat_dua(x):\n",
        "  x = x**2\n",
        "  return x\n",
        "\n",
        "#Panggil fungsi cetak_pangkat_dua dengan inputan tertentu\n",
        "cetak_pangkat_dua(4)"
      ],
      "metadata": {
        "colab": {
          "base_uri": "https://localhost:8080/"
        },
        "id": "VXjtqgRzk1wl",
        "outputId": "0b6660ef-15c0-46ca-9f05-5072d59aca48"
      },
      "execution_count": null,
      "outputs": [
        {
          "output_type": "execute_result",
          "data": {
            "text/plain": [
              "16"
            ]
          },
          "metadata": {},
          "execution_count": 12
        }
      ]
    },
    {
      "cell_type": "markdown",
      "source": [
        "## Built-in Function\n",
        "\n",
        "Memanggil fungsi bawaan dari Python"
      ],
      "metadata": {
        "id": "eIXkK9JemZ_l"
      }
    },
    {
      "cell_type": "code",
      "source": [
        "nilai = [70, 80, 90, 100, 85]\n",
        "#memanggil fungsi len untuk mencetak jumlah item dari list\n",
        "print(len(nilai))\n",
        "\n",
        "#memanggil fungsi max untuk mencetak item terbesar dari list\n",
        "print(max(nilai))\n",
        "\n",
        "#untuk tahu fungsi bawaan dari library yang ada, perlu baca dokumentasinya"
      ],
      "metadata": {
        "colab": {
          "base_uri": "https://localhost:8080/"
        },
        "id": "NQ9E9ipgmg6c",
        "outputId": "ad098f7e-c0bd-4ed4-af10-c93dc2abbde3"
      },
      "execution_count": null,
      "outputs": [
        {
          "output_type": "stream",
          "name": "stdout",
          "text": [
            "5\n",
            "100\n"
          ]
        }
      ]
    },
    {
      "cell_type": "markdown",
      "source": [
        "## Library\n",
        "\n",
        "Sekumpulan kode yang memiliki fungsi-fungsi tertentu dan dapat dipanggil ke dalam program lain"
      ],
      "metadata": {
        "id": "Y5dS-fBPn4bt"
      }
    },
    {
      "cell_type": "code",
      "source": [
        "# deklarasi library dengan fungsi yang ada di dalamnya\n",
        "import numpy as np\n",
        "\n",
        "#inisiasi vector dan nilai skalar\n",
        "list1 = [1,2,3,4,5]\n",
        "vtr1 = np.array(list1)\n",
        "scalar_value = 10\n",
        "\n",
        "#operasi perkalian vector skalar\n",
        "vtr_scalar = vtr1 * scalar_value\n",
        "print(vtr_scalar)"
      ],
      "metadata": {
        "colab": {
          "base_uri": "https://localhost:8080/"
        },
        "id": "2Xw8jZDLoEpY",
        "outputId": "311a207c-5dab-4719-d5c4-37f8b65fd5cd"
      },
      "execution_count": null,
      "outputs": [
        {
          "output_type": "stream",
          "name": "stdout",
          "text": [
            "[10 20 30 40 50]\n"
          ]
        }
      ]
    },
    {
      "cell_type": "code",
      "source": [
        "#deklarasi library dengan menggunakan nama alias\n",
        "import pandas as pd\n",
        "\n",
        "#membuat variabel dataframe(df) dengan isi list nilai dan nama kolom \"nilai\"\n",
        "df = pd.DataFrame(nilai, columns=[\"nilai\"])\n",
        "df #dataFrame"
      ],
      "metadata": {
        "colab": {
          "base_uri": "https://localhost:8080/",
          "height": 206
        },
        "id": "8VL2Mt0Jpe3l",
        "outputId": "bd803e21-1ee0-4015-9bda-19abd7319566"
      },
      "execution_count": null,
      "outputs": [
        {
          "output_type": "execute_result",
          "data": {
            "text/plain": [
              "   nilai\n",
              "0     70\n",
              "1     80\n",
              "2     90\n",
              "3    100\n",
              "4     85"
            ],
            "text/html": [
              "\n",
              "  <div id=\"df-27ff62b1-ae6b-4b91-a0d3-c243f7fe6ca4\">\n",
              "    <div class=\"colab-df-container\">\n",
              "      <div>\n",
              "<style scoped>\n",
              "    .dataframe tbody tr th:only-of-type {\n",
              "        vertical-align: middle;\n",
              "    }\n",
              "\n",
              "    .dataframe tbody tr th {\n",
              "        vertical-align: top;\n",
              "    }\n",
              "\n",
              "    .dataframe thead th {\n",
              "        text-align: right;\n",
              "    }\n",
              "</style>\n",
              "<table border=\"1\" class=\"dataframe\">\n",
              "  <thead>\n",
              "    <tr style=\"text-align: right;\">\n",
              "      <th></th>\n",
              "      <th>nilai</th>\n",
              "    </tr>\n",
              "  </thead>\n",
              "  <tbody>\n",
              "    <tr>\n",
              "      <th>0</th>\n",
              "      <td>70</td>\n",
              "    </tr>\n",
              "    <tr>\n",
              "      <th>1</th>\n",
              "      <td>80</td>\n",
              "    </tr>\n",
              "    <tr>\n",
              "      <th>2</th>\n",
              "      <td>90</td>\n",
              "    </tr>\n",
              "    <tr>\n",
              "      <th>3</th>\n",
              "      <td>100</td>\n",
              "    </tr>\n",
              "    <tr>\n",
              "      <th>4</th>\n",
              "      <td>85</td>\n",
              "    </tr>\n",
              "  </tbody>\n",
              "</table>\n",
              "</div>\n",
              "      <button class=\"colab-df-convert\" onclick=\"convertToInteractive('df-27ff62b1-ae6b-4b91-a0d3-c243f7fe6ca4')\"\n",
              "              title=\"Convert this dataframe to an interactive table.\"\n",
              "              style=\"display:none;\">\n",
              "        \n",
              "  <svg xmlns=\"http://www.w3.org/2000/svg\" height=\"24px\"viewBox=\"0 0 24 24\"\n",
              "       width=\"24px\">\n",
              "    <path d=\"M0 0h24v24H0V0z\" fill=\"none\"/>\n",
              "    <path d=\"M18.56 5.44l.94 2.06.94-2.06 2.06-.94-2.06-.94-.94-2.06-.94 2.06-2.06.94zm-11 1L8.5 8.5l.94-2.06 2.06-.94-2.06-.94L8.5 2.5l-.94 2.06-2.06.94zm10 10l.94 2.06.94-2.06 2.06-.94-2.06-.94-.94-2.06-.94 2.06-2.06.94z\"/><path d=\"M17.41 7.96l-1.37-1.37c-.4-.4-.92-.59-1.43-.59-.52 0-1.04.2-1.43.59L10.3 9.45l-7.72 7.72c-.78.78-.78 2.05 0 2.83L4 21.41c.39.39.9.59 1.41.59.51 0 1.02-.2 1.41-.59l7.78-7.78 2.81-2.81c.8-.78.8-2.07 0-2.86zM5.41 20L4 18.59l7.72-7.72 1.47 1.35L5.41 20z\"/>\n",
              "  </svg>\n",
              "      </button>\n",
              "      \n",
              "  <style>\n",
              "    .colab-df-container {\n",
              "      display:flex;\n",
              "      flex-wrap:wrap;\n",
              "      gap: 12px;\n",
              "    }\n",
              "\n",
              "    .colab-df-convert {\n",
              "      background-color: #E8F0FE;\n",
              "      border: none;\n",
              "      border-radius: 50%;\n",
              "      cursor: pointer;\n",
              "      display: none;\n",
              "      fill: #1967D2;\n",
              "      height: 32px;\n",
              "      padding: 0 0 0 0;\n",
              "      width: 32px;\n",
              "    }\n",
              "\n",
              "    .colab-df-convert:hover {\n",
              "      background-color: #E2EBFA;\n",
              "      box-shadow: 0px 1px 2px rgba(60, 64, 67, 0.3), 0px 1px 3px 1px rgba(60, 64, 67, 0.15);\n",
              "      fill: #174EA6;\n",
              "    }\n",
              "\n",
              "    [theme=dark] .colab-df-convert {\n",
              "      background-color: #3B4455;\n",
              "      fill: #D2E3FC;\n",
              "    }\n",
              "\n",
              "    [theme=dark] .colab-df-convert:hover {\n",
              "      background-color: #434B5C;\n",
              "      box-shadow: 0px 1px 3px 1px rgba(0, 0, 0, 0.15);\n",
              "      filter: drop-shadow(0px 1px 2px rgba(0, 0, 0, 0.3));\n",
              "      fill: #FFFFFF;\n",
              "    }\n",
              "  </style>\n",
              "\n",
              "      <script>\n",
              "        const buttonEl =\n",
              "          document.querySelector('#df-27ff62b1-ae6b-4b91-a0d3-c243f7fe6ca4 button.colab-df-convert');\n",
              "        buttonEl.style.display =\n",
              "          google.colab.kernel.accessAllowed ? 'block' : 'none';\n",
              "\n",
              "        async function convertToInteractive(key) {\n",
              "          const element = document.querySelector('#df-27ff62b1-ae6b-4b91-a0d3-c243f7fe6ca4');\n",
              "          const dataTable =\n",
              "            await google.colab.kernel.invokeFunction('convertToInteractive',\n",
              "                                                     [key], {});\n",
              "          if (!dataTable) return;\n",
              "\n",
              "          const docLinkHtml = 'Like what you see? Visit the ' +\n",
              "            '<a target=\"_blank\" href=https://colab.research.google.com/notebooks/data_table.ipynb>data table notebook</a>'\n",
              "            + ' to learn more about interactive tables.';\n",
              "          element.innerHTML = '';\n",
              "          dataTable['output_type'] = 'display_data';\n",
              "          await google.colab.output.renderOutput(dataTable, element);\n",
              "          const docLink = document.createElement('div');\n",
              "          docLink.innerHTML = docLinkHtml;\n",
              "          element.appendChild(docLink);\n",
              "        }\n",
              "      </script>\n",
              "    </div>\n",
              "  </div>\n",
              "  "
            ]
          },
          "metadata": {},
          "execution_count": 16
        }
      ]
    },
    {
      "cell_type": "markdown",
      "source": [
        "## Tugas 1"
      ],
      "metadata": {
        "id": "OUR2UyJWJyRN"
      }
    },
    {
      "cell_type": "markdown",
      "source": [
        "### Soal 1 \"Perkalian Vektor\"\n",
        "![Picture1.png](data:image/png;base64,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)"
      ],
      "metadata": {
        "id": "1vnWpeVBJ1c4"
      }
    },
    {
      "cell_type": "code",
      "source": [
        "import numpy as np\n",
        "\n",
        "# inisiasi isi vector dengan nama matriks1 dan matriks2\n",
        "matriks1 = [1, 2, 3, 4, 5]\n",
        "matriks2 = [2, 4, 6, 8, 10]\n",
        "\n",
        "vector1 = np.array(matriks1)\n",
        "vector2 = np.array(matriks2)\n",
        "\n",
        "# Operasi perkalian kedua vector\n",
        "resVector = vector1 * vector2\n",
        "print(resVector)"
      ],
      "metadata": {
        "colab": {
          "base_uri": "https://localhost:8080/"
        },
        "id": "5c6o5BaFKe6P",
        "outputId": "f2a2f402-5ee0-405d-a12e-64eae161daa5"
      },
      "execution_count": null,
      "outputs": [
        {
          "output_type": "stream",
          "name": "stdout",
          "text": [
            "[ 2  8 18 32 50]\n"
          ]
        }
      ]
    },
    {
      "cell_type": "markdown",
      "source": [
        "### Soal 2 \"Data Frame\"\n",
        "![Picture2.png](data:image/png;base64,iVBORw0KGgoAAAANSUhEUgAAAgAAAAD2CAYAAACgLD/XAAAAAXNSR0IArs4c6QAAAARnQU1BAACxjwv8YQUAAAAJcEhZcwAADsMAAA7DAcdvqGQAAJWGSURBVHhe7P11kB1Jnu8Lrq3trq29P3bXbPfZ7pt373vvzh3o6e47PT0z3QNNVd3VUNXFICoxpKRkZs48yczMoGRmUjIzMzMe5vNdj4iTIClTVKouleQfs5Ai4kQGuHv47/tz9/j5/wkUCoVCoVDeKjQEKgAoFAqFQnnLoAKAQqFQKJS3ECoAKBQKhUJ5C6ECgEKhUCiUtxAqACgUCoVCeQuhAoBCoVAolLeQJwWAUoSOliqMrInYzZWZCUytHrDrfwnU8gM01xQh9UEBJje4e6BQKBQKhfJqeVIAiCZx/d0fQzeynN3MCXCGZ+4gu7482oWiglKMLXCCYHNzCZMTwxiaX8XiSC8GJhbZ/ZBsor6iEA3t49w2FFhZWMP6yhzqKorRO72p3f8kYz11SCPXKM2Lh56eGyb2lNpfKBQKhUKhvCqeFACCCTjrXIOrTyxW98Uoj/VDZPUUxuoy4OwZhKzMbDgYWaBxbBPJwXdh6uIBHV1TeHvYQcfWC+tbK4jx8kFmYRES/DwRW9lLTiqH291PcdnCkwiIDNzTMcLDqT3ueo+h0f4PyOCqcwuFo3ztNoVCoVAolFfFkwKAPwa7e8Yob6hCU0srChOjEJNXCQ8bIzQsqNhDenN94RCcgoQgSxTUNcHJVh9lHd3guTsjMzUad019MT2/iMHKKJwzcoBCrYS38TUkt6+zfz830oqJ9acb9vnODHxy0xLzQrV2D4VCoVAolFfFqQLA6uY9jGzsoaYkDR4ewUjMzoeDnQdGBdwhcw0xcPUOR0wsD/VdnXB1MkJtdw94PGdEh3rgqp4F0tJSkZQQj5zqTuLVC+BjZoqCwV3uBM9gd7Ie596/goKRLe0eCoVCoVAor5InBcDBMPS+uIgBYux3B+px8fefIaJmGGVRPgjNbsXq2hKiHS1Q0jyK2EAz8n8zrMxvo7ytDeamlqhvKYYNLxDzWyJIpFLtSffgoHMbmd1n9/0fsjJUhi9//j5CM5qxu78HgUSu/YVCoVAoFMqr4kkBIFlDTkIyFoRkXbOOaJ436sf2oZbtIDU6AC6efsiu7QPTGdBUk4uR2VkUF2ZidH4eeTnZxNSrMdVcDj93b3j5eKO6d5ocqUZFViZ6l5iTPp3+8kgYm9giKjYSPv4hqB9c0v5CoVAoFArlVfGkAKBQKBQKhfLGQwUAhUKhUChvIVQAUCgUCoXyFkIFAIVCoVAobyFUAFAoFAqF8hZCBQCFQqFQKG8hVABQKBQKhfIWQgUAhUKhUChvIVQAUCgUCoXyFkIFAIVCoVAobyFUAFAoFAqF8hZCBQCFQqFQKG8hVABQKBQKhfIWQgUAhUKhUChvIVQAUCgUCoXyFkIFAIVCoVAobyGnCoDtpRkMDAxjcmIEvaNTECm0P3wDNPvTKMwtgVS7TaFQKBQK5bvjVAEw3lYNX0t9fHnuHmJzK7ApAeRKBTRQYnlmClsCzowr5TL2/+21BSyuHrDrGqUcYjG3X62UQSpVQibaxUhdPHRu6KJ9cgrzS6tQaNhDKBQKhUKhfAecKgAY9nrL4OCRq90CqtPsoGvGQ0q4H6ztXDG5I8dKYyb0rhkiJC4KVsZ2qJncgGC0Fk5uaezfrHXkwT8gD5vz3Yjg6eOzT76Cd0gwkrKLcaBkD6FQKBQKhfIdcKYAWGzKhY1LGtTa7YKAOzD1L+TWfUyQ1rqEhZoEXL7Bg5zsW29LhZVvNlaG6mFpE8cet9ycAUcHbh1bHeA5ekPMbVEoFAqFQvkOeW4BkBdri4SH4+x6UZAlsloXMFebDL+wMnYff6QIru4RmOxtgp1jErtvu7sAbi6JYFr7pbO1cLLjYYf9hUKhUCgUynfJmQJguSkb5g4p2i0gO9wUYRUD7HqujzHSmzkB4BVUzO5rSfGFV3wzdidqoGsWRIy+Gjl+93HROpr9Xb3bD6tbxhg7OJQUFAqFQqFQvitOFQADNXlwNjXEzZt68IrLwpYcaC4IRk7bFPt7fWoAqgbXsfQwHZc/vQGeBw/+EYlYZYy7bBuJ4c5wcAlFoI8rwrLKoGL/SobqmECYG9kgPCUH+3QMAIVCoVAo3xmnCgCFVAKRRAqVUgaBSAz1GSP2h4oi4eSeBj6ff9RVcIhAcHpvv1QkgFAseeJ4CoVCoVAofzlOFQDPy1hFIoIiy7VbFAqFQqFQvi98IwGgUjDf+TPfAFAoFAqFQvk+8Y0EAIVCoVAolO8n30gACDYWMT27rt16OdYnu9DU1Y/XZUzg/so0yvJyUdXYB8nR2AclJgYeYnZToN1+OZbmxrG0y42N0Ig2UFXfhA3hyScn1xnswvT6y11Htr+I7t4OiLhRly+FRrqP0ckpSLWDNJYne1HbxX3+eYh8fxWdvQMQvWSmLY23YmRuVbv17bE82Yeh2Q3t1ouhke6hv7sRW+JnhaxUY6SzEv2zW9rtY9TkHJNjE0dpyV+bQHljD6QnTqkSbaK3uwV7XPBMltmhNmTnFqBrbFm7h0KhUF49TwoAlRSzE/3Y1dZSy1ODWNjiwvw+zkBeKJy9jqMFvgxDxf6w9gp5beYIqIu2wT1jDzS0DZ+oqIWwufjP8C4Z1W5zzI0PYmRmU7v1bBICzRHZMMltHAzjjpEVupZPDpYUwvL67+CWP6zdfjE2O+LxwScfYVqbmJLdRbQ11aKqshoDk89pCHf7oWfngEXtOTqKw3HfK4Pb0LLbnYZ3Pr2AaZF2xwsSZ/5b3PPP0W5xbC8Mo7ysggiLmVc2QDTe/ktc98nXbr0Y6vUOnPvg56ia5VQOn4jd5jqSltVV6Ft4NJpFuu9thBb3a7dOsNsDO0MLLGiN+0Z/Aa5a+GPnhECTzVTg0w9+hfYTxWhhrBvJgRa45RjABtmiUCiUb4MnBICGP4FrH/8jgioYg7GNO7/7EZxSmtnflmaG0dzcifU9bnagoeIYBIbkY3a8H/0jx96KZJd4iC0txDg+anTmRnrR1j4IvoSr4vfWZtDdM4CtfQm7fYhgdQ6tTW2Y3yCesEaGrc0t7aeEDEpsr22BqVMVwi30tDejf2KB+0kLf3cLW/yXkxR1sY6IK+LiHRwjQ1qAFwp7T7R2CBdgc/9D3HAIBxfaQAnRAR+i/XV0tHVhm3/sHgs3p9De1gZ76/tIal8iLjQffT3dmFjcgPIRB1OOxBB75HS9nOcnmm2HKy8KW9pztmQ64LqpHTIzsuBgqIey3iWoZCJsb3OCTiEWYEu7zniy08OdaCqKxw0bd2yRLN5ZnUVnzyA2HktLyXwzbDx8sPmSLQB1ySGIKurTbgEjtdmwtnZEUmoasvPrsbrJiCI1Fid60NzejY3jphiCGpM9HeS+xiHVFgrx3ira2loxMvloa1RNhjeCCzu0Wy+IcB4+rr4Y2uGuXRFqifumXsh88ADWepZILx8hezVYmuxD3/AkhPJHm11m+nvQSN4PEyMbbJC0ZO6xs6sXi9t87REcmu1ReLgGYkao3aFFOlsOG99AOnkWhUL51nhCAMjWe+HloIvwlGL0dPUg1NkCSQWN2NnbQl5ePuJiw2Bh4IrxPRUWa5Px5ftXEJmaAkdLOxT1EeOmEaOzvByZCQlwNTNE5sMx9rytedHgeUciOSUD1Z1zbHTApeFG+Fndh55r+pGB3xhpgrOVB1Ljk5Fb3IWDtUF4WTlhQaSGUCglp58Hj+eHqV0xpjpKkZ0WB56jKUIKO9lzMobY487HuGifx269KPVxTgh/0KrdOpuZ5lyExz1AWnQUGsaY2lsEv5uXYegdhYQwP1g7R2CXCIP10RZyv45IiIvDbZ1rSOkmRkq8huzkQHx5Rw9d648ajldJXaY7Imu4VouGKAuEFg5gZ6AULs4J7L6lphzYumaSNQ2q00PhHR6GuBBnnDd3Z+M0zA01w91aB3cDmGO+HTTiBVjr3kXV1HFzglqlwf7qIAoLMxAb7Qdde39M7TEq6wCxkZ6wdw9GUlo++qeJeFHx0VhXhZTkRDgbmiO9epA7ySumLMwGqdVc641ouAiXr5hijQjZnrosmFz/EtElhy0AUtRkhsLHJ5akpQN09KywQ9Jyb3EI0d6WOG/lDfLqPJOtwTxY+QRRAUChUL41nhAAB1MPERcZg/zsOBj6RZHKNQ/RD7hof1IRH3z+DnxNv0ZS5yqW6pJw3ziU/W2qLA52/txxKpkUB3w+2jM8YGjHGZtYOz1Y+BRAKHt0bmH+UDmM3VJwuHeyIgpXLulhfFPENQXLtxAa4Y2BoV5YWDmgY7gbLsE+rIcKpQQC4nWP1sbiuoU7McEMGvTUl6Kyc5bdelGeTwCokRfphaYNYLUuDgGp9WSfDK7XbiGrd5+sS+FmZIfBjX0k+VogTdu+mxXtiLgmLpgSUQHguVuiafHba+TtyHHB5fuGCA4KgpGREyaJ5dnuzIGTYzz7+1JTNuy8CiHY6IShlTtY31Q6AUt3dyxpLc/OUAFMAxO5jW8BwXgpDAxdsH3SyWdRQywQgb+/DKebN5DXf4DtwVwYuoYdNYsrFZwlVcpJOWDKWxYP92xDiAR89ZSH2yK2sJfbEE3B7PpVNK5wN92a5ILI7HZ2XTjdAEtzZyJVCNJR8EiZPcrivX4Yu3qwLQLPggoACoXybfOEANgiHmKoXzrWlidR0zWEuS7iJcbmY7a3HI4OFvAPioDZzXPI7V1jQwH7hpayfzeQHwu38FrI9ucQ4mUFXkAgfGzuw8I9hTXkatEaUrw9cPfqbXjGPjxq+l5tz4MpL+24iV+jQXtBNGxN9GBgEogNkRSZsSFIyCqFP88HKenpiI1Ng1S4iVgfd7h5+yOEZ4bbjv54tCPh5XguASBdgOmVz+ESloY4bwO8d8OCeHUSRFnZoJsd27YJL3MeBhfWEOJpjGatBUgMsSECYIZdh2oTzq5WaF15DnP1hHF8Ppqz3GAbmozJiWkUx3kgIKceqz3FcHPh5mrY7CyCk18pVieKiLEJZ/dhuxdGTu5Y0fZbL7Rnwiz4OCT0q0YyX487V8yw+JhXPFiVA3sTBwSEhePuOV1UjR5grDQU7lHV2iM4xBuTCPcwBi8wAP62OkS8RH9rAiDusNtiuwd3b+lghNF6hJpoB0TndbHra53ZcLSPZddJAsPJwhbLWgEgW2qBkZs3tmkLAIVCeQ14QgAstSTD1iH4yCNfaE2FZUgofAx14J01RNytXTjpfI7UtiXMVsbCyTObPa43KxwukY2YbI7AJT0X1qA3xThAzzqGrCuwubXG2rHNngc4d8kK66SWVirkmCIi4o51FAQyORtxcG93DewQA8UG7K59jeqJLTSEueLDu67o6m2D9aXPEJTQh63RQnxyzRrMePnxMj9cMnPRtgCoEOOoC/OQRw3F8/I8AmCyJhHGlt7o6e1BX18nLHWuIKOpA2Hm5miaZ+TOBhx17TCwJUKOrx2iy8ewvzyCzz7/M8Jbl6BRKyEVzMHMQhfVkwdQqti2jjMQwVvvKiwDirkWkRegNsUerqmVUJOEbUp3hUVMCbZHqmFm7ocD4T4Sba7jplk6pPsjsNB3wPyuAN2pHviPm5bYYvNHxrau6PAiIJXJzowIycCfqsEXf/oaDVOnDxg9E9Ue/O59DV5cPcQSCXZ2diESbMPh7lcIql0mFn4RZheuIqtnD6K5OtzUMcPImgBS8QG2dqQYKwnBl9d4bNrUJ9rhvlXgUdk9jVw/c1zWC4Z2GMpzUxxggqCMNkik+0jwNYN+QDa5pgZymRSF/sbwT26ATK6EZLkDxmb2mN3hoy3HEZ9fvIl1ci21Uo7d8SrctLTHgkAK1dMSk0AFAIVC+bZ5sgVgtBapmaVHlSh/vhXJRSWYHWiDl4UdQlNSERrgiZbpXWz01+BBHmcsZ1sqkFEyALloC0kBDnDzjEZiaDASsxvIryrM95cgwMcR7r4haB5cJF6aBh3FGXCxsYShsTl8oh9gjbjwgr0ZJMQEw9HZC+l5LRCQG5mqzoCDLTOtsBqRznZ40LTIfIuGtGgfOPF8kRwfjJDUAm3TsAq54Tz4ZXBNsi/K8wiAltJEFPcuabcYbzUT8QXVKE9Jw9gmU7HvIzM6FVN8Yr/WB+DmRDzEyAKkZ8WgaUEA8VIHQnydYGxsDFsXHhqGHh3E+DiZzp/j19fsnmrYTmOqhYg3kr7ubl4IDX+A9QPi1itFKIj0h6unH0nnWCRmMemkRid5Jgs7PxRm5CK2OA9CouC6yuPgaGcJA1NzBEUnYu1pczlL5vHpL/8GPmXarxxeAMnWEuK9beHs7IaIhAqIxTLM95TD0s4RCSmxCPIKQ+sk426r0VubBksHZ/gFJmNyXQ65cANJrq5w841ATFQgErIqWPF5Fv1ZDvjH335yNDL/eekvS4SVuR14Hj6IyqrFtphYdek2csOCYGNuBFMLeyQ9aCJHKtFbGgNrFw/y3uQhO+EBK1JnO3Lh4WIDAxMT8PyDMbr+9E8oqACgUCjfNk8IgLedmihbhGd3are+e1Ym2+FhZ4r4yuNR868bGjkfneXxMLTxwOj262uy9pbHEettDffkMsie7oB/5xyMFcDMw/eVdGtRKBTKaVAB8Bg9+aG4e8sQMWmVELwGRmKquxq13RPardcTtWQbdWV5mNl9js7t75D1iQ6U1bez3QWvM331ubA1vQfrkMyntmZQKBTKN4EKgCfQQMTfx96B8LU3FJQ3E+Zrm509PpS0AFIolG8RKgAoFAqFQnkLeSEBcLDUj7jschwGuVMJVlD8IBop2cXYfo7Oyp7GEuQ+fLkwt6ch2ZpAbkokYrPLsCp8e9wlFX+JTfeotHxM77zgaDYKhUKhUAhPCgClCB0tVRhZ40Ypr8xMYGqV+7RLPN8EU/dwbGptjlq6j6GeEhhcuYiHs88e/FWfFwkPNmjOq2G6PgzXDM3Q0juCA5kG8v0VVOXnIicvD4UF+Siqb8POC49Jk6KzqhhpuaWY33nxIVjLo82o6Rl7pPtgYbAO6enpaB9/8RC/yv1llGVn4UFBCZYPOOXFTDIz1NMCY8PriGl++hcEFAqFQqGcxpMCQDSJ6+/+GLqR5exmToAzfAuGIdlbQlVVDYbnNx6LSyNGpL0JGqePvxHbX55ERVERmrqOPwmbHe1CVX0rVvYftciCjTlMzq48ds7nY7IhFg5RD7RbgEKwibb6WtTU1aMq3QdfnNPBzNO/tnoEjWwXicE8pBXU4GFrN/fZ3POiFKO5MAs+Tvfw8R0v9tMvhtG6HFhbuqOSiApbGxtUDjz/5EHKvQl4edkgp7wO5Rn+uOschM3DqHKE1AgHJLXMabcoFAqFQnl+nhQAggk461yDq08sVvfFKI/1Q0jZGMQ788iL5eELIwesnTBCzIRBITZGaJrhBIBCxkdPTQOqiovhb2OAmBLuk7qpwVa4Wd6GUTQXOfCQMrcrePcrCyIjXpyph7FspLvTaE12g3fMiwUDGq1JgIlbGHr6uzH+otPVKkWYJx7+cm8pbuv7caFgNUL4ORujcpZpD5Ai/P4F6LulP/fgQvFCE/Ru6GOJ+YPlDlhY8LB6QpPEBdsiqXVeu0WhUCgUyvPzpADgj8HunjEqGqrR1NKKwvgQBBZqJ1gRjsPCzR1Lj7SMPyoAGBSiPczNzaM20QVGdrFHBm+yIQG2cUXaLY7t2QF09E281Ij7swSAcqsPprf0MHpy3tXnoNjXAnf03FGanQJPO12ElbS+8H1t9xbgup4v1wKgWIIDzwl13V3ITk5HcUY4nO0iX0jsdCSF4h4RZJdvm6Ck41FjTwUAhUKhUF6WUwWA1c17GNnYQ01JGjzcfBBZph24xxhWNw82jO8x+wizM0brAtcscDDfAzcnU4TGxyPC1QRW7ilH3zL3V0bBPrFMu/XNOUsAVIdbwTXiUe9fKRNConh6LL0if0v4pXWz68rZStyx9dIaaw0kYj5Uz9FPsdtfjBv6/tzfaQRwN/0KtzyiMbergni0GA4OkexUxlArwBc/fYDCwUIvHO44oG1oHD2VqTDUccMi/1jUUAFAoVAolJflSQFwMAy9Ly5igLiwuwP1uPjeJwgoG4dCcoCV/lJcMTBGz8ImpEo11HIJttaHiZH6Gjkt8xCI5BgpDcSl+w7gS+WoCLLAPcso4kVrINjbRFmiC3S84rC1s3dkTOuCDPAVMWwvE/HsNAEgWGyG7pW7GH4sKE1DnAF+97kR1p9ic2dbMmDkHoj5tTVUx3nAJ6KUawGQr8Hgz/8B+7QW9rjT0UC4t4Ohsmh8dN4Sk5tbkBGhVJXgAauwQuxsLSDU1RIptdy4CPnCQ7z7zm/woGOR3T6Njc4sfPX5RYxs7mF3ogIffXIDPevH/S9UAFAoFArlZXlSAEjWkJOQjAVminvNOqJ53mia2MfqcCUCfNzh5OwCn6BQjG9LIVkeQ4yvF1xcHOHmHoSG7iWopAIUxvvCyy8euWlpKKxiPGo1GvIj4e7mCicXF8Sk57HzzTNM1KUjMuV47oEXgRUAYY/OVLfYWYiUfGb+gUfZ7ErET374BUaeNleNRoGm8lS4uPMQlV4Goey4A8D/7kf4xOFp8+Ir0ZqTCm+eGxwcXeAfHoXpHWKsVVKUp4eBx3NBWmXLichu+9D55Q/glqOdYvY0NHJ0VUTA3dMTPj7eqBhaeaRLIj6ECgAKhUKhvBxPCoDvERN14TDxjYZKxbQxnM3+6jjCna0RmloF+Qt/bqBEf1sxrE0d8XB0S7vvG6IQoCkzDKZuvpjafmRE5XOigVqlQpi3CWKbZrX7KBQKhUJ5fr7XAmBrtAyWJjpwC0/F/MHZA/4ONqbxsGVEu/WiKDHa14bRFb52+xWgFKL3YQPWRC/z8SP5871pJIW6QMfUGtWTe9q9FAqFQqE8P99rAXCIQqkkD6LdeBsgD6tUvkynCYVCoVAoHG+EAKBQKBQKhfJiUAFAoVAoFMpbCBUAFAqFQqG8hVABQKFQKBTKWwgVABQKhUKhvIVQAUChUCgUylsIFQAUCoVCobyFUAFAoVAoFMpbCBUAFAqFQqG8hVABQKFQKBTKWwgVABQKhUKhvIVQAUChUCgUylvI2yUA1Aqsry1DrHhVMwcpMNbVgobGTmwKXmZa32+IRoG11TUI5WrtjudEJcH0WD/W+c95z2o5VlfWIVZqt78jpPwtrG9+s9kPtxdnMDG1rt367lGIdjA2MgTh4dxOCiGG2pvR1jcO0XPMXb27MoWJ2aWnTod9kv3tFWwLJNqtl2dvcx1bfKl2i0KhfB85VQDsbS1jsK8XPf1DeBm7ttxTh6qHY9qtV0NPRSlax3a0Wy+JegPuzvroWDl7Jr3pliI09Mxrt56CRo6SWC8Y2/khNaMI8zvfRWW4CxcrRzTMv2CFLl+Fvf7HeNC1qd3xDJTLsDJ1Rs/m2UKjtywf3ZP72q1vh9HSELgFZGq3Xo6acFeYWKZrt757hDP1uH/rawztanfI9lBfkIqrN75G+djhzrNpSrKFsVsInlebFURbIrpqSLv18mQEuCGkdFS79XQWBipQ1vF8x1IolL8cpwgAATws9WDiEYXYUDeYekViVUQcE5kIUjlXzcglx+vSg3VMjI9hXasU9jaXkeVtAVO7GExOTmB1++nz6PO3FjA+OQ2B7NiH2d9YxvjY1JH42FiYg7fBfbjGVGBiYgY7fBnZq4RYJGY9H41KDpGYWz+Lg80lTAw0wIw8W88ad+87q+Ta4zMQq9hNbK/NId7xDmx9M9h739gTsvuVkgNMT4xheevks/DhpGeFfrF2kyCRy0mCyrEwNYGtE8qJTwTV+PgE2NsmyGVyCPb2wBeRZzjYxLZI+wN5goXpCcxtPNvLFZJ0nhhtgqm+DZqXOPGxt76I8YkpkNOyKOUyqIjNFu0sYnJmjdtJ7m9lfhKzS6uQaZ/7aeyvLWKirwZ6uvYY2OEEwP7GPMYmpsFnr6PG2tIcfHRvwCe+BpNT09gRcs+jlvFJOo5jce2A3T4NtVJBypYUu5v7UCrl2N5ax6Hju7M6g7HJWYi0umOkLBz+Edns/rn1Y7GhlOyRcjGOlU0uvw7ZWJzG+OwyZNq/52+tYoKcb0/4qKpVCncwPjqB7X0mHVUkX6QnypIaIqGA/EvyjXjr4+PjWN95cQ9aRp7zsGzsaPNbJeVjlmyvbuyy5z9JfIAJCgc3tFvkLqQHmJkcI2Xj+LkFO6skfaex/xwevYpNowmEuOshtpYzxkyLysTYODb3temhInlBnlx6sIWp6XmSEmeTGchDSNk4u36wuYrNPe4emOuMkbK+py3Se+vLRCwYQN8zitzr5CP1werMBCmHhyJHDYmCXF0twzx593YOCzHZv7E4S+qIBRzmmlxB3jNm//w0VrZPlC25ANPkb5dWVrGxucXdv1KEWfLc86vad0qjgIq8FArRLikL83hljYEUyveQUwTANni2rujTGjZLi3toX1ejIcMVifVcxVEa7ojM+hlSg2yjvjQRwQG+0LdxQdvEJvof5sPs5nlcumaC4KBAlLWd3RIw3VEMLzdHBIRGoqyxh33BD4ixLE5Igr8PD3ZO/pjeEaMuPRG3vvgct0ycERgQjc6xHeLEtsDTxQ/M6y+drYGjfyCRLqcz1ZoHdzdv+Pu74fyt+xg90JBKawF5cQnw93KBIy8Mi3w12soTYXD5U1y9Z83ee33/DDRSIfrqsxAd5AMra3MU9iyCvzqK2AgvnP/oPJz9QhGXXwuhRokkL33oWXgiLsgXBuaW6FkSQbG3ipLsGAT4u8PELRAL2wIk+/rCzsEVzsZO8Pe1g75rMjEQYtRnRBEPNxAOTq7IaSHpewYTfSVwcfEi5/TEhQuG6NnWQLI5h4KMaHI+Z5h5hGJZoMFOfxG+uq6LgPhQuJqZISDtIREEuyhOC8DtK1dQM/Z0oTHYlg1nFx9yHRec+9oC40QISnemkfsgCr5+bjBwi8TMDh8VuQm4+dnHuGvqhuDQCHRObxFLIETHwwqEhQTCVt8K2XWne4DC2W64mbnC094W7r4+MDDSRVLDPET708hKj4SPtxOMPOOwTmzz8sNEnD93HYFxQbCxdMTDEXIdiNBYXUzyKwDWetYo65xlz9tVnAxXb38EREaiYXyZNQZjTWWw0b8G+7hS9hiGvfl+BPM8EOwbjMT8NlIuxuDp6IUFYs/UjFWWLsEvlIeJ7X00VhUiICAAlrp2qBtc4k7wnBTHm0Pf0htJIV6wcvDE5KYE4vUxJPjb4OpdN8w9YsOlCPc2QvGQtoVGzsdASzaiQ31gbm2FlHrunZrsKIWD/h3YBJew22fBX+xDKI+8O4Ek36+fR1LTLNTEWDZkPUCIjz9szKzRNk3KgngC1qbX4BuYCl9HUwSk1uBQmj5OZpAHklvXsTRQgOs6ZmjoXYFoeZSczxs+fr6w5MViYkuK3up8mN/+AufuGCEoOBQlbYxokKAxNxY+HsHwsHFAfs0I2adEuMs9GFj7IDbQC/oWNhhZF2B3aQwPomPh52oHt8Ak7BODPVwVAB0Da6REhpNyYIWmWebeVxHrT56RlIOrn74DPb8HJBWVGHtYjQRSBh3NTJBeN0wuswVvHR04RyaSZ7SHV1QhxFQEUN5SThEAfPAs9GDhm4jEICc4BGeylUBhtAUiKwfZI/L9zZBYzlToREkzLiahItgaln5cRTRRFIWQ+EZ2/WnkBd7Fdc90rvlSrWS9Lo1aQxwRZk2GcPObiKngDGFRoA8yGlfYdQbBZBXsrVzB+EOSqTKYufHInZ+CeBFuBkboZp0pIXx4xuhaYzwNch3mwho+fPSvI7OF85A70niIK+xn1w9RK7lqcKgsGHedwyAh3sNwXy2MrxvgQV03hmcWiSehQKD+RbgltrDH9pQ+QCPrwamIx8GYHyVCSQWXUt2KMDcrxJZUwe6WIYrrG+Bi44W6+mKYm/lij9zTwUAhqVTtsX7oBJ1EugxXK300rDDnlMPD3hUPF8j9qYlnw1gstQQeVjeQ0bOFg/5U/PGqIcjjkmydQmp6GakUOdLcjFDQsardehLVwRRsLYzQwzpYuySt3dHLdgHISZ6T/zQyBBjcQmzVHHMAin1dUNB67LEyyNgDidCrjcRNY3ecaCw5Qkjy8Z6BGypK4mFqE4yybH+YhuSSXxRQMpdT7cHl9k0UDfOx3hqPi7oexHwQUVcZBIdI5rjj6/Tne+O+QyS77m12AbzcPnYdGtWRR7/YFg/bsBTtFjBeEYWvLjtiU2vpVLJ1xHi6YWh8DN52dugb74O/hydWyO8KJXedpmRHGHoks+vPS4bHNVhHVLPrmW6GSK7jhArUq7CycMXQI1rsMQFA3jMl8c6Zh5irjcNtXZ+jtFxrz4Ox59O6RZTI8bZCdBHX7F+eaIfYGm5dqW0Cqo60gkNYHUnIady7/AVa1smFBH2wMrDEymllkJAf6QcLZ09YuPLQvcC0vGiQ42sL37Q2dj3X2xT20TXssUMkr/xyGth1ht3RchiZkPJN0lQyV4s7dyyxIVfBX/cCfB/0sse0F6ShdXybZAjx9Uk50MgWYHvrOtrIazqc64BbliHscR3JLgh+0ImF1kSYeHH5WhtqC7fkTnZdoX3GlbYU6Bn6QCjdgukXV1AyzbwJ8zC/74ApImwplLeRUwTAPnhWpgjMqkdbaxU8XD3RMstHebI9YmuJgiZUhNsirXYKoq0lhNs7wdvTGzY6d+EUwlVw3RlBCIiuZdefhkI4j1A/R+jeuwH/jBpS5QNbUw/h5moPD+8AGFz9Gim1XEWZ4eFO1o+9YsFUNZztPFijr1quh42nF9sa8Dia1W5YGPmBrUo1m/Akhq+feMxro9VwdCYegE8AqfSuIK+DEwB1MY6IyuUqDwalYAPJwb5wJUbAw/Y+7vMiSXXMsA0PMzf0Hw1LIAbRQR9ZXcvabY7NmU642znBy9sPunevIrOuFfGBQajq6oaNkQtaezrgTjzC9OQwfH5FH6HEg/HzdIZ3SAx2uQs9gmarG85mNlhhf9uDuy05x5oS6xPNcLF1hLevP27f+hq5/dvY6UmFjnPgKU25MiQ4G6GoS9stcArS+Xo4WroS009QrsCWrA8JgPWxVniak3TzJ+l2/g5SarjxEpnudsh+uMiuM6hEm8iLdoSTlyd87e7D0MaH+OpPcjBWRu45Gq31OXAJz0BzPvEeYwuxNNROhKg9vAMCcfvLeygf4WOxiXiC4Xns3w1WBsMlsQhK4QYyQm3g4u0NT4ubsHCPZvPnYLkHDnbWuHX/NhKaJti/YRiri4R9xPEYAI1CjLLwAJjq3YeJPfEwJXI8SHVFUm4FvG1JOS8uQLxvCvb2l5EcaAU3Lx+4Gl+BfUDGkah4HjLDLZHezqVVto8Z14LGwJ+EpYU7Rh4ZPvGoAFCKdpDt7wdXngd87M1xzzCSFUEM0/UZMPPJ0m6dhghBFo6oHOfkcWGcDeIbJiDbXUCYnwN4nj6w17sG99iHRI1NwJ7nzL4rmvV2uFjY4azhMkXRbvjZz/8Fep6R2vIlBs/kBm5ZeyGQ5Jm7gwUe1PSwv7TlecE7o4pdZ5iqiMalT24hhHjmAT7usAlJxK5cigBHQxQNMa06x0y0ZMPW0Qk+5PlvX76FzlUNBkp84Z9D7pfQmuqOiJxOCOYe4srFa0jJfACenTuaRsl5pHsoTPaGHc8L/s7G0DMPBl+4Cl8LF8wx9l84CQcjD0w+2nNEobw1nCIAduBMXvwGrbPtZ6yPB8Q41hIBEFA0QCr2DRhe/C1SO5fRlmKPK05MZapBvrcZLLy5ptXJqigYuERxnv2ZqLC3w5kE+WIDLl29iTmxArE25+HBeG4aIfzuX0NsGVd5F4e6wD6+iV1nkMzVwVjfnphA4i3EOeGzW65HleIjCOdgrmuDnn0V+H25+PizO5g6ECPQ5EuE1xLvVU48zBtXkNnEGe6OdG84eGaz6wwzlWH45J4nW9n35/Fw0zGQey75Mhzu26KNcQ1ZZPCxvIWkxpNN92pE2tyEdWo3WRfD3/YqEiseIsrLG8UtrTC/a4OG9mbYmrugtq4AdrZe2D/F6D+CdAk8XT10r6uwP1OCcx9dw8SuGMFmV+FRPEWsxT5cjC8grWsT212JuGzpwbbgPIoScfb3Udj1qMd+EvXBOBzvGWFcoMFqXyo+/1iHGAMVgk0vgZc/Tg7YA0/nFqLLyDUJhaGW4KUdt/osNibii4vWbFoNlwRAx9AFp9Wz+yMlcHYNwcOqdNj6J6Eu24d46LFwNr6NiPpVkqzrsL5yC/n9+1hsiICzbxr7d/2lfnBLr8BMXRzO3fBg97Wmu8DANhgytQaCfa40zFYF4lPi5Qm11nq8LgxWoancBkF0sM3lp3oDBue/RsnAFmrT3XHR0hPN7e1wuHYNEdkD6C70xxXDMPZvKqMsYOaewK4zxjrG+Rq8U1ueKghSAw0QV8+V5XQ3faTWTrPrEE3BxNgZo4/0XykQwruPomHiAROWm2Px4VUbtotssjwU1+8GHompmfo0GHo8vQUg0c0eYVUzUAsXYfDVF0jsWEdvpj3uuHDPUOxjCodgIt6FYzC3s8AySRDNWgtsDS2xfIYASPPnIbaqF5keOrDxLmbHDhQGWiI4u0N7xDGjZZHQI9c6LNo7Y5XQtXbH5iNDMQRwNb2FB13HrXxQbML06kfIGxFBzZ+D2aWraFnSoK/AHa7JFewhjQmOCM9uIfmaB0u7MFRX12FyhStpO70PcO6aLts1uFAXi3v3yfslXIGbnhXGmJ2CMVjec8aENu0naxJxz8Aai5InJTOF8iZyigAQI8bXAYa2HvD2ckRkdi072Otgph3ujmbwjYqFp6MNagc3cLDaBysbW/hERMLPxQGRGe3sGRT8ZUS4mcLG2Rn5TWeNOFZioa8VkT4+5DquyK7shJTUoLOt2bC3tkJ4RBI8bGxQ0sn1te4vdsHcygJOTv5oHiCeq5yP3MhA2Du7I9LPm3gwBezfPwmpMCrSiZflgsz4BPiGJ2NOpMbUwzTYWNsiKiIBbuT/uiGushVtTxHRYw5HZxdU9UxDvLMAfw97uPmEICLAEby4PK4iI5VTtHcEhreOhiYhNdQdpX0nKjDCXHcxLKxtEBEdCVdXO1R0DSI/JQVNg0MI8YpA7/AAQnwjsCqXoCs/AnauHnD38EFhKzfA6jRGatJga2WL+Kx4hHnHYYGohpm2HJhZ2yEmNpzcuy1qJg5wMFoCp9BE1nAcItmYRqKvJ/TuXIOhuRuKas4ana1GT3EsbG0ckJgVR66TxPbDz7bnw8DSHrGJEXCxdCT5wwmn/blWuFoawMXDF60TW5DsrxLxYwdX7zAEB7jCKyTpqPvhJMLZZsTGZ6GvoxIR6aXork1CSF4dhpqLYGjliMSkMDgSgdQyK8Z6bx5i07iKf7IlDTHFjRDvriDY3Bo8/0gEeDsgIC6f7d4ZqSxEoIszvHwDUNk1S55GgYbCJFib3sfNe3oITcrBLjFu/M0hJMX4wIl4wlEphdgRqzFWFYcbxqFQaWRwt7qJ4Lp5iLem4GtsCY+QWPh52CIstZy9D4ZIk0/xHx+6Hxm406jI9EdRD9dCUpngR8rbBrbG2xBIysSNG7dh7RmKrgViiQ5mERXihfs612Bs44ziduKt7y/Dz9MJjt5BiApyg7tPHinVGrQWpMLe1ADXdQzIc+diS3K6BNmZ7YCThQ0p64kICw5H2cgOBKu98LQ3hXdQAoKc7BBb0Ete/XmERIZgk9g/zfYgIvxDscmqoyepSI1FNiMgpTvg3TREdiO5z60ZxPg7w5XnDs+QeIxvcB0V8oNF+PGsYeXMQ14j098vQ0tZEhzteXB390Z+DdO1SIRKsDtqGM/9CDla84hgs3VCbHg0nG2cyPtG8v5hIuLLmK4GoK84GllVg1gcrICJuQnCIqIQ4OeJqIpuCPdWkeBjDSf3IET7eMIzKAMiyRYSfMMwz9waed5Qr1gsavtTDnqy8Hc//A+U0T4BylvCKQKAQQOJSACB8NFeW6a5VPT40HG1nBx3mu+tgZDPh0R2hguhRSwk1xE9+vcqObmO5JSaR6MAny846vNlEAmOXaeneWAykZDz9E6glAohPnUovAoCcu+HXzowxlAgePl2QjV5HqHkEXfnTKQk3fnkmSSyM2peLXKJ4GgE8+Fzq2QiiKRP/zuNSsmmmVypglQsgkT69PyRigVHXQga7YXOvA4pC8y9y9nOewYN2X75dFNISP48V4wDFbnO45W2mi1/oqN01EAmIfdN8oH5OkJIyhzRCSzMdfj857hPjRL8x96JjaVJBFjoIzTrSc/3WaiVcgiFIqiYPBEKIVeRG1Jr10kZl4qFkByVQc0TZVAuYd4TGVQKGfsOHT7PqSikpKwf5wvLme/uiyM7SmfyrpB0F5DnUjLPcwS5/8fqAzl5PuZ9flYZlJEy+IxDkOx6E+4pXLfAXn8WPvriDua1ilNA8vZpScOgFO2iMT8SBmZ+WD387IRCecM5QwBQKJRno0FPQylySpkuHsp3yXhjGuzsrBAcHAJ3V2ekFbUefU76PEg2xpGUnos1ATX+lLcHKgAoFMobgWB7CVNT01jcODvuBIVCOYYKAAqFQqFQ3kKeLgA0cqKox7BzGCrvlaLB8uQ41vdOGxr2ZrI0N46lXa4PWSPaQFV9EzaET/ali3eXMDH3YoFmvhEqEabHRl8q7PPjbM6TZ9w4NSLDN0ayy0S+e/64998E5vPCpvoqbIi0V5PtoaGyCAW1rdiWPLuZeKanHZ29zxFS+gwUB0toeFhLrqXdQd7F/rYKDC8dfi+owuL4GDYPXkGmPYIK/V3N6Jo8ni9hfqgZubnFGFt4dihuydYU6psawX9an71cgPGRaYjf6NZ2JebHJ7H5vPNtPIZgfQHTc88zZ4UGkwOtyMovwfDy0wN7PTcaGfqby1BQXIfV/Se/ITrJxnQn8nJz0Dd1/Anwd4lSuI7KknyUNffilKr1MZQYbm7CwPjZX0M9DbVkE43lpA4XPGOAynMiWB9HSX42mntHnxiv9ghqMToaK5FbVoflb/j+P6MFQARnJ2NUT589KravJBelbS9jrJSItTJGtvbzu2fRmvMAtYPcSP3vKwmB5ohsmOQ2DoZxx8gKXcuPDipjWG6Lh7lftHbrm9FXlI6ak59WnYZwEk569x8LRvNylIdYIDKPC+byqlloSIWtbfTTX45XhHpnBHbGN9nPLVnkB2ipL8Tl29dQ8OhH+6dSEeIBj4BK7daLw3yGZ2aui8GjQfEKRLtdQ3yd9vNBiBFuaoTC553P4QWIDbCH14lBjYtjHfC31IOxf7F2z9mIJkthYm2B+aeNqdzsh+k9F8y8mvGH3xwirib6H6Kquhb19fVoau7E8tbLD17lEMDfxAqFfS+XP/05QXDx5mJePB0NZka64GWrA6Po4wiX3wgiAIY7amF84ybCKrT11RlszfUh0VMfRvYhbByX7xqlaBP1Zck4d+cu2rUh389Gg1RHO4SndWm3XxDhOGyukDp88dg+Tj8sQ071y82DI9ycQmmiG27fNTs9CNwhagl62+qhe+8ywhsO64OX40wBsDk3iLaWCtwnlUzjIuelL80Mo5m8HOv73N0tjgzCx/AuTNyT0d7WhYVVru+N8dQ6W1owMvM0ZaVEspMVCtq5F2RuZAAre5wxlOzMo7W5Dat7nLqZG+qHs84t2AZlk+v0YPko5rsCw73t6BnVRlUj2/t7Ioj2N9Dd3oalw9YF8oLPDHeguXMA2luHQCSCWLiPIXLc3ImXXXawjvb2DgwMD2NiYokdAS87WENXWzOGZrSGVCUDXyrFweo8Ojp6tDHxz4bJ2Pa2Nthb30dSOxFLcj76eroxsbgB5Ul3ViVEX3cHcqIcYBHEfauukuyiv6MNPUNzWs9XgwMRHyIB2d/eipX9YwGxMjWIlrYObAo5ozU3MQgvveuw9U5De0cHFjbP8MxFU/C1sULn+BzaO3txUlRuTA6hpbUfhyJXKNiHQCoiedKDvvEFbidBsrWETvKMAVa3EV/OBYySCzbQQe5xcPSkyFNgcrANHX0jEB3VGDJMDfagrWMAAm1a8vn7EEqFmOrvOkr35eZMODsnsuuS7UWMjHP5Lt1fRVtbK0YOvVaVFGKBEPub82hrH8Bjof8fQSg6gEgqwBhJ96kVTmAy8eyHerowvaCNJ3+CUH9bFGg/GWVQibbQ30k85tHD/AHWZ8fQ3T+GPfGLV4lKMcnXnk50dPZgbnVT+2mhHLNj3RgYm4FEceg2SxBrY4myfk6MzAwfzu6oZmd6bG7pJddnfzoV9osImRQLQ73onzz03lSYnxpG79Ak+I99HTNZkwbrR0IOk2NH+0nZ6MGO9vNDGX8Nvd2kHljfOUqLU9kago2RJxaZS8j3MDgyxs4DsL+1De7jEgW2N3YgV6shOBBATPJotK8VYzPH6b65PEXqojbMr3Hvrpy8z1KRBIuTPegZO+GQKIUY7OxAz8AQxsamyXOd0uzAerzFyMrORVFRDm6d/wjxDVyEy8cRCg+wub6Exe097K8tYH6Zq7/kfFLntJKyPnEotgUIsXZE2QhTJxIvfXQAG2yziBpzoz1oIfXG05zroaJoBATnkXzvR//IyfdHjfGBTnSRPDr5JOP1cbBLOBRopI7Y3oKQjWegwf72DgRiCXkn+FiZWcDuvhAr8+Pkfp7uPRZG+CCsXPs5Mqnztsg52S+PyPu1valdJxwM5cPNPfIo3gh/ZxsH2rLPJ38j0K6rRdvoInZheOLsCKRPY3GClOvOPmyJjsumZG8ZLS2tpK4/qSYFcOfZoPVEEAvp/jK62pvRN314baYFbQi9w8w8NIfnU4MvJnUrf5sY2DZSt56tUFXSAwx3M3X45lEdsTo5iihbY9yzDif1fSemF5kwairsbG6SskxW1XKShtr1s9gfgBspN4cBuMQHe9jR3od4fwd7B8f3lBvnjChtbJFH8kQlOc4rwur4IFqJ3dw6pSI8VQD0N+TC3dsTcXGROK9zH+1Ejgj2FpGXm4+42DBYGLpjaFWE7rICmF67hNsmPMTHpaJzaBVKYtw6y8uRmZAAVzNDZD5kvvs9DUYA2OPh+C46ckNxR88Bg4t72BrtgJe7N5LiYkmhCkH/ygFaC3Ogd+kCdG19yXXSSYVF3CINH2UxPgiKSUS4nzOSy/rIw/DhqHMeuk5+SI4LgY6BI0a3iLFe6kJufjpiQ3kwdI9hw+0WRFrimhEPOQkRMLGxwxB5RvX2CHg8W0SQe7/+/h9g5FkAhUqMwaYCZCXHwcnOBPHMfAiKNZjqXYGLbypi/O1hG5wK/hmZujzUTM7piIS4ONzWuYaUbmKkxGvITg7El3f00KX1MDWiRaT6OiEkIRG+9vdgGvSA2Yux5kbkpSXDz94UwRn1ZI8a8e5f46aJF1IiA2Bt64XZAzXE69MoL8xAQmwgDJ28MbohQVtNAYyvnIOuhRcSEpMeadZ9BNkSXO7cIqIjCBEB7rD0SGObZ8dac+DrEYGEsGB4eyXigNxqW6Y7Pr+gg5SEVDiY6yCuehQHy73wdeIhKTYO5re+QkI1UyglaG+qRVpqEtxNLBBbyKhsDSoTveEdHIG09Ax0jnGV7CoRKkXp2YgNdIWDZxT2yLWrY23w5WVDpCcmw8r4Dh50zmK7pxDe/vkQrg3D5PodxJe0kMLOeOZVSElOhLOhOTKZ/JEvw/qrC3CIyUCklwtcSFoetuQ/TlWiKS7dsUNOciysLazQNr3LNr8XJPvgwmVz9G8fVzaM1+3nRby6YW1TODEuY92lyMqMA4+IWZ+MJrZSHm2phK3BZTgnc5ExXwTZ7jxyM5OREOWNO7fuY5z9ylWMloo06F35EmlHip8IADs7tM0K0JTqh3vGrhhdF2FtbZo1ZHFhfrC0CMA8k2mnMNOYhK+u30dmUhocbUg6NzEVvQId9UXQv3sZnkWPtuL0FcXBOuTYw9xYnERpeg4SInxh4+CN2X01my/pITa4fc8cy0+zLVuDcLAMxZZkG1EOX8I+ooCIlTUEmtmgl/EZVKQ8GrtjTqhApp8FPrxrheTUWJjdNUb5wDLk5O9KiopI/RQLS10bdM4eYKsrH1fP6yA5N5mc2wpJdcRzVfOREeSJoIhE2N/5HJ9ddcKqVhyfyXYXbEwcsHhGgcmMNoGpsxv0TWzhzbPHXWs3rPBFGK6rRnZSIniWhkisZEJQKxFu54aWOQma0sygY+uGsXUpdpeGUJRP3tNwDxjzwrB8xlcHk+XxuHXREFFpqXA0tcCDNuadUqM2KQD+UfGIJO9KTHbrkfHpLg0nAuBQoCmQ5GiNok5GnCgR7eSB0pZuhNk4wcXBAVbmtrC2NyaCrvCprWnMhE/hFVoDszMIO2drLoLiTh9cLW1xOAnpSns6XI4EgAbpPDek1HHdX2kuNshjQoQLZhFK9sckJCMlswRzm09Rp6fQXUbeb59QxKWnoKJ7mDwhsZXTrQjkeSAhIRrubr4YZOJoMMjX4OhijbZDKyrdRW9LPrJS42Bva4GYin5ylwp0VxfCUOciQkq1IcNJakS5fo17FiF4EBsASzsvTO+enkIK/gqKkoJI3XGPlFnuOkN15XC4ex1X7juQ+j4ZjV3EQZLNwcvC/CjwlL2zJSafMkZVttwKZytHrGpvvSkpBN7xzez6w1gvhKW0susMqeH2iNa2KKu3euFqYYNF5nY3O2Dj4oAdUoSHajPh6BCE5OQMlNeNHImCQ54UAJJF2FuaoE1rK3y9bFGnnalESjxPPn8HvqaXEFnFXbghJhixJVw0uENUxLM44PPRnuEBQ7vYR5TqMSpkeVjDWM8c9o7RbFxwpvAkuJqBl9IMgeAAKT66sErk4okXB/ois+k4dO1Gbz5075FCuMPH9nA5Ll91IB7QDhzvnkdaN+cpdDWUYJwYQuZaIr6QqNERmF2+ha4VEQp8TeCawgUTyXA2Q27nHhYbiRgI4CLN1Qa7wCebKxjMd/z8Az66CvxxxyUaGvk6TK/fQDObRvOwv2+FmdN6STRSRPJMkaZt5ciKdkRc02FaicFzt0TTIldTjhRHw5bHXXt3IBMOIfHsuoZ4RkxazLem4a6OA/krIMb+a6LMuRczw8cKsdpmYTaGwP4W3MyvI+EhZ1zrIz2RUX3YQnIG0jlY6eigap4pPUpS+d5FcUcffM3uobB3GYL9ddjeuYyCsQP0pLtBzy6O/TPxQh8a24aRFWCL+BruHh4SVRqvnUtBpZBCeHCAobIQ3CIikQle42/5JWxSm058304ghZKJTbC/OQDz67fQR0pudbgFzLxy2J93x9vR1DOHzYFyWOrowoQIu9Lu49YHpVxCPEVS3rJ40CVlSanYgOnFu+hg7LRqBua6zlzFdQolofqwDitj1yuCLRB5NA8EH842rmg7fBNZHhMABA3xjAT7B5hrSsPNG45c6GTCRF0o3BILtVsvwyZ8Lc3QfyIuTmW4DZLKDwW1HCku5jDWt4SjawJ2jpJTAwnxUvn787DWOYe8vtO7zSbKInHL1J9dnyHGw8mHm1eBoSnPH545XKVzyOMCgIGJ4cFcx5kI23ztOwfZFDwsrTF7dq8hk6Gw0zWHqbU+QvLquX3qFXgbWaJHKwCcjdwwJ1Ag0eMWzBO4CJPL/S1o6ue8e5mEXJt/gGT3O/DO7cZmdwZuGHoxRQlLjZGwisiDfL0LRned2eMP2pJx3+0weuNZqJHpro/g7LO7sJK97iOxqA48Oz08aGiHq60pmF4YjVzO1hEDRUHQNQ9lj01wcYK+sREcgqOwe6Q7VFy67c7ATO8aSkdPn/J5pDAShhZR7Pp+Xzru2YRiZbIDRjqmGNs8wO7sQ1y9YIShPa5Gf1wAJNpborCDEwBRjh4oa24Fz8oa5U3VxIGzRVNjPjmnOxsl8SweFQADsHG0PBIALsTYnCUA0txckFyrFQBENOS3b0Oz04Urn95E9eAyN8fHC5Lpp4s7Xhk4kHL1pYY81wOeITzja0j9yEcWj9QXTDRLBuKgPSIACGq5lJRVPnpzg6BjeNxd0ZTtgqDCQ6OqQIj1JURo5zeJtL6PssGn9YuK4c8zRsvisVc+mBOHwNQTXQqCCfDMTLlIn0QA2DmZY+IFBEBjYjC84rgIuA9jPBGazM01w/CoAOiBs5nVkQCwdnZg58mp8DOBrh0R2+LTFfmTAoBktJWDJTi7xIermxWaV9VY7MmHAylUAaQwm986d+SJFAd5ISL/ONqfeGMSQaSS9AwKhp+dLizdU45U6qOo8cDRGH/87R9wKyhPmyFS8PS/hoGzPyLCw+Hn74+yLu46mZ7MXADHhmyyPBxfXLiLmKhIhIYEIiyhGALxOtyMzVD/SG2vRHNWAvEK3BAcFYZb503Qu8pHIREUGQ1c02eGqx0KOndI3VWBry5cQEhMDKwcA9BHFKVsexZBpEB7BQTC39kA+j5JxK6vwMXUB3NMiT8Ygbux0+kVnmYPXi76aNYa+UTiHcU1aUMFqzbh7GqFVu1sKw/jguCVwBXEhbZE2IWmQCPbQ0aEExx9ghDpa4v7Bh5gWlvjAs1QMc4VzLx4J4TVjmC+rxxWlk4IDgnH/btXkN7KGciiAGcklj6jT0o0BW9LUjDZHgIVosjLk1VVBauLl+ERGo2IsDB4hESgf1OGlkxPuCRy0fg41Ii0MEMVM1EAoSLMGvHlo9AIlhHnYwb3wECEuhjC2MaHjQSo3JtASIAHOwd+dDnTaqNGW2EYLJ09EBIejLtX72OICIDKeEf4ZB0XdoaNnmLcfu89vHPdGK2rXB6L1ycQRl5Cz+AgBNjdhY1XEuQkf7zMXbHEJO3uEGyNvY6CwjxOcYI9oqq5Sa5KQqyRUMqtQ7kKBytXdG6cLL1S+HsTz2qES3uVcB1JPHe4ewUg3NsJd+4GsKGpGXpK/MFLfvosfU9FPANPkq4nh70UBFoipeowL5VIttLF73/3PnQjy1jDx1SLAxWxsHW0R1BoFPSvXUD54OkD90ZKU+AawAmf4YJIeAUVsesMlele8M7nxPEh/cXxsAnljmeuM1SbDAtHZ3b2R92rN1B2OCkGMQ5uxDtcOCO9WfYnYXL1PP7wwVfIqNc2tSuX4GNsjQH2eTfBM3XHLBEAycQJCKl8tBVxdbQObg4mCAgKh6PuRUSW9GOlIxPegdwcD+N1EXCMzYdKvgKDK+fgEhAND5JPpd0nw3Q/iWimFgY6llg5rs+fICXMFmVt3fBxNUR5J/GE7SzRNTlD3m0HuAUFIcjZCMYOseyx8c6GeOe378Ml/DDdlOgqS4WllTsp6xG4qXMDVROnG5hBIgD8tMJUNFkFZyJsR9sKcPH8DURGRyEsNAjBkVlsdE6GnrII2CceCjRGAFiT5+XyJMHNG8UPmxHt7Y7OnmbiHfqgry0Xd2yfLgAeBHkgolI7BmC7H7akXlhkKmrhKNytbY9msFzryIArL0pbhzMCwJ3YB06oZfHskdPI1bPzLZXwsrPApa+t0DF1ujA9C41iG/ER/jC49zWskypIraNBsMkV3LMPQGREOPx9AlDSor1X5QacXG3Qvsa9u5KtOYTZOcLbPwABRMToWyaSnOCoTHFESPHheBcJwn1NUclWhFJEORiiavgpAoDU4V5uJmhfOTauzUmh8Ek4IZ6JAPC0MMck47kpZuHk8vQWAMVqG1ysnXA49KgxIQS+idy72J7s94gASItwQMxDzj6qN7vJe2eDFaYi4PfD3sWe60aQ85Ef6w0TndtwDsg7Col+yJMCQL4BD1MTVI5tkwq3BL/6/CJ69qSIMboKzwfE0Kt24aTzOWIruL6hljQ/6Ho8gEgihYJIu+EiX1zQc2GNflOMA/Qso84QAArE2VqipmsB8bybsAzNhESlQlGcA7yzuZDCJ6mIcocZ8UAk5DpKlRr7U00wNfHCyskmPfkSLG7poPzk7B7yZehc/BzZwxIod/tx94tb6Fg6QI6XM3kGLvESiYov6N7CVE087Lxi8PBhIyY2uHPMVYXj47s8tnB3ZjriulMENJIlWN11wARj9PcHYXfXCtMnLnkM8dJ4VsTQjWF/eQSfff5nhLcuQaNWQiqYg5mFLqpJaWCeZ7ImFfft47En2EO8xXXc8imBeLEeF76+iTWimBfrE3Djmi3blB3vb4S83nVIiPflbmuOwaUthJhdhXshyRPZJuz0vkRsA1fZNaa6wSIgE0KJ5GjmxicgAsBZ7x56NyXYmamBoaEdZjc2EERUdcHAydCsQGm0HSzD8rVbDBrkhNjBJ6cLB3sL0D/374gjwmq3NxtfnLNmvYKePC/c1HchclKFDe1I5enqMFwx94OUiByjyx+heFwC6cYQdL+8gt4tDUojLOCU+OiEUvMNKfDwzMJEdyHO37yB4XURpstD8eU1HtvKVJ9oBz27COIdLsPxnhVmmIvv9MOEeIGzZ1TqeZEm8Ge7J4B8XyNEFRJRolZBejAFY10L1M8KuIh2GhVk0h042+shvXOZnRlwbyAbH1zQZyfPWayPwqXLzORJGijkMjRmusA6PBMyORMln2OyLhZ/uHAfUwdH7vrZnBQARCTJpVKkut1HRF435GzriRgRlpZ4SDziMMfLcIwrhlwths3FL5HYtEHEyRIMv/4EBT1c69PjDBXEEnHOtbAMZAfC2ZtpAdBALpMiN9oe9ik17L0zMJETWzKCoU/SXiojz6MRwOHOx4hrXiFCbwUWRDTnk/dHrVSQMtsMy/sGGN2RQXVWaMKNfliZBGJqvh+GH15BVssc1Jp9eBgaoG76APPtiXj/19ewItMg1vU6PAsOm2g5Mp3vw9CHMY5ShFtfhl92J5Zbk2HvzhnekcpA2ETnY3+pFSbOLmh4+BC9E88YbKyRIMFeB4FZ3ARGZxHnR969hha42NxBQXMnHG2tkZEWjBt6XFnvzfCCjlEQe2yIpTPqRmcRoUsq35g6Uo74ML1+AQldu1Dvz0D31pcoOtGadJKBvBA48kidSN7b8kgXeCY1QrQ1DgsjN0zvcb72IQri3TZm+cAo9AHJMznJRRUSnUyQWDOFnYVmnPvN5yhtbmVDPje118HYyhmdDzNw2cSBnUztCZjyRspBnLsNfPL6IFOQ8nYwDkszQ/RtCdGf74X3z11n54xQkutN18XAwtqP9c7VGg0yPK0RWNCPnaV+fPbh75HWQcqGcANbIkatqBBtc5cINO28LvI14mi8j4DiR/P4EUh9ubXEjScTjhXjqxsG2CHVflWsLzGOXPTHQ9i6lT8LUwt91E7z2bp1qioEf77tzBr97gx3XNeNIPU5V9bzIkzgkVHHPSMpTwGuOsgfYFplJAi2uIMydv1JDutwO8vbqJ3cP6pbx8rjcMs2BvtMfctErJXOweG+HtrWBJgsDsPvP9A5szVSRd6fg6kamOuZYobPvT9txL5aBhZCuLcGwyt/hGMaESva/InyMUZAWT/k5N41+0OwvGuEwX0helJ5+MMXptgl9dgGM+aAnFs234hbF3Qw+liGPykACMv9lbC2cUZGYiEScxLYyTJ2hx/Cw9wOoSmpCA3wRP0gN5hCzp+Dr6cT7By8UduxCNnBBpICiBr2jEZiaDASs+rYyvlJVKhJiUfnLCnMsmX4O+qjcmAFSsEWUgL84EFUpE9QGCa2uJpbvDUGdzcHODr6obmfubYK4/WZcHd3ghvPE+mNo+RpBEiJiCQe/skUVqK3Ngvmds5ISYtFoFc0ZnYlaMvPQk0f16VQn56I1vEDzPQWQM/Akng1RHW5uiAqpQ57/C3Eh3nA1TsISXGBiMyrY9VoSlQmO0UsRAtIj0rB2hmZKlwmHpGTA6IjC5CeFYOmBQHESx0I8XWCsbExUdU8NAwtQiMXIDvcj6RbFAqyHiC9tp+82QKUxHvDwcUPyeS5wmOySGaqkci7jBvGdmDmzy/o4ETM0kAlHBzJdeJiEBTij4Yx7oWR7U0jwsMaDm4eqBs441MdtRQlsZ5wdHWFt0cQ2uc4o7+70odAdx5Jd3eExxexk/kM1mYgpfzRsLeSzTGEELHgk5aDB8lxaO1bZgfJPPD2hItnKGJjQhCdTDwycu9jDaXwJ2nrExiA7mnGuqnRX5kEB3tnxEcnISQgDPMCDXoqkvGgXuuNa9kiZTA1jesS6sz1BC8mDyLRLtLc3eDmG4GYqEBSXmtJpbSDByRP1hn7RV7SxKgsbJzeAob2ykQUd3Jp2FGYgPr+ZRzM9yHEwwVGRsawcQtA08QuVHtjiAlyhYmJMSzJvZa2j5JkO0AGKRO27j5ISYxAaEQJMcIyVGXHwNbKBMZmFohMLzoaJCqZqcav/u7vUMgqx2cgX4C3uTHYFkjRKjKD/GFFKmAzSydkFDCRB9WoTIhD3zJ5u8TT8HIwQtPMLhZay+Bi4YDI1FQE+Xuje/50H2+xswYpOZxnMd9agpxiYvjI+1NIvAwrIjyMLKyRkFdN8kyDhgfxsLc0h6EJeTeSi0k50GCuPZ+IIXtER6cg1C8Qg+QFWO1tgB8xMibGhnByj0D/zBne08EcEoj3ytRFW0Nl5FpBWCEe0kx7KfF+HJCQGo+Q4GzsyEgdkR2KvM5HB+Ttz/UiwMoOvnHJCA/2Ip74LHYmGpCRw5WNpf4SUkZbcLA4DEddQ/gHBSPIzw2eQRFYPxxl+hjqg2n4eAVh5mkuMaG2KB7tI+PITotA5/gU0hPjMbm6irwoN7i4hyMpjJT3dO7rj5LEFPQRL1QjmYGtmRPaxvYw1V0EWwdHJCZGwz8kGL3Lp3oO4M+1wdvJEq6u7iQv84lx5fbPthaQutGR1HsexMAz3VUK1OaEwNaa5I+ZJTk2l/Xqd6fJ39vYISo5lqRROvrGxlH6IB1jk0NISMnC1EgTghKJwGDP+ihqpryFB8KCOIImxBtNLmOMjgL9FYmwc3ZDTFI8EmLT2Ov0FhLv38YcxiYm8AvKxDo54f5yFzzcHREcnIyo+DB0zfOhluyiLCuEeMDuCE3Mwebe4TughtuV3+Ejuwzt9ikQ8b3Y3YgwZo4JX39Udc6zxlwp2kZOhBtJC7IEx4AkLyRL7aRudYQRqVvtXDzwcISIdeE2Ikk5cfYORlJMGKmLHpJTHiA3MYSUdSOYWlojsYjsI/dSlhOJDvYTFjnKkiPQc8bnLHtz3QjydSP1gQHsXL2IPeRaPFTiDUQEusPKnoeiWmaeFRUGqnLhaOeIZFI3h5J6cP30SWsw3VwJH0cb9v1x9YjGyLIYkoMFhAcyc5okICY2BNX9pA4XryAt2hPmZiYwtbbHgyqm5ViBjuJ0Uo+6IDk+FmHppRCRa29MtSMo0AMeLoGobJ3E42NgTxUAbysRdjdgncpNBbw7mIOPPr5z5nzo3x1SBPPuI7//jAF9lNcSRhhXJHjAjAi87TMqAAZmrAqDZKYB93XtcaJ7kfKCdKZ64I45N14F0hnc/ox4wtyoSsprgRITA/XsrJPF3c/4VJnyrUAFwAkW+qtgb+UADw8enJ1tkdGuHQDzWiFHeowbaidObzqkvJ5IthZQUVDCNl0+jYOlMaQG+8DMzgn57ccDHSkvzv7yGAKs7OHF84Cnmz2ispuPPjOlvA4o0N1UibaXDMRD+eZQAfAYKokQ29vbEJwxavJ1gOQZzvYhKd9vNBDs7WJP9Gg/L+UlUcmwQ97n3YPTm3IplLeZFxIAapUCYon0jTI+GqkAS4vL2ON/e22tzBS8zGCep07X+gpRKhXHA7A0KkjEkrMHZJ1AIZNAqh349c1RYXdrHRs7fDwyK+xT0UCpUPzF0ulFYAYGKtiBQt8CaglWlhaxtf/tNU8zg5aYMvj8efHNeKQMUiiU15IXEgArnRn403VrrJwx4O2Q7ZlhDDwS/e1FUEMs5GN/79Txqc9EvreA7q6Bo888nsbufA8cLa3Bc/NBRav2E5Jvga2BAly/egnjL/dIL4gSCZE8lAxzA/lU2924/cdbaDoxumlzegR9Y09G48ryuA7LkEzt1jdELUDxgxhcuX0L6V3PWRbkK4hwd8bIox8evBbsDteB55mOZxT9F0a8PYcQews4e7gju6aLlP5vB+FEMa7eOI/+0z8KeOVkxzqjoOdERD4KhfLa8aQA4E8jKNTvKJZ3dbonQoo6yYFqiPY3Mb24/mj4WgbV8adOauLtNsXz4OxbALlczn6G8SJUJNpC18IeHsQQeAQkYF3w9E5TBfvZCwfjpa11P4CZsTO2yX6FUvnU1or6SDc4JXOD/p6JRnnqcx/e3bGzo9Z+psXBpJv4YAuLiwtPjMA8HebvH/XCNUqSjqc8iOIUb10uF8KXZ4IsJqSaRgOFeB/z08sQa+NPqkia1EX7wC6w7JH8YfJta2UO6zuPx7lXQX4UfvYYxlN/lCfvmyEryh5hNcxo2GdB/p4/AXdjffQejm9UK8i1T8l/ku7Pk5Qa5jhtuj3LGVU98TwaNn0O2eopgalF5JEAUKuO74v5FOq0Usp8FvsspsqDYcPL0m49C/WTQVQ0KhwmkfrEQz6SF6QMSgXbmCdlkAu1+2wUjzUVqBSkrJzyOMpTy6AcUd56SG05Hr1/Mi0PYfLnedKIQqF8OzwpAHYHYWlvzkUUIhSFG8E+tQkHy4PwdraCVVjaUdjbpY4yhPiEsJ962NkGYGJzHz01mdD7+nN8dUkXnh485DceBgnSoDjKFTZhT58gJc7fENnaby8jzK8gb2AHc435yNR+qz1YnoO00gGypsJUexGCPB1g6+yKtvltbAyXw83sKj766Cu4Eo8q9kHx6SFgFXy0NdXCSVcHZq7RKK2qw/y+EuuDxYjJ4+5voS0XGYUtEK5PksosBMmpwbCy5aGqj/OcZ9pL4OniCVvTu7it44SxDRl2lgYQ7OcBBy8/lPVNs2EXDxb7EeZuBVuP5GcOAFsebYW3iy1cPSPQPsoMjFGi72EBvBzd4UqWin6mQtWgNNsfIREpCHOzgX98HoQkP6R7S0gOdwHPzRWfXb6CEuZTM+EiEv3cYOLqh9kDLiHa89Kgf/FLfH5ZnxzrjSKtce6pTIGVkTlSKrk4/gzr080I9PSAs60LUvJa2FgIPTnxCA6NRUiAJ9y8E7ElJsJIIkB1aiJc7B3h6R9PRNuxUWCCVUTVa+OJn8HOQi/CSFq6uVri8uWbbPhbKX8GDxL9Ye9oC8/0GojIM6731iPUNwyJib6wdAxAz8JZETU0mGrKgifPGdbGOrhk5onx1XXkRiVhZJPJhB1kBEdhkYjcwYY4+JLnifdzh5t/FBtXQiPhoz4/Bm5O9nAKisMaEaH8wUpYO6aQv5UgJ8QA7onlRJTJsNBfgmAfB5iT/Kkc3SLFcg8JCWGIjUiCh50lYsraID+tDEKG4ZaHxPvXgb6lJ8pKqjG1zMf2WBOiEqrYI9a6y5GS2QjR9hRiPX0RnZYAOwtnVHRzAbHWx5vh5+EMFxsjXL6ji7apHQg3Z5EQ4ANnB29kVw1CRt5j8doAIrytYOcWcObnqgyagxlERrojKjweztbmyGrgAvBsT7UjJsQD9vbWyGjiBsZWFyYgKDwJke4O4MVmYJ9kueJgBWnhPnB3c8OFS+eR00eUnFKK/rpM+Ljas59L9q8wLVEqjDUVwsvFHd5+8Rhcov3zFMp3wZMC4GAc1mbXkV7ZgpaWFvDMLsElo4k5EvKVNtyzdcCSthIZLQjFB58YY1WsQluqHxxCy1mPtzszCL7hFcQjURPP67D20yAv2Bam/k+PjpYeqAeX6Bw0VhfB1dkHi1IVetN94RlSzv7eGOcHt0gmfKgGQj73nfFsYxxu2/uTilaD3aFCONr7Yp+59llun3wfjbVlsL93C/p2wcgtqcDMrgIz9eGwCOTChY4WBcA9tBCC+UZ89OdL6NsRY7kpEQYecVCKV2F31xSjYmC/Kx2X7jqxxjGDdxNW8VxgCqFgl4u7TO5JvdkHXQNnTDylnlPtTsDe1AA1IxvkvlXY3eZjc6QMOpYuWBWoIVpohK6+KZb4MkSa/RlmwbVQqYTwMdVD68wWskOcEF46yKZ5sI8VqXwZAUGuLVsjBvwumrSh8DTk95bUMHhE17LHkvzn9pN8Y4K9WGjTWb0/BQf9u6if2Ydasg5H3Tson9tClYcxvjaPgVilRJyjJRLrZqCSSyHSttSku+o+EkzlWQKAObevnSEqhnehVi7B29IEA5vEmIh3tN8o78FB5zYqJoVYbYzCn740woZEibZMD9hEFrBHPI5qf5TkjzGmZcBmVzIumfsQ71UAd30btLDKdg3u900wxgfqw27homEoJEoF0t2NEFdJDJyMmyiHIdXfCN4F/ZDPNJNyFY2cDB7s/MOwxYRk1MjBF3ItJusdGbhjGACJYhf65/6EqNoFKPYHYErKyfSpXfsy9NdXI8DmNnSMnZCXW4pxImiWW3NgastNeDRTEQtnzywIV7vx5bvn8HBdiN3eAhhYRUGlIXlvoYPKafI8G0248rUBNolIao5zxB17LqT0gUAArjGKlIODUTjq6+LEPEZPstOH6x//Bhmd65Bs9sLcwA6z5N6ZSUgYVKutuG1oii2ZBol2l3DXuwBKlRT+ZnqoGdtGTYQ9wh60seUqIcAEGcxXDCo5hEKu76sj1xsG/lnkdvZh/PUV5PYx768SOwcvFheeQqG8Gp4UAIJJWBqcg29cJh48eADTWx/DNZMLP6ja6IEJUe3LWgEwVBxNvCcuXOVQIfEaArn1nowgBEZxQTlelIzAuzBwCURKUjLcXXnoXNzHQHYoAqK4OM+dmZHwiWeiSCnRVZkLL08f+DoZ4oatL2uED4aL4OwUgOcItYLa6CDElh3PYzBWFwn7CG4WvpnqaPhHl2Jnqg5ubmFsk/PuUA5sAkjlK9+D890bSKrqQGV6EBwjuch4axN1xEjrw8zWDoV9J/o/d0dgZuGJqafc1EpbOrnvGO0WRxcxNh5HYURlCDa3QuXgMlLCrIhBZKyKAvGu5mjoGIAPzxS92r7z6CBb5By2oyu34OVqhFbtjI4Mranh8Inj4qufpCsvGvbadD4YLMId66CjJu+KKEuElbShLs4HGVVc4JxcHw/EV85CLd9FVmIgvH0DYHrzEgIzjwMFPUsASJZa4GDkAc4urSHQxpydlli6MYM4Ty/4BQXi5me3UDbMx1JTLLzDubQerg6BS1w2u/44TKRGJ52rSK/pQHmKOxzYWdKE8DJzQQcTvgw7CDazwwSx3TUpDoiu5Vo9ysKskVA2ApVCiNyYcPj6+MH0/iV45XdDud6Nc+/9Er/8+DpmDxs4NCoMVRTAx8Mbfi6WuHk3GGIiuDzMeFzoT+kMPA3toI3afCqTZSEIST6OeLjwMAe2LlxI25WH6fDxz8feQjvcbMPYSHPiiXpYWcUQky5DCBEPPul16ChJgr1rPFvmD5aG4XpXD8ZmtsgsGyLHaRFNwcPcFCNP+XpUvdFNvHQnaMNAwcnFHB0bcqyPNMGP54NAf2dcJMJqRaZCJtO6180dmersiNr2QYRZu6BliWvqTw83IwJgkZxUhvqcZHh7+8DV8g70fZLJrxp05cbD4KY+rOxCMcFEj6FQKH9xnhQATOx0ZxtSFXOUx5rD5jAkq2gM5jxvHDa8MvGqeX5chdxPjIeTVgAMF4XAOoALM3qS3to8ZGrjrp9FfJAZyhjXjVAYbgTXwi6M5IfCO6aB3ZdsqwvPpB6IZstx7oYNVsUyTNdFQ8feg6sgZ2qIgHFlo9Y9i6JAT4TkHIegHK8OhWUwNwiuMtQQVuHF2CcCwMnBnz33dl8mea5o4hHNw8zKAOGJKcipPJyRi3hZ2tp29mE0Prh+/2iyDCjmYWnth6eF7uFPE/Fw3wpL2m4ClVzBzthm7q0NZKJcgJWpDcY2BIgPMEbhEFOTyxDtaIKmwSkE25ujiRlrp17HjdtX8aD/0NWTwN/DFP0njFBPdhgstHl1kpHSBDgncmJPsdINc0M3rGmfKdbOACXDS6gNd0NiMddtkOXlhsymRdTGW8IkMBtS8R5SiBjzTzmOV50b54LEjrMHASq3B2FubAcmDIhqrR63r13CvEiOAJNrCCochWh3Bc539FE0sI/Fxmi4B3D5M1AeCKeYJ8sYg3RzGNYG+ohITEVBVYM2fzbgqGeFPmL0Nfs9uHr5DhgNVZNki5BSrsWiOMgKWQ0TaExywx2PHMjEB0jz04NHbgex5Y2wsQ9HfoI/9HVDWGMrnijFVxcNMCeQYaklHXd1gyCUrsLNyAXDTMOAeBJuejYYf3xYxQl6crzhHXk8z/7iwwyYOHIitC7OFvpeuRAudsDJwp+NvCYcrYGFVSzkRHT5GVrCNyoJ2bnV4Gvz6XCsyNZEFT750/UTccpX4WtlgYXj3pknUBORY8tz4d4d/iAps46YWRqH3o07qFsQYXu+EfeMDLAkViLd3RWZzVzwlgR7GzT0TiLK3h4lk8z1dmBx82vkDu1jvTEO5/V9IZBK0JbFgwEpzxr14U0okeNngcum8aeOoaBQKN8uTwqAvVE4utpgSjtivSDSArzsdqxPNCLa3w6fXrgE3+hETO/KMFWZCJ9gbhKRwcJ4uIdxk8SIVvphb3wHnsEhqOo6DKajQYz11/jMlPEAziYrWBf3bHmICI+Gh6cfBjek2J9rg4OxFaITImF09QYCHwxCvj0KKwtjhMQmIcrTEHccg1kjTX5gJ6exc/bFg7K6U0NdHlIa5ofIfGY8AYdgaZB4WsYIjEuEje5FeCXVYH/mIdxdQzgBMJAD+5A4SA8W4WNngbi0B3iQnsIaGYVKjummGqTGRCMuMhBB8aXstMOrox2I93PGZ59fgmtkGoaXzuq3liAvxRcGNh6IjElDywAxmopdxIc5wSUoDKGuHkis4MZBxPibEmPMCYA44qU1zYowXpMMI2t3pEcl476ZLspmhJBtjCEpxh9fX/wENt4RaBvnxi8IlrqhZ2AEj8AI1LYx/clKNBc9gJ3+LXx10wypxY3E81ehIycadh6BCA31RWBYDmv0KoLckFLGTUiT6+dFjMAyJluTYWpujZT0bNjeuoKwAiLy5FsofhCFuzfP44a5M0obe84YuCdDSTwP1u4+iEoJgamuCZZESlQne+KeQwDysyJx5/wdVI0JsdwSD+9QzusfqgqDe8LJOQmOkW9NwNvBElGZWXiQkYbc6k6o1FKUk3NaugYgwtsNXxsYYoF46XVpTois4ERgWbg9suqnMdWZg3vm9kjOTION4WX4FvVDNtMEBxemaV2BOHsDmHjlQ7Y7AWtLU/Z9iCeG7I5+BCTydXhZeGCEFQDT8DJ1xORTBEBffgAC4o7FmGR9FC6OZggISSLXvgaHxHIIFrrgbhvCCYDxetg5JECp2kM0zwb+CRnIfpCGpOJa7KuUWJ9sQHJqFCLjIthzLPDV2BzvQVKgKy598Smc/VLQP3V6M4BmZwjG976Ad1gEPH14yH44BI1yF4FuZnAOikJmtCuu6JtjTaZClrcnslu58pTsbI/a0X1MNefA2IyIwrgYGOtboXj0gLw/zTA0M0NMYjr8HHRgzExzrdhDS3Uq4qLDEeLvjazKruOWCgqF8hfjSQFA1Pn+wf7RiF+xYJ+odwXxxJYxNDyCuZkZDA8PY1+qgkomBl/AmVi5WIgD7TqDZG8V/X29mF8/nkyBmU54n3jsT0PK38TE6BD6+8k1TnQNHizPYnhyDjJyYyLtOWQH6+gfGMKOQAQxuf6hgdFI+Rgl156YXSSm7WwkAv4TAX8kO/PoH51hp6uVi4kZVEpxcCBgKyhmWuB9vgArHXnQv+eG0fl5zM8OwfTrT5DayhhsISYG+jEwPnPk0Qh31jA8SNJtdpqk3xi2ibf4NJYnRzAwOAGBdtQ+VBKMDPZhbOqwTUYDAX8PEnZkvgbCA2ad+2WO/O38yj4xdhJIiSuoEu1gZHgI0zNzGCX/r+4et4sIiWfd29OPxVVGkKixMj2B0fFJzEyOYXRm+SjdFiaH0Dc8zU4owSDmH0CkvaCYzycer9a/nh/D8PgixBIJJBLy1yoxZsYHMDE1i0mSn7PLG0+p5CWYHBnAyoEUaokY3KMrMT02gOmlDUhIPkgVTHkTkvLGFQqFVIAD4el9x0utGdAztcPI/AIW5npw58IFpLUz6afA5PAgljdIWSHpys7VITqAQMI9nYSUdSFz74TNxQnyPLMQEc9VLJVBo5Bhf1+bfhrybNNL7PPIhVukrA5h+4AcJ5Kw4zf4ewfgskdJ1ve59TOQi/ngCx+VqbKDNfQPTnFlUM6UQRkO9gVs+dYoiCAm66K5JpgZ6KJ5Yh6L8zNw1L8Az1wiZDQyzI33o5eUIbE2wcW7GxgZGMbMHHmHBkexuXe6LFZv9cHc4h7K2/sxtnjiW0w5H8MDfVjd3id5KyJ1g4bNezERAgwiUl+ItSMdV6dGSV7vkmMU5HcuLQVbi+gfGsWBSEzeXa4fTLK3gsF+8o6evA6FQvmL8qQAoDyTrZF6mNyyQF5JKcryE2Bu6YkeOpL5tWFzsALGRobIKSP5kxFPvHQLdLMzN705SNf64WB8GwmFJSgpy4WjuRVqBr7Z/BDq9U6YO1hj/WylRqFQ3iCoAHhJdmZGUFlahvKqWqwx3+FRXiu2FoZRXk7yp/whNgVvpkUTb02iuqIUpRXVmN48vTXkhZALMLcw95zxKigUyvcdKgAoFAqFQnkLoQKAQqFQKJS3ECoAKBQKhUJ5C6ECgEKhUCiUtxAqACgUCoVCeQuhAoBCoVAolLcQKgAoFAqFQnkLoQKAQqFQKJS3ECoAKBQKhUJ5C6ECgEKhUCiUtxAqACgUCoVCeQuhAoBCoVAolLcQKgAoFAqFQnkLoQKAQqFQKJS3kDMFwM7SKDq7+3Eg1+44g5G6CtT3rmq3XhDFFvILs7Gj0m5TKBQKhUL5i3CqAOguzYIbzxNhkb6wdA/FxI4cCpkYUrmS/V0uEUOukGNneRFhloaw9s/HxMQ0tval5IQqMNOJC9aXMLu0wR4PqCAWi6Bk5xlXQSqRQCriY767BDd0rqKiZxJT88uQKt/MedspFAqFQnndeEIAyDYGYHDTCkP73HZphC3s42pRle2LpPoRdl9ZhDOy6wfRUZgF3Qtf4aquPYKDotAysA7BfCN09G8jNCgCjjbGSG6cIFfZgreXLYZ3yR/L5xDs6ozusQmkBzvh488/hqt/KCJSC7EhYhUChUKhUCiUb5knBMBySzJsXCPB+frAYlsGzH0TkJ3ggqjKQXZfvp8ZEsrH2PW66CDEFE+y6wzb3bk4f/keVlWAer4aeq5+xPvfgquTMfp3yAHyabibGGFMxBy9CBeeHZap3adQKBQK5S/KEwJgtSMDTi5ROOyWn21MgWNwJvJS3BBXO8zuqwi3RXLFKLteHOSFiLwhdp1hraMYtk7p3MZmN6zdnLGzvwYPdzMM7TE7l+FnbYERPlkVjsLOyRozQmY/hUKhUCiUvxRPCADl/iSsbt5F7ayYbEmQ5OGArKZZVCU5IKBoACrRBgwvvouI6in2+IeJ3jANLGXXGdY7i2Fln8SuT5ZFwcErHUrFLpws9dC9rcFGTwY+/uIc1wKgWoG1vj5qpqkCoFAoFArlL8kTAoBhtqcKThbObPN8fF49ZGTfwUw73B1M4R0ZCy8nW1R2LbLHiraGYWdrAVt7L9R1r0I4XYsLX1yGixsP7j6RmFtjLL0G3SWxsLSzR0hkCDzdfbHA2nw1usrjYWBqAc+IDKwK6ecAFAqFQqH8JThVADBo5GLwBUwrwAmUEohkpxlpJfh8AWRyFTa6imBkFoZtgQAK7a+HSEWCo7EFRBMcoZCKIBCJoaIfAVAoFAqF8hfhTAHwsmz0VMDZPeNoDAGFQqFQKJTXj1cuANRKBcQSptOAQnn9YGJRSBWAWA6ISDGVkP+Z8BZq2vpEoVDeMl65AKBQXkcYo78n1GCTr8H6gQZr+9yyTpYNsr0t0EAg4QQChUKhvA1QAUB5o1GqiOEXcYaeMfhbfLAigDH6Jxfm903y/74YENMGLAqF8hZABQDljUVBjP8W8ewPvfwtYviXd9VPGn+yHBDDv7ijRl6ngBUBQil5ObTnoVAolDcRKgAobySM588Y/EPjz3j3zFcmkdW7KOwWsP3+jOFnWgN2iEgYX1XAOWcD/2I9gbwuAVb3NBDSlgAKhfIGQwUA5Y2D8dx3hY96/oyxZ4z/3xiO4KdW46wIYLx+prmfEQONY2L81nUa/88bAzBOXmVbCpi/Y8YOUCgUypvI6yMANCqIJRIo3+Dh2HKxCAcHBxBJZN9a8/LJWRvfVpiR/Ux//2ETP+PlM4P8qodE+De7CbznNo3uWQkWtpUwTVlll+l1BfoWZLBKX+NaBYTcOZi/09C+AAqF8gby+giArR58cuEaaiYPtDteAtk28lPi0TXDzDr03TPVXo7UfC6SIkOG9T388H//3/CfF62x8qzmZeUeitIS0Tp+OKXy85Hi8hnMI8u1W09HyV9FZ08fRG9Y0IZdYrwPvf+TC/PpX8WAEFPrSmLg1fjIexb/l4u9+L9d6sOHXrPsGIDVPTV2BDj6G+Y8jKCgUCiUN43XRwCsteA/3vsY1bNS7Y6XQLaKAAdLlPataHd8t/QWx8DRPw2H8RT31pbxMM0NP/zDDcw9a/oD1RZCnG2Q3z6v3fF8RJj8Aje9c7VbTF/42d+1LdX54o8XrmLtDfr0jRn4x/T3nzT8J40506S/tq/GH3kz+D9f6MX/cncI//PtQbbpv6JfxIqEk3/DtAIciGkTAIVCefP4lgWAGDlhHjC+dwO3Da3haHIbt53iIBRswFH3C7zz2z/g3E1TNE7uAfwB/PHPH0DP3Ax//sPv4ZHRwp4hP8oev/j1u/jzp+cQ+qCBDSUsP1hBtIcJ3vvNb3DHMRr7pNLeGyrDl7/6JX57/hZy+9fYv4VagtbCWFz48D386Ut99E9vIDuOB8+iXu53Ql2iJxLLO9GdHYn3f/lr/Omjz+EWVwzRc7ai74/XwtTSBM7WBvjd7z9Gcuss2atCmP11/Pw/34GVXyzYmY+17PRl4J8/vHMkANZ7ynHpN+/g9x98iPsOwVgjxkY8VYbz7/8rfv/hDRS1L3AHPidRFu/COLYB0pUO3Lh6HWVDJC0ku0gLsMIHf/wTTLxSsS9ToSzYGj/7h7/Bf//BD/Bv//6fuGPGTeA011aI2+c/xicXdFHDpqMS8RbuyMqrgrPu5/j0th02BXI05/jjV795Fx98/Dm84svYVo7O1ChY6NnD5P4XeP+8CYbWmKH0EhSF2+MPv/0N/vi7d/EH8vfz21vwsbqOX7/7Hj77WgflvavkHudhYmsOJ0cbfPC738I9lcvrF0UiP+77P7kwYwAE5HYWt1VsF8B/NxjBO85T+J/vDOF/utKH9z1msLSrwh7JrEf+jpxrR0i7ASgUypvHtywARHC98Cd8cF4Hn/7xJ7igo0sM3WU0zh1gsDEPbo72uPiHf8aH+r6QCubxh3//e/xRxxnJQbb4938+jyliJLfm+hDs4waru+fxD//5R3TtA6MZZvivf/cTBCc+QFZOMeZ3pFDsL6O2KBnvvPMz2OaPsFeXL9XjZz/6X3HBKghFD4rRPTCFZE9D6HkVoD7XH/E17YgzvUeMTQeEmzNICPCAnelN/OiH7yC/d4s9x7PY68/B3/7v/z/ccg5HiM1V/OefbMB0Yoz1NMLb8DP89svr2OYOZVlpS3pEACiF2yiJD4WDvQX+8x//GbZxHdAIllFXmYZPf/RvcEvt5A58TuLt38dFfSvcPfcJzCJKwbReV0VY4ae//DPs7e3w7k//DpYxFVgd60Gc8zX85x8/QFJeMZo7pyFe7saF//g3XDWyg8mV9/GjP97GmlwKbyKKfvf5bSRlJOLu9fNI61iCYH0CkQGesDO8jh/+7FeoWpOgI8gEf/X//iECE9Oh+9E/wSSqHpuDefjpbz9HZXMr9D7/OX5hEAahQonRjgp4uDjg9qe/wr9dccDezjS5t/8D79xwREqIPf79p19iYO/FmyaEUs5rf8SIk4X5rI8x/u+6TuO/3B/C8JIM5f1C/E9X+/E7txnMb6kwt6XkBv8JHv1bZkwAjRRIoVDeNL5lAcCH452bCM9tgK/5n/CgtgGm13SR29BCtq/i408/we9+/nf4vY4rBJtjeO+PH6GKmWRwsw2f/8tX6N0RoSLGCR9//Ak++dNv8F9+9h5KZhSQ7QzC7OYFXLp6G44+EZgjAoBDDaNbf4ZD8SS3qRAgydcMn5y7CAMLJ9SPbaD7QSDMjN3hfP1DnDP1hr2JGTKbZ9FWFILPP/4YH3/ye/z9f/kF0uq52Q6fxW53Ov75z1+Daajfbo7Fn35hgMNe+/kKH3x65TYrCA7Z6k7Dv3x0Fyva0eVT7Xm4dv4zfPbJh/jJf/sfMOEdT63M+/BTeGb2abeej3TXj/G3f/1f8cN3bmCT3aOA6+3/xH//6W/w+Wef4Xe/+U9YhBWwv2w89MGH13SOxihM1UQQMfMD/Jkc98kH7+Hd88aYFvDh+/mv8LFJlPYoptAoUJPkSe75Y3zy59/jv/70F8icOkCrvzm+uubLHpPr+ifc8S+EeLEFf/jNO9AxMMSfP/gQ8c2L0IiW4G91Cx9+/Bk++NU/4e/PWWJ5aQjvv/8RSueI0d/pxOc//RQtGy8+OEHwmAA46fm/6zKN/3p/GAMLMoytyPEDkzFWECztqNjBfhdDFvBwVAK+5NFWAKZLQU0jBFIolDeMb10A2N+6hsD0crgb/BbJpeUwuaUHb3dr4pn/CU0zC4gy+RN+c9UW/I0RvPP+J6hZUEAxXY1PfnYJXbMjOPeDv4ZdWisGy4lx+tkvUTglxvrUAPpHptFWEYMf/r/+H7DL6IRSJsT6yhAuf/EODOMasEdqfdH2PDq7OjE91Ibb7/43/OtNH8z0luHj375DDG00/O9fxm8+uo7+mTnc/+D/wFXfMkx15eDf/tu/Ian2+ZredztT8E+fXMGsEpirCMYffmmETY0K+9sbqIo0xR8+u4DhzR3IlUrw97bRWxyEH793CZ2zG5Aq1Ig2+QV+etEJS1N9uPSLn0PPrQxKqQgbaxMw/M17sAotw/bByU6EpxNt+R7u8ULhcvcj6PpwYwHCLT8maeyEqeVVrKysQyjh1MdMhTv+9XcfoG16HTt7Iqz15OLff/QrpDaNkuNWsLV7AA2RB45/+jkMg/PZv2FRreLKj/8auiGlGG/JxD/+678iZWIfzd5muHA9kD0k2ea3uBtUgqXOTHz4wZ9hbGGOyOx69ret1hT843/5MQr6l1DkfQN//YkhlhYG8Ps/f4KKWRlUc3X4+CefonXzxQWA6IQAYJrvGWPOGHjmE7//co8z/hOrcvy1wQj+036SCAMlVnZVuBm5hP/75T78njeN5gnxUVcAIyCYzwFpCwCFQnnT+JYFgADu+vcQnlUNX4uPkF5ZBdM7xiiub4DV+Xfwz7/+M65//TnOWQQRATCGP39xAXULcihm63H+V9cwvC9Enucd/OQnP8OV69fw3qdXiECQY4UYqvN/+gX+5d//A19cscLwihDDpUH4yY//AT/68Q/x3//6H3DfNReS/Vm46X6Ef/3Xn+HdP36KxNphKLcH8Zt//gcEVo+gLuw+fvJrHeyqVKiKscY//eM/4Ry5zsfvfY4Hjc8nAPZ6MvHLC3cwS2zqQk0kvvizI7ZFq7D46j/wd//wI/zoB3+DH/32Cvpn5+Fm9CX+9u//Af/wwx/ix//8byge3sZCxwO88/Of4A9fXMK5Dz+Cd1IzJmqT8cu/+Tv88Ec/xt//7d/gE4f45+4Pj7P9E8wTGiFZascf/+PfEV07BcF8DwzO/Q7/8rN/wj/84LdIqZpmj5US0WVw6Xf4m//2d7h4L4bskSE/2AL/8fOf43/8gOwz82JndfT58rcwDytk/4ZDjuJgY/z0Jz/FxavX8YePzyNvag9tQXa4fi+UPSLD5SMYRVRga6QIv/n5/8Bv3/s9fvOb38IytBDig0U4Xvsd/unff4db187jjzruWFoawqdfXUDVrBSqhYe48IuL6Nh6cQEgVXCGnzHeTN/97KaS7d//b/rD6CfGf5wx/vqc8Z/ZULJxAJigPxX9QvwH2Rdbv0f+Xs02+x+KCCamALX/FArlTeNbFgAaCA722e/ehfwdSGQy7O/ts0ZFJd3HyvoO1GoV+EIR1CoFdnZ3IVORylYpw+7WntboKbC+ugqxQgWpSASJnGuLFR9sY3FpFVJt06xMtI/lpWWsr69jdXmZeK8C7geFGCtLi9hm2oEZNApy7k3IlBooZSJsbfO1lbsaW2sr4EuVUEqEEJP/nwe1QkKutQ9yOqjI+XZ3BMRbVGJnYwXLq2vkftbI/+R6CiX2tjewRLzwDXKPy8TDFso4A8ffWcfWgZicSwqRWAq5RIDVxSWsbWxgdYU80+GzPAdiks77TIc3QbC7htVNbQeEUkzSZQmLi6sQiI+j22jkQiwvLmJj67ijYn9rnRxH9u3ss9vC3W0ciA67WQ4hRpKkl5Ckk1wiZvNHLuRjb59rrZAIuPso8riDr+44kOdeRnWEAX7077/HDPHKISfPuLYJlVoNoUAEpZLkC5P/XEKy+a/N6heC+ejh0Hgzs/0Flm3j/3qpDzVDIkytKY48/5kNBZhHYgw84+EzQYG6ZqRY2VUT4XDcBcC0JvAl1PxTKJQ3j29ZAFDedjpzAvCHX/4cv/71r/Gbd/8El5jSlzLsLwITy58x7MzsfkU9AvzV3SF85jeHvzMaxa+ciPHfVLJhfpnm/UNDzyyMdmHEwMl9zPKWx1WiUChvKFQAUL51NuaG0dBQj/6pv0x8hsM4/4zxPiAiIL5+Dz8wGWVFwOTa6cb/tIXx/pmZBCkUCuVNhAoAyhsJM/hvbY/7hI8RAcxnfkzTPjO473mM/+ExTGAhCoVCeROhAoDyRsIE7mG898MvAhjjf1rz/mnL4SBCOhEQhUJ5k6ECgPLGwny6ty/mDPqhUX/WwggG5rt/avwpFMqbDhUAlDceJjYA0xXAGHdWDDxm9A8FArPsijRQ0EF/FArlLeAJAUC2oVar6UKX13JhyufLwHweKJJxBv5kVwAjDJh4AQcSDWTU66dQKG8RTwgAgUCAjY0NbG1t0YUur9XClEup9PF4BC8OIwaUzKLi1mmUPwqF8jbyhABQKBSQSCRsRUsXurxOC1MuVSo6LJ9CoVBeBVQA0OV7s1ABQKFQKK8OKgDo8r1ZqACgUCiUVwcVAHT53ixUAFAoFMqr4/kEgEQKOTNqSotSLoPk5O+v2SIh98uhIff+fGJGIuVmxVcp5Oz/aqWcPc9px36bC3PN45Q+Rs789tixr91C0lrOjKxjJhE+Ld1lXNoq5C/3LFQAUCgUyqvjuQSAQqWBfG8VeTHhiM+oxoFMQwyl7JFjXp9FBqVKgcG2alR1T0GtUh79JmMWmYxdTv6NTC4nokaIwY5uLG7uoKu5BqNLO2xanDzu219k5JoyDHfWICo6FomJiUhJSUZ23kPsiuVQPHbfr9siI+m1vzqL9s5RiMk6I1qOfpMpIBPtoLe1A+sHpEwREXnyb4+PezJ/DhcqACgUCuXV8UwBIFOooJGugqfzKX72b7/Cv/7tT3HXJRNiUg8rZE9W0t/1IlOooRYtwvKrf8WvzjtikzidjFhhpuNlUCuV7Kdf0KjY49lV9pd9+Bhaobh7GnnJoagdXoVafSwe/iILMXxqlQwdNZmwc3CCb0AAbn32K7xzwRk7CvIcZxjN12VhUnihMRu6hiHgM0lKjDX7m9bzV+2Pwf6WAToWmRYazZEIUJAMUSqJwGEyhuSLQhuAX/5Y+aICgEKhUF4dzxQAjIFcbEzGv/z9P6J2HdioDcZf/8vH6F6VEGv6l/aQn70w9ztenQALa1e4Wughvm6K7NFgrrsGHj4hCPJzhY6uGcq6FpjHxUxbCSz0DeAfGg7z+/aoHVxASWYMGsfWiLH5CwsA7cIKFAbxAuzNzNEwtcsol1OPfZ0WRgAstRbA2ikFszNtCEsvhESthmx7EuEJyZhfnYaPsR2GNw5QEReJtrFtNrhPW24iCuvGwF8fRYCrDfQNjRGeWg2BjIiBEyKACgAKhUJ5dTxTADD05/rhZ//0a/QdAKLJQvzjD99FYR9RA9B6eK/LwoZykyLS4T7iH85jvDwUt60jWFEwVhGGn//pAhoGx/Ewww9XDP2wujoOkxuXkVbTh9HmbJz7/RU0jc3By/IWUppnyV+pT7/Ot74w4xE0KA62grl/PlkH231x+rGvz3IoAGxdMzDSm4e7LkEQk33ytW7oWlpjeHEGfib2GNvaQaSpAQrb19hnK/azRXT6Q6T56sEqohzrq6PwcXJD++weNKpjkUkFAIVCobw6nk8A5BEB8NNfo3cfEI4X4sc/+CVyulbJL9+VgTx9URBLL11uxYVPvkROxzQmmjLwwQfn0LulxkxtKG45hXDN/SutuGtpgfLCDJg7hIGLACtAsLULqvsnEeioj8y2ObLvu3k+ZsClYmsQ+jduoGFG+Fq2tJy2HAkAl3SMDRTD2DsSErJPsTEAc2cXjC5xAmB0axcJtpYo795gEh6VoW6Iy+7EQFUcbt7UgYOXPyo7RiGRqyCjLQAUCoXyrfBcAmCiLBz//MOfo4e4c7KhdPz9P72Pplk++evXq1maoT3dE+/+4Qs4urrC3cURn733LlzTezDbHI/bjgGsQZLM1BMBYIWq4kyY2gaB66EWvjYCgGmxGC2PxD0zf3JXJE9ew7EWpy3HLQDpGO0rgIFrKFhzvdGN+0YOGFs5bgEINzdGce828ysK/G3gn9wEpVKJjYVxZKeG4+aly0ioHSdl7DgPqACgUCiUV8czBYCc+QJgawBXfvcvuGDggPsfvIt3vnbBJrG3r9OgNG7w3xJMvv4cUdXT2qcBZuuj8elX+sjPDMRVay9OAExV4fyd+xhbnIez7nVE5D1Ea2kEfv0/3kfD6Dw8LW4iuWmGHPldCACm+V+NLC9jWIdXMo9wyjGv58IIAGYQoKFlHNYX23Dr4hXkN3ehNNwBv7hggMnVGbjfNcHIjhQZvPvQ58Whs7MJN869h4D8JuRH8eAVX4K5mTHY691AaOkAOaPm6PxUAFAoFMqr45kCgDFIalIJr/Q3wOCrT3DhpjNGll+/ZmlmBPn+fA+CAqKxIiJiQKkg4oXcuWgF8REhyMrLQkJuGSTEgEhWBxEWG4s1Ymt3p9rg6WgFdx8f+PkmYnRxHSWZcWgaXyfG5jto4ZDJyHWlqH6QiML2GdbgnXrca7goyL1ujnUgOa0aClI+OkuSYGZui4TULCQX52NpcxVFiWmY3VNDsj6MABdLOPtHIysnBc2DczhYHkIQzxbm5taIyW2ASK5+5EsAKgAoFArl1fEcAoBbTla7zMCs1y8oDblnOdebrzwKNHO8jzwn8y8XGEjO+KpccJ0T8Y1YFHI5O05ArfhuAgExy1EwIGJET8uL13Yh98p8Nsq1nHCBlU4il3Fpq5AxAYO4jy8PYQSb4rHMeLzrgwoACoVCeXU8twCgC12+64UKAAqFQnl1UAFAl+/NQgUAhUKhvDqoAKDL92ahAoBCoVBeHVQA0OV7s1ABQKFQKK8OKgDo8r1ZqACgUCiUV8epAkAsFp9aAdOFLt/lwpRLKgAoFArl1fCEAGCisTHTscrlcrrQ5bVamHLJTB5EoVAolG/OEwKAQqFQKBTKmw8VABQKhUKhvIVQAUChUCgUylsIFQAUCoVCobyFUAFAoVAoFMpbyIsJANUBOhs7sS15fUdi762Mo7KkAIWFhSgoLsPYyoH2l2ehxNz4FHaFYkwO92Bpl5k4+LtDxV9DdWkBqtuGHpmI6UVZm5nA5NKudutsZPx1jMwscJMQfQNk+5sYm1g6/TxqMaZHxiGQa7cpFAqF8p3x3AJAI91FqOFX+F//v79Aw+KTM729LlRGmeO3f/4cTq6usDE3xBeX7qJ6aEP769OQIcDUDlVDS8hNDMbDiW3t/r88ip0RuJjqwTc0Em4md+AcXQpuTsMXJ93NHHaJ7dqts1ntzYGOWxC+qW3e6CiEkWkESc1TkM7C+a4p+p8nOygUCoXyrfJ8AkCyBps77+P/81d/hb/9Hx+hbeX1deGKoh3hX9Cj3QLSnO/BK7sP25PtSC3pZPeptieRkFYKxsffGWuCi5UVwuOTYW/kjMZx4nkXpKJrbo899rugMcUHvrHFWJ2bwszEKHqGJ1/aMBcFOuGGoQtC3B3BC0nHjoyZhleFnopMONlZwy0oCSsCBfZHi2HiHw/JwTKSc/Kwx86YLEJ+XgYm9gTozEtFSlIKPGwtEZX/EENt5XCxNEd0biMUJ2b23ewuhZ1LOlZX+pFcXMNO/wvRElJycrG+twh/UwdM7Mvw8EEaBhZE7N8MVuaitmMBMsEyYgPcYGlth/SSLrC3SqFQKJRvhecSAOrtEYTEx6O0KBY//en7aFqUan95/ahLsMcHn52Ho5MzrMx08fktC8zsqzFbkwh9jwfsMcr5Jtw1C8TG7iIRNlcQX9KM3oYMfPX7a+iYXYOfrQ4yO5fZY//yqBDtpI8v79vA39MFd2/qoahzVvvbi1PqYY73PzZGV08fEtyN4BBZjon2HBhb+qB3ZAJVST4w80jD7FA1rEJSIFofwn0beyyzimMPDvYmaF7fReytr3DFMhK9XW24de49mPqno7ejDrcvXUHVlIC9FgMjABw8sjE9Uoz77qFcV8DuIPRsbDG1sYRgcyfM8IWItTBEaR/XNVEe6IC4rFbkhprCNqoCizP9cLNxRs/Kd9sNQ6FQKG8yz9cCoI2+ttWTir//0R9fawFQFWeP68aOKCkvR96DJFjo3UZwQRemG3NhFVjIHqNa6oSVezw6H+bA3D6c3cd0AYRYu+Dh6CJCXY2Q27Oq3f+XRgVf449xw7eA9Z53+nJx5YYlVl+yCaDIzxExBSPcxno3rM3t4UyE0VfXDODv6wcvO0N8ctMCNQ3FcIhIhWhzFGZuHlhjr3cAL087dKxtI8LCBMltXNt9sJU+0rs44x3pY4mMruO0YgUALwuz4xUw84/lWgD2x0h6u2FmcwlBRABM80VIdbRB9dA++zd1kR5ILuhDf3kkbuoYIiAyHm0ji1C8vkNNKBQK5XvP8wkALYttifjBj19vAVAU7QS/vC7tFiAezMJVPS901GTAIjCP27nUCnOncHQQAWDhEMntI4Y30skLDaML37EAAGKd7yCgWGu0BYMwvHkfE0Ju80Up8ndC7OG5Nnpga20PKwMDuCfUYW11Gevra1jd3MJ8TwEsglMg2hiGsb0rttg/4MPZ2hLtRABEWpkioXmF7FMgwNIEGZ3r7BFh/tbI6l1j1xkOBcDMaClMvKK4nfxhGFm4YGaLEwAzRADEWlugcoR7qMpQRwRnMN0zGmzO9iM2zAc3r95GVvsi+zuFQqFQXj0vJADmm6LxV//bL1A///o2zRaHm+OWrT96+vvQ1f4QXkZXYRpajs3xMnx9VR+9I2MoDjPFuatu2N1bhN29m0iv78VgSxre++lHaJ1e/Y67AIDp2gRcvm6C7sFR5IfYw5CX/NL94YXOBvjokgOGRkeQyDOGS0IVRuvI+e9YYWBqHr1lyXALe4CJnmLoe0dDIV6H6Y2vkdIwiMG6dLz78QV0bu4jyPA+IusZg6yAp8FdJLZwAsmfZ4TULkYYcGx0FMDUNgW7a+24dfkW6gfG0ZTMwy8vmWBhdxneepaYFimR4X4fFiE5GB0ZwN1Lf0RwcTtKEvwQVdCC7c1luBreQEjpsPasFAqFQnnVvJAA2Byrxm0dWwxvvr6DAIdrEnHn+hXoGxrgvu49OAWkYUvMtCXLUZ0cAEMzOySkpuBBShU3CHC8CS425nDx5MHVJRKT67soSo9E89QOe77vBhmaC2JhZmIMB+9YLAte9hsAoL8kE2GBYfB0IM/on4Iddni+HLUZYTA1MYKVkx96lnYhXO5CZE4Z+zeTLfkwNTRGcFQaYrKSMH0gQGl8NCqHmS8jlMiLi0L9ODdIsjg3Ho3Tx58Z7k92Ij65mqyp0JYfA0Nja8QmkvMU5GB9fxsFMUlYEgPizUF42RrDyTcKqekxaB5Zwt5yP7ydLGBqaoHwzBoQnUChUCiUb4kXEgAUCoVCoVDeDKgAoFAoFArlLYQKAAqFQqFQ3kKoAKBQKBQK5S2ECgAKhUKhUN5CqACgUCgUCuUthAoACoVCoVDeQp4QAGQbarWaLnR5LRemfFIoFArlm/OEAFAoFJBIJJBKpXShy2u1MOVSpVJpSyqFQqFQvglUANDle7NQAUChUCivDioA6PK9WagAoFAolFcHFQB0+d4sVABQKBTKq4MKALp8bxYqACgUCuXV8ZwCgJ1C7gRqyB75/bteZOSOtHemHSWuUSlOOe41XWTc7IoapZyk/fH2IUqF7PS/e90WUm5kCsZAq9n1J34nz8XkjkJGjPnjvz3HQgUAhUKhvDqeLQBkxPhrlOirScGXn3yIzy9cQ1nvPDG0r4cIkGjFydJwM4I8nGBtYQFHvxhMbIiA/397d/7UZH7HAXx/6R+wv3Q63c7szHY6nWm3M9vdttudznR3tlO7O7tbt6vu1AsVIofcEuQUFEFFEUSDB/d9iCjKJV4oyCGHhDPcCEEghCMcgeTJ8e73eRIVVzrYbYQgn9fsx81zJHm+SSbf9/fJw/PotUKnYwoFRtaRsmnz/TidqSN5Ok/zX9Z73aXV8dFFj5KrqSh4NGDq4PQaVOTHw9PDHUdjcjCq1kGnXblt+rHFsW1XtFUhMbkEs+ylNOrMIYx9hvSsmdzMIHIuJqNTsSC0Was1BRutTsc+d3z7+PVM7wFnXra4KAAQQojlLBsA+O7pSVU2fv3Oz7EzMBrHPP6J9z/ehAa5GkbD6o+y+Y5F3pAP2617kFZYgU5ZM1Kj/LBpbwAeq/jORIv+jmY0tnRANc+xTMA6ejZ3RjkEqbQZYyrWGfF/X84toM+83vS8DvoVGHVrtRw0qlFknfDEex98hKjbPfxbgN7yDOyx90ZFzUNIAvfh4PlC8JfG17CR81KPYy3Fb+PA/Utw9pBggr2eSuW40PkvqGegUE5hfqIdQSJ31A7OQz2pgGpGzdqkgWp8DMrJGdbtG6EY6EJjUzt7r3Qw/CCIUQAghBDLWTYA6NjorLuuFBGSBLAxNQxdeXjvnQ+Q83CYn3rhC3qlix+1wziLaM9dCM+pE7ZfYJhFWXEJBhQjyIoIhOt+H3g47oHjgbNQsl5q6NENuDvshbubM0RuQZB29yPrTABcPH3g6bgTjv5ReDJjfO0hgN+L0lV+HceDo3AwRIzYuzJh89OOu+Nkdo1we7bzBhzcAzCo5vdMvP5Q8v8UHwAGK6/C/3AGZE2FEJ+8CDWbpx1pxIGQULQP9iDCMxBtYxNIDvJDcd2I0MaSmFAk5Nai6+FViL3EOCB2g6t3BPomNew9eB4CKAAQQojlLBsA+NvCXmqeZgxB33yC3/5tN7pVHAy61d0trdGyDZvpgNN2EQpaJ9gG6ky/PWv4rojlgKl+XM0twgS/I2C2Gy42e1Da3ItoHztICpqE9e8XZuNm+X0UFd3EFN/OuS447N6Jq01jwvKlntdixUb0c3N8FwmkxwRCUtrGbnGQHPJH3O0uYf78YCU8djlAOsbBuII/TfyYWhwA2huvwe2oxBwAGuARGITWRQEgztcLBQ9NAaDo9CEk5pQjKUyE/WcKMadVoTT/KlrlU9Av+oxRACCEEMtZNgDwxR/XZVQrEbr5M7zzqz+joEnO1lzd0T9fGi3bsAU5vGztkNc4yrZJL+xyNug1kDXWoH9sGgPNFYiTRCPieBC+2fgt8u7chpeTGHWjfHf1vDPpaSjDhbMxiAgLxFcbv0Ne/RCb+/rbqNFw7Hl0SDjth5ibfADQ4dwhL5y/0c5vFtQsALjtdUHr+Mu7xK2tFgeANul1eJy4gHk2j1M0wTv4MNoWBYAE/wMoruPfM+DG2SO4kF2Lqf5aHNrviK02O3EiPh9jM9wLxwJQACCEEMtZNgBotOxrnZtA1N4v8Mv3P8PNLpWwnk7LvpDN66xa8Qcosk4696QrnEPSn3Xn2qFq2G23RdblLDjYOqKgqgk9smq42P4LuQ/qEepuj6vScWHdyvwEHAs/BDuRCwqrmtHbUQnnnTuQUzPAlq5EyOHbwJkCQGmrsE3XY3zgf7ZQuC1/kApbr6MY17K1ljgwzprqWQAIyWQB7CocxMfA/z3DQtdNbLXzRceTXiEAyJSTiPZwQmbVE6GNcUFOOJFWhse9fZhU6zA+1I4DuzbhSFa1sPzp41MAIIQQy1k2APB7z1sKovCzn7yFX/zuE2z67mt88ZUtymTjMBjYiNu83moVpzNiYbQNBx32wCPwOOLPR8NZtA0nciox3l0B253/xun4dKSeD8OGzz5GTt0wpEUXIXLYj9OR4XByFuPK9Vzs27EDZxLYepIwfPrpBqRV9LGWs8de4jktW6YAcD7cA5FFUv4tgKq3Cm4iOxw5doK1RYTkW838G7XEfa2r+AAwUH4JruJYqCa74GO7Db7hZxB90AMbHLzQOdSDMEdPNCv1KE8LwVaRKySxF7Fz21c4X1SNG4mhsHULQEL8Rbi67kdxoxxGw/OfYSgAEEKI5SwbAPjp/pYqZOfkIjc7C8lJCUhKyUP3yDRbZh27pFkGgG52FLcLc5GUnIay+g42ducbp8fj5gdITUlBeUMb2hsb0N6vZEsMaKu5hZTUTDT2mfYEPG6qQGpyKsrr29EurYOsXyG0fanns3RxnAYdrfVoG1QKryn/l3BjvY3ISEnGndpOoWO1rvMuLF0a9nqphvtQW9cOrd4AZa8UmWmZqHrUhpbOViinJtD8sB6KGQ5G7TQqithnqugeOjtb0CMfY/NmUFmah8TkDNR2PGHv34t7YCgAEEKI5SwbAPjbfAf7Q/wR8sJJaxZ9Qa9maTi+m3zKKHSY/E8UT49f5OcJ//LnBmCj7mdNMo8wX17v5WMhXlfxryP/rE+fk9/uZwdemtuy1P2srti2a4XzK5j2VixuA/+fVms6wRGnYa+rcOyDCX/6BQN/4qbFJ0Bi4e2Hj08BgBBCLGfZAEBFZS1FAYAQQiyHAgDVmikKAIQQYjkUAKjWTFEAIIQQy6EAQLVmigIAIYRYDgUAqjVTFAAIIcRyXgoA/Ln/+S9b/iItVFTWVPznkgIAIYRYxksBgBBCCCFvPgoAhBBCyDpEAYAQQghZhygAEEIIIesQBQBCCCFkHaIAQAghhKxDrxwAlLJyeO7eBnv3U+ifeH7pHOulQ0lyONw9veDn5wOxbyAu320RlmjkUsQmXMaU6bo/Zlrcyr2GjuFxFF9KQHXPhHn+KjByqClOg6+vD6KS8jGlfWFDrdp0fxNy88qFKxi+hFOiKPMy5DPmaUIIIavmlQKATtmEzR+8hy+3usJmw1/wjX0EZq2+T5pGwOZ/wDU0ATdvleJSRiL2fPc9zhQ0Qa/oQEZWIVvDZGpsGBOzCkR6BaC4SY47BdloeDxlXrryBh6kY7u9J+4+qELsIVf4S64JVwtcC0aqr8DV8xzU/JUNFzSmmUa96cqM6l4E7/VAo8II7cI8OL2pVTrNAha0pr/vX5hWYkA+umbaSwgha9UrBYDZ/gZEhkVimA38r0fY4KMtLhhbcohnTVQ4ZGODvFqleRqYrM/EFlEQOltrcSw8Dmo2rybnDER2Tjh+4jjsd3ijqmsY6TFhKG1VmO60Cjrvp0N89AKm5+dRk30SgZE5iy5XbN0UdYU4GJqN/q7bOChJMW33lAzBJyPQNzaIKHEwuqbVyDl2GHdbTSHrXsIppBc2Q952FwE+3tjv6Qafw7EYnlsrrSaEkLXnlQLAU9K8YPz07bdxJL3WPMeaqXDYZicy7g+Yp5lZGTz3eeP2revw8otGf1899okcIR1VQ62ox96NdqjsfoLTwc64VDdkvtPK00/2wd9+K3bvtce3G7ehpHXUvMT6CQEgLAc97UVwDz9vCgCTLfAMPoRuxSBOswDQPT2H5AAxSqSTwn1KJSFIzatGRrgDfC7eAcfNoij3EmSjC8JyQgghlvc/BYC5scfIO+2FP3y2A9IRrXmutVoiAExK4WTnjXtlJfAPkaDyVjb7f5J5oQ5xoadQ1tqPsyHuuFz/xDx/pRlRdCEE/lFXoJqbQ0dZGly9T0DBmRdbuacBoFdWAq/IeNOufJUMvqGh6FkUAFKD/HCr2bQH4O6FY0jIk2Ky5wH83fbCxk6E87n3MLNG2kwIIWvRKwWAoZorsPlehF5+YvAa3n33QxS0qYRl1ov/CWAX8mrHzdNA27VIbPU4DbmsEuLAM2iuL4br/jCYxpkzCHPxwX3Z4CoHAAPOBbggpkR4tdlmNcNxhys6Z02T1s4UAC6ht70QzoGRppnDD7DLKRB943IhAPTOqHFO7IorjaYAkBHmgVOZVRgdHoFWb8DjjkcQ7/4eJ/OlwnJCCCGW90oBYH6kCds+/yM+/OuX+PvHv8cWz+OYtPrR2SwCt3yOzfb+OBsTjcMHvbFlsy2KWsbBdZVil/1hTGpnER/sCt9wCRIl/vjTb75GVc8TnPQVIbNGbn6clddXdRn2IgdcSExB2AFnhMQVwNr3tzzFHwTofiAR89NdEO/ZjqPnkhEXKsbn9l7oV8pxzMmLhRkDypKDYePih5SMTNhs/QIXS+txIykM+/yOIy83G15uHrjesHo/wxBCyJvulQIATzfVj1RJFC4kFYN9f68BejSVX0NsbCzi42ORmJaDtiHTcf/cxCAqKhsgHKOuUaLoUipyC26gvLwBiuk5tDRUom+MP0Rw9Qy1VSIhLhb5d+qX/pM6KzU/NoCaWplwe7z3EZISUlBR3wJpZwum1bNorq5lwYtfOou7+enIun4XMlkT+kam2KdxDvcKs3AxLhnVsmHhMQghhLwerxwACCGEEPLmoABACCGErEMUAAghhJB1iAIAIYQQsg5RACCEEELWIQoAhBBCyDpEAYAQQghZhygAEEIIIesQBQBCCCFkHaIAQAghhKxDFAAIIYSQdYL1+UIZDAbo9XoKAIQQQsibju/4WacPnU4HrVaLhYUF41v8bgBCCCGEvJnYiN/IOn6jRqMxchxnLs74H6zXHw/Wlji1AAAAAElFTkSuQmCC)"
      ],
      "metadata": {
        "id": "ao6vZM9rKshY"
      }
    },
    {
      "cell_type": "code",
      "source": [
        "# Inisiasi Data\n",
        "Mahasiswa = ['Andi', 'Budi', 'Caca', 'Didi']\n",
        "Nilai = [7, 6, 10, 8]\n",
        "\n",
        "# Conditional\n",
        "def Ket (Nilai):\n",
        "  if (Nilai < 7):\n",
        "    return \"Belum Lulus\"\n",
        "  else:\n",
        "    return \"Lulus\"\n"
      ],
      "metadata": {
        "id": "Ite4NkkHKzwK"
      },
      "execution_count": 5,
      "outputs": []
    },
    {
      "cell_type": "code",
      "source": [
        "import pandas as pd\n",
        "\n",
        "#Menggunakan Dictionary untuk memudahkan membuat DataFrame\n",
        "dict = {'Mahasiswa' : Mahasiswa, 'Nilai' : Nilai, 'Keterangan' : [Ket(i) for i in Nilai]}\n",
        "\n",
        "df = pd.DataFrame(dict)\n",
        "df"
      ],
      "metadata": {
        "colab": {
          "base_uri": "https://localhost:8080/",
          "height": 174
        },
        "id": "MQGLkjx6K0XJ",
        "outputId": "c13f3c9a-2e75-4e53-a868-7b832c590abf"
      },
      "execution_count": 6,
      "outputs": [
        {
          "output_type": "execute_result",
          "data": {
            "text/plain": [
              "  Mahasiswa  Nilai   Keterangan\n",
              "0      Andi      7        Lulus\n",
              "1      Budi      6  Belum Lulus\n",
              "2      Caca     10        Lulus\n",
              "3      Didi      8        Lulus"
            ],
            "text/html": [
              "\n",
              "  <div id=\"df-d709638f-2b9e-44cd-a22f-7803bd4b1c56\">\n",
              "    <div class=\"colab-df-container\">\n",
              "      <div>\n",
              "<style scoped>\n",
              "    .dataframe tbody tr th:only-of-type {\n",
              "        vertical-align: middle;\n",
              "    }\n",
              "\n",
              "    .dataframe tbody tr th {\n",
              "        vertical-align: top;\n",
              "    }\n",
              "\n",
              "    .dataframe thead th {\n",
              "        text-align: right;\n",
              "    }\n",
              "</style>\n",
              "<table border=\"1\" class=\"dataframe\">\n",
              "  <thead>\n",
              "    <tr style=\"text-align: right;\">\n",
              "      <th></th>\n",
              "      <th>Mahasiswa</th>\n",
              "      <th>Nilai</th>\n",
              "      <th>Keterangan</th>\n",
              "    </tr>\n",
              "  </thead>\n",
              "  <tbody>\n",
              "    <tr>\n",
              "      <th>0</th>\n",
              "      <td>Andi</td>\n",
              "      <td>7</td>\n",
              "      <td>Lulus</td>\n",
              "    </tr>\n",
              "    <tr>\n",
              "      <th>1</th>\n",
              "      <td>Budi</td>\n",
              "      <td>6</td>\n",
              "      <td>Belum Lulus</td>\n",
              "    </tr>\n",
              "    <tr>\n",
              "      <th>2</th>\n",
              "      <td>Caca</td>\n",
              "      <td>10</td>\n",
              "      <td>Lulus</td>\n",
              "    </tr>\n",
              "    <tr>\n",
              "      <th>3</th>\n",
              "      <td>Didi</td>\n",
              "      <td>8</td>\n",
              "      <td>Lulus</td>\n",
              "    </tr>\n",
              "  </tbody>\n",
              "</table>\n",
              "</div>\n",
              "      <button class=\"colab-df-convert\" onclick=\"convertToInteractive('df-d709638f-2b9e-44cd-a22f-7803bd4b1c56')\"\n",
              "              title=\"Convert this dataframe to an interactive table.\"\n",
              "              style=\"display:none;\">\n",
              "        \n",
              "  <svg xmlns=\"http://www.w3.org/2000/svg\" height=\"24px\"viewBox=\"0 0 24 24\"\n",
              "       width=\"24px\">\n",
              "    <path d=\"M0 0h24v24H0V0z\" fill=\"none\"/>\n",
              "    <path d=\"M18.56 5.44l.94 2.06.94-2.06 2.06-.94-2.06-.94-.94-2.06-.94 2.06-2.06.94zm-11 1L8.5 8.5l.94-2.06 2.06-.94-2.06-.94L8.5 2.5l-.94 2.06-2.06.94zm10 10l.94 2.06.94-2.06 2.06-.94-2.06-.94-.94-2.06-.94 2.06-2.06.94z\"/><path d=\"M17.41 7.96l-1.37-1.37c-.4-.4-.92-.59-1.43-.59-.52 0-1.04.2-1.43.59L10.3 9.45l-7.72 7.72c-.78.78-.78 2.05 0 2.83L4 21.41c.39.39.9.59 1.41.59.51 0 1.02-.2 1.41-.59l7.78-7.78 2.81-2.81c.8-.78.8-2.07 0-2.86zM5.41 20L4 18.59l7.72-7.72 1.47 1.35L5.41 20z\"/>\n",
              "  </svg>\n",
              "      </button>\n",
              "      \n",
              "  <style>\n",
              "    .colab-df-container {\n",
              "      display:flex;\n",
              "      flex-wrap:wrap;\n",
              "      gap: 12px;\n",
              "    }\n",
              "\n",
              "    .colab-df-convert {\n",
              "      background-color: #E8F0FE;\n",
              "      border: none;\n",
              "      border-radius: 50%;\n",
              "      cursor: pointer;\n",
              "      display: none;\n",
              "      fill: #1967D2;\n",
              "      height: 32px;\n",
              "      padding: 0 0 0 0;\n",
              "      width: 32px;\n",
              "    }\n",
              "\n",
              "    .colab-df-convert:hover {\n",
              "      background-color: #E2EBFA;\n",
              "      box-shadow: 0px 1px 2px rgba(60, 64, 67, 0.3), 0px 1px 3px 1px rgba(60, 64, 67, 0.15);\n",
              "      fill: #174EA6;\n",
              "    }\n",
              "\n",
              "    [theme=dark] .colab-df-convert {\n",
              "      background-color: #3B4455;\n",
              "      fill: #D2E3FC;\n",
              "    }\n",
              "\n",
              "    [theme=dark] .colab-df-convert:hover {\n",
              "      background-color: #434B5C;\n",
              "      box-shadow: 0px 1px 3px 1px rgba(0, 0, 0, 0.15);\n",
              "      filter: drop-shadow(0px 1px 2px rgba(0, 0, 0, 0.3));\n",
              "      fill: #FFFFFF;\n",
              "    }\n",
              "  </style>\n",
              "\n",
              "      <script>\n",
              "        const buttonEl =\n",
              "          document.querySelector('#df-d709638f-2b9e-44cd-a22f-7803bd4b1c56 button.colab-df-convert');\n",
              "        buttonEl.style.display =\n",
              "          google.colab.kernel.accessAllowed ? 'block' : 'none';\n",
              "\n",
              "        async function convertToInteractive(key) {\n",
              "          const element = document.querySelector('#df-d709638f-2b9e-44cd-a22f-7803bd4b1c56');\n",
              "          const dataTable =\n",
              "            await google.colab.kernel.invokeFunction('convertToInteractive',\n",
              "                                                     [key], {});\n",
              "          if (!dataTable) return;\n",
              "\n",
              "          const docLinkHtml = 'Like what you see? Visit the ' +\n",
              "            '<a target=\"_blank\" href=https://colab.research.google.com/notebooks/data_table.ipynb>data table notebook</a>'\n",
              "            + ' to learn more about interactive tables.';\n",
              "          element.innerHTML = '';\n",
              "          dataTable['output_type'] = 'display_data';\n",
              "          await google.colab.output.renderOutput(dataTable, element);\n",
              "          const docLink = document.createElement('div');\n",
              "          docLink.innerHTML = docLinkHtml;\n",
              "          element.appendChild(docLink);\n",
              "        }\n",
              "      </script>\n",
              "    </div>\n",
              "  </div>\n",
              "  "
            ]
          },
          "metadata": {},
          "execution_count": 6
        }
      ]
    },
    {
      "cell_type": "markdown",
      "source": [
        "### Soal 3 \"Pandas Function\"\n",
        "![Picture3.png](data:image/png;base64,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)"
      ],
      "metadata": {
        "id": "41p5p7hwK497"
      }
    },
    {
      "cell_type": "code",
      "source": [
        "# 3 Lulus dikali 25(25 Merupakan hasil dari 100 dibagi 4/jumlah data)\n",
        "# Jadi Persentase lulus = 3/4 , atau 3*25 = 75% :D\n",
        "print(f\"{df[df['Keterangan'] == 'Lulus'].size * 100/df.size}%\")"
      ],
      "metadata": {
        "colab": {
          "base_uri": "https://localhost:8080/"
        },
        "id": "DBCeki9LLGR7",
        "outputId": "d0227419-fff1-4772-9ba6-0b1e6bb945f7"
      },
      "execution_count": 7,
      "outputs": [
        {
          "output_type": "stream",
          "name": "stdout",
          "text": [
            "75.0%\n"
          ]
        }
      ]
    }
  ]
}