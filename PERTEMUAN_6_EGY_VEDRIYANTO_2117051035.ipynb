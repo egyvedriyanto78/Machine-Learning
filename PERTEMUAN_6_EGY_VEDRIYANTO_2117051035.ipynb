{
  "nbformat": 4,
  "nbformat_minor": 0,
  "metadata": {
    "colab": {
      "provenance": [],
      "authorship_tag": "ABX9TyMkCv/VzHImBc7M7D6PP96/"
    },
    "kernelspec": {
      "name": "python3",
      "display_name": "Python 3"
    },
    "language_info": {
      "name": "python"
    }
  },
  "cells": [
    {
      "cell_type": "markdown",
      "source": [
        "#Machine Learning pt.6\n",
        "\n",
        "##### Egy Vedriyanto\n",
        "2117051035"
      ],
      "metadata": {
        "id": "6IAsdgYqJq_2"
      }
    },
    {
      "cell_type": "markdown",
      "source": [
        "##Library"
      ],
      "metadata": {
        "id": "pDD2uA4WKGxO"
      }
    },
    {
      "cell_type": "code",
      "source": [
        "import numpy as np\n",
        "import pandas as pd\n",
        "# matplotlib untuk visualisasi\n",
        "import matplotlib.pyplot as plt\n",
        "# standarscaler untuk preprosing restandar data\n",
        "from sklearn.preprocessing import StandardScaler\n",
        "# modeling hirarki clustering\n",
        "from scipy.cluster.hierarchy import linkage, dendrogram\n",
        "from sklearn.cluster import AgglomerativeClustering\n",
        "# metrics untuk evaluasi\n",
        "from sklearn.metrics import silhouette_score, calinski_harabasz_score, davies_bouldin_score\n",
        "# warna pada titik di grafik scatter\n",
        "from matplotlib.colors import ListedColormap"
      ],
      "metadata": {
        "id": "NWhkWFo_KJsU"
      },
      "execution_count": 27,
      "outputs": []
    },
    {
      "cell_type": "markdown",
      "source": [
        "##Load Data"
      ],
      "metadata": {
        "id": "sBJvAZhhKYho"
      }
    },
    {
      "cell_type": "code",
      "source": [
        "df = pd.read_csv(\"https://raw.githubusercontent.com/rahmantaufik27/dataset/main/study/student_score_pass.csv\")\n",
        "df.head()"
      ],
      "metadata": {
        "colab": {
          "base_uri": "https://localhost:8080/",
          "height": 206
        },
        "id": "2580iJBzKeA0",
        "outputId": "481ffeea-d2c1-42e9-86f9-d164d565572e"
      },
      "execution_count": 28,
      "outputs": [
        {
          "output_type": "execute_result",
          "data": {
            "text/plain": [
              "          npm  activeness_score  assignment_score  pre_test_score  \\\n",
              "0  2022041101                99              71.0            93.0   \n",
              "1  2022041102                96              77.0             NaN   \n",
              "2  2022041103                86              71.0            84.0   \n",
              "3  2022041104                81              96.0             NaN   \n",
              "4  2022041105                93              85.0            68.0   \n",
              "\n",
              "   post_test_score  midterm_test_score  end_semester_test_score pass_test  \n",
              "0             52.0                44.0                       24  not pass  \n",
              "1             27.0               100.0                       89      pass  \n",
              "2             17.0                21.0                       41  not pass  \n",
              "3              NaN                11.0                       99  not pass  \n",
              "4             29.0                44.0                       50  not pass  "
            ],
            "text/html": [
              "\n",
              "  <div id=\"df-716968a0-0201-410e-9abd-a2b73f3584d4\">\n",
              "    <div class=\"colab-df-container\">\n",
              "      <div>\n",
              "<style scoped>\n",
              "    .dataframe tbody tr th:only-of-type {\n",
              "        vertical-align: middle;\n",
              "    }\n",
              "\n",
              "    .dataframe tbody tr th {\n",
              "        vertical-align: top;\n",
              "    }\n",
              "\n",
              "    .dataframe thead th {\n",
              "        text-align: right;\n",
              "    }\n",
              "</style>\n",
              "<table border=\"1\" class=\"dataframe\">\n",
              "  <thead>\n",
              "    <tr style=\"text-align: right;\">\n",
              "      <th></th>\n",
              "      <th>npm</th>\n",
              "      <th>activeness_score</th>\n",
              "      <th>assignment_score</th>\n",
              "      <th>pre_test_score</th>\n",
              "      <th>post_test_score</th>\n",
              "      <th>midterm_test_score</th>\n",
              "      <th>end_semester_test_score</th>\n",
              "      <th>pass_test</th>\n",
              "    </tr>\n",
              "  </thead>\n",
              "  <tbody>\n",
              "    <tr>\n",
              "      <th>0</th>\n",
              "      <td>2022041101</td>\n",
              "      <td>99</td>\n",
              "      <td>71.0</td>\n",
              "      <td>93.0</td>\n",
              "      <td>52.0</td>\n",
              "      <td>44.0</td>\n",
              "      <td>24</td>\n",
              "      <td>not pass</td>\n",
              "    </tr>\n",
              "    <tr>\n",
              "      <th>1</th>\n",
              "      <td>2022041102</td>\n",
              "      <td>96</td>\n",
              "      <td>77.0</td>\n",
              "      <td>NaN</td>\n",
              "      <td>27.0</td>\n",
              "      <td>100.0</td>\n",
              "      <td>89</td>\n",
              "      <td>pass</td>\n",
              "    </tr>\n",
              "    <tr>\n",
              "      <th>2</th>\n",
              "      <td>2022041103</td>\n",
              "      <td>86</td>\n",
              "      <td>71.0</td>\n",
              "      <td>84.0</td>\n",
              "      <td>17.0</td>\n",
              "      <td>21.0</td>\n",
              "      <td>41</td>\n",
              "      <td>not pass</td>\n",
              "    </tr>\n",
              "    <tr>\n",
              "      <th>3</th>\n",
              "      <td>2022041104</td>\n",
              "      <td>81</td>\n",
              "      <td>96.0</td>\n",
              "      <td>NaN</td>\n",
              "      <td>NaN</td>\n",
              "      <td>11.0</td>\n",
              "      <td>99</td>\n",
              "      <td>not pass</td>\n",
              "    </tr>\n",
              "    <tr>\n",
              "      <th>4</th>\n",
              "      <td>2022041105</td>\n",
              "      <td>93</td>\n",
              "      <td>85.0</td>\n",
              "      <td>68.0</td>\n",
              "      <td>29.0</td>\n",
              "      <td>44.0</td>\n",
              "      <td>50</td>\n",
              "      <td>not pass</td>\n",
              "    </tr>\n",
              "  </tbody>\n",
              "</table>\n",
              "</div>\n",
              "      <button class=\"colab-df-convert\" onclick=\"convertToInteractive('df-716968a0-0201-410e-9abd-a2b73f3584d4')\"\n",
              "              title=\"Convert this dataframe to an interactive table.\"\n",
              "              style=\"display:none;\">\n",
              "        \n",
              "  <svg xmlns=\"http://www.w3.org/2000/svg\" height=\"24px\"viewBox=\"0 0 24 24\"\n",
              "       width=\"24px\">\n",
              "    <path d=\"M0 0h24v24H0V0z\" fill=\"none\"/>\n",
              "    <path d=\"M18.56 5.44l.94 2.06.94-2.06 2.06-.94-2.06-.94-.94-2.06-.94 2.06-2.06.94zm-11 1L8.5 8.5l.94-2.06 2.06-.94-2.06-.94L8.5 2.5l-.94 2.06-2.06.94zm10 10l.94 2.06.94-2.06 2.06-.94-2.06-.94-.94-2.06-.94 2.06-2.06.94z\"/><path d=\"M17.41 7.96l-1.37-1.37c-.4-.4-.92-.59-1.43-.59-.52 0-1.04.2-1.43.59L10.3 9.45l-7.72 7.72c-.78.78-.78 2.05 0 2.83L4 21.41c.39.39.9.59 1.41.59.51 0 1.02-.2 1.41-.59l7.78-7.78 2.81-2.81c.8-.78.8-2.07 0-2.86zM5.41 20L4 18.59l7.72-7.72 1.47 1.35L5.41 20z\"/>\n",
              "  </svg>\n",
              "      </button>\n",
              "      \n",
              "  <style>\n",
              "    .colab-df-container {\n",
              "      display:flex;\n",
              "      flex-wrap:wrap;\n",
              "      gap: 12px;\n",
              "    }\n",
              "\n",
              "    .colab-df-convert {\n",
              "      background-color: #E8F0FE;\n",
              "      border: none;\n",
              "      border-radius: 50%;\n",
              "      cursor: pointer;\n",
              "      display: none;\n",
              "      fill: #1967D2;\n",
              "      height: 32px;\n",
              "      padding: 0 0 0 0;\n",
              "      width: 32px;\n",
              "    }\n",
              "\n",
              "    .colab-df-convert:hover {\n",
              "      background-color: #E2EBFA;\n",
              "      box-shadow: 0px 1px 2px rgba(60, 64, 67, 0.3), 0px 1px 3px 1px rgba(60, 64, 67, 0.15);\n",
              "      fill: #174EA6;\n",
              "    }\n",
              "\n",
              "    [theme=dark] .colab-df-convert {\n",
              "      background-color: #3B4455;\n",
              "      fill: #D2E3FC;\n",
              "    }\n",
              "\n",
              "    [theme=dark] .colab-df-convert:hover {\n",
              "      background-color: #434B5C;\n",
              "      box-shadow: 0px 1px 3px 1px rgba(0, 0, 0, 0.15);\n",
              "      filter: drop-shadow(0px 1px 2px rgba(0, 0, 0, 0.3));\n",
              "      fill: #FFFFFF;\n",
              "    }\n",
              "  </style>\n",
              "\n",
              "      <script>\n",
              "        const buttonEl =\n",
              "          document.querySelector('#df-716968a0-0201-410e-9abd-a2b73f3584d4 button.colab-df-convert');\n",
              "        buttonEl.style.display =\n",
              "          google.colab.kernel.accessAllowed ? 'block' : 'none';\n",
              "\n",
              "        async function convertToInteractive(key) {\n",
              "          const element = document.querySelector('#df-716968a0-0201-410e-9abd-a2b73f3584d4');\n",
              "          const dataTable =\n",
              "            await google.colab.kernel.invokeFunction('convertToInteractive',\n",
              "                                                     [key], {});\n",
              "          if (!dataTable) return;\n",
              "\n",
              "          const docLinkHtml = 'Like what you see? Visit the ' +\n",
              "            '<a target=\"_blank\" href=https://colab.research.google.com/notebooks/data_table.ipynb>data table notebook</a>'\n",
              "            + ' to learn more about interactive tables.';\n",
              "          element.innerHTML = '';\n",
              "          dataTable['output_type'] = 'display_data';\n",
              "          await google.colab.output.renderOutput(dataTable, element);\n",
              "          const docLink = document.createElement('div');\n",
              "          docLink.innerHTML = docLinkHtml;\n",
              "          element.appendChild(docLink);\n",
              "        }\n",
              "      </script>\n",
              "    </div>\n",
              "  </div>\n",
              "  "
            ]
          },
          "metadata": {},
          "execution_count": 28
        }
      ]
    },
    {
      "cell_type": "code",
      "source": [
        "# informasi dataframe (jumlah data, jumlah kolom, jumlah baris, tipe data, dll)\n",
        "df.info()"
      ],
      "metadata": {
        "colab": {
          "base_uri": "https://localhost:8080/"
        },
        "id": "5_66h6YvKzXv",
        "outputId": "3179c13d-1ce0-4940-dc5e-40815bdd5646"
      },
      "execution_count": 29,
      "outputs": [
        {
          "output_type": "stream",
          "name": "stdout",
          "text": [
            "<class 'pandas.core.frame.DataFrame'>\n",
            "RangeIndex: 372 entries, 0 to 371\n",
            "Data columns (total 8 columns):\n",
            " #   Column                   Non-Null Count  Dtype  \n",
            "---  ------                   --------------  -----  \n",
            " 0   npm                      372 non-null    int64  \n",
            " 1   activeness_score         372 non-null    int64  \n",
            " 2   assignment_score         364 non-null    float64\n",
            " 3   pre_test_score           336 non-null    float64\n",
            " 4   post_test_score          363 non-null    float64\n",
            " 5   midterm_test_score       361 non-null    float64\n",
            " 6   end_semester_test_score  372 non-null    int64  \n",
            " 7   pass_test                372 non-null    object \n",
            "dtypes: float64(4), int64(3), object(1)\n",
            "memory usage: 23.4+ KB\n"
          ]
        }
      ]
    },
    {
      "cell_type": "code",
      "source": [
        "# informasi statistik dataframe\n",
        "df.describe().transpose()"
      ],
      "metadata": {
        "colab": {
          "base_uri": "https://localhost:8080/",
          "height": 269
        },
        "id": "xI90iVetK-Q3",
        "outputId": "9c6d6b47-62ce-49a8-ffde-2a283a22ff34"
      },
      "execution_count": 30,
      "outputs": [
        {
          "output_type": "execute_result",
          "data": {
            "text/plain": [
              "                         count          mean         std           min  \\\n",
              "npm                      372.0  2.022041e+09  107.531391  2.022041e+09   \n",
              "activeness_score         372.0  9.275806e+01   44.578778 -9.600000e+01   \n",
              "assignment_score         364.0  8.532967e+01    8.626380  7.000000e+01   \n",
              "pre_test_score           336.0  5.798810e+01   26.472625  1.000000e+01   \n",
              "post_test_score          363.0  5.279890e+01   25.691020  1.000000e+01   \n",
              "midterm_test_score       361.0  5.339889e+01   24.968789  1.000000e+01   \n",
              "end_semester_test_score  372.0  5.333065e+01   30.695107 -9.700000e+01   \n",
              "\n",
              "                                  25%           50%           75%  \\\n",
              "npm                      2.022041e+09  2.022041e+09  2.022041e+09   \n",
              "activeness_score         8.500000e+01  9.000000e+01  9.500000e+01   \n",
              "assignment_score         7.900000e+01  8.500000e+01  9.200000e+01   \n",
              "pre_test_score           3.500000e+01  6.150000e+01  8.100000e+01   \n",
              "post_test_score          3.200000e+01  5.100000e+01  7.400000e+01   \n",
              "midterm_test_score       3.200000e+01  5.300000e+01  7.300000e+01   \n",
              "end_semester_test_score  3.100000e+01  5.250000e+01  7.900000e+01   \n",
              "\n",
              "                                  max  \n",
              "npm                      2.022041e+09  \n",
              "activeness_score         6.660000e+02  \n",
              "assignment_score         1.000000e+02  \n",
              "pre_test_score           1.000000e+02  \n",
              "post_test_score          1.000000e+02  \n",
              "midterm_test_score       1.000000e+02  \n",
              "end_semester_test_score  1.000000e+02  "
            ],
            "text/html": [
              "\n",
              "  <div id=\"df-e8393c05-2b3e-4a3a-ac97-84e648f777d8\">\n",
              "    <div class=\"colab-df-container\">\n",
              "      <div>\n",
              "<style scoped>\n",
              "    .dataframe tbody tr th:only-of-type {\n",
              "        vertical-align: middle;\n",
              "    }\n",
              "\n",
              "    .dataframe tbody tr th {\n",
              "        vertical-align: top;\n",
              "    }\n",
              "\n",
              "    .dataframe thead th {\n",
              "        text-align: right;\n",
              "    }\n",
              "</style>\n",
              "<table border=\"1\" class=\"dataframe\">\n",
              "  <thead>\n",
              "    <tr style=\"text-align: right;\">\n",
              "      <th></th>\n",
              "      <th>count</th>\n",
              "      <th>mean</th>\n",
              "      <th>std</th>\n",
              "      <th>min</th>\n",
              "      <th>25%</th>\n",
              "      <th>50%</th>\n",
              "      <th>75%</th>\n",
              "      <th>max</th>\n",
              "    </tr>\n",
              "  </thead>\n",
              "  <tbody>\n",
              "    <tr>\n",
              "      <th>npm</th>\n",
              "      <td>372.0</td>\n",
              "      <td>2.022041e+09</td>\n",
              "      <td>107.531391</td>\n",
              "      <td>2.022041e+09</td>\n",
              "      <td>2.022041e+09</td>\n",
              "      <td>2.022041e+09</td>\n",
              "      <td>2.022041e+09</td>\n",
              "      <td>2.022041e+09</td>\n",
              "    </tr>\n",
              "    <tr>\n",
              "      <th>activeness_score</th>\n",
              "      <td>372.0</td>\n",
              "      <td>9.275806e+01</td>\n",
              "      <td>44.578778</td>\n",
              "      <td>-9.600000e+01</td>\n",
              "      <td>8.500000e+01</td>\n",
              "      <td>9.000000e+01</td>\n",
              "      <td>9.500000e+01</td>\n",
              "      <td>6.660000e+02</td>\n",
              "    </tr>\n",
              "    <tr>\n",
              "      <th>assignment_score</th>\n",
              "      <td>364.0</td>\n",
              "      <td>8.532967e+01</td>\n",
              "      <td>8.626380</td>\n",
              "      <td>7.000000e+01</td>\n",
              "      <td>7.900000e+01</td>\n",
              "      <td>8.500000e+01</td>\n",
              "      <td>9.200000e+01</td>\n",
              "      <td>1.000000e+02</td>\n",
              "    </tr>\n",
              "    <tr>\n",
              "      <th>pre_test_score</th>\n",
              "      <td>336.0</td>\n",
              "      <td>5.798810e+01</td>\n",
              "      <td>26.472625</td>\n",
              "      <td>1.000000e+01</td>\n",
              "      <td>3.500000e+01</td>\n",
              "      <td>6.150000e+01</td>\n",
              "      <td>8.100000e+01</td>\n",
              "      <td>1.000000e+02</td>\n",
              "    </tr>\n",
              "    <tr>\n",
              "      <th>post_test_score</th>\n",
              "      <td>363.0</td>\n",
              "      <td>5.279890e+01</td>\n",
              "      <td>25.691020</td>\n",
              "      <td>1.000000e+01</td>\n",
              "      <td>3.200000e+01</td>\n",
              "      <td>5.100000e+01</td>\n",
              "      <td>7.400000e+01</td>\n",
              "      <td>1.000000e+02</td>\n",
              "    </tr>\n",
              "    <tr>\n",
              "      <th>midterm_test_score</th>\n",
              "      <td>361.0</td>\n",
              "      <td>5.339889e+01</td>\n",
              "      <td>24.968789</td>\n",
              "      <td>1.000000e+01</td>\n",
              "      <td>3.200000e+01</td>\n",
              "      <td>5.300000e+01</td>\n",
              "      <td>7.300000e+01</td>\n",
              "      <td>1.000000e+02</td>\n",
              "    </tr>\n",
              "    <tr>\n",
              "      <th>end_semester_test_score</th>\n",
              "      <td>372.0</td>\n",
              "      <td>5.333065e+01</td>\n",
              "      <td>30.695107</td>\n",
              "      <td>-9.700000e+01</td>\n",
              "      <td>3.100000e+01</td>\n",
              "      <td>5.250000e+01</td>\n",
              "      <td>7.900000e+01</td>\n",
              "      <td>1.000000e+02</td>\n",
              "    </tr>\n",
              "  </tbody>\n",
              "</table>\n",
              "</div>\n",
              "      <button class=\"colab-df-convert\" onclick=\"convertToInteractive('df-e8393c05-2b3e-4a3a-ac97-84e648f777d8')\"\n",
              "              title=\"Convert this dataframe to an interactive table.\"\n",
              "              style=\"display:none;\">\n",
              "        \n",
              "  <svg xmlns=\"http://www.w3.org/2000/svg\" height=\"24px\"viewBox=\"0 0 24 24\"\n",
              "       width=\"24px\">\n",
              "    <path d=\"M0 0h24v24H0V0z\" fill=\"none\"/>\n",
              "    <path d=\"M18.56 5.44l.94 2.06.94-2.06 2.06-.94-2.06-.94-.94-2.06-.94 2.06-2.06.94zm-11 1L8.5 8.5l.94-2.06 2.06-.94-2.06-.94L8.5 2.5l-.94 2.06-2.06.94zm10 10l.94 2.06.94-2.06 2.06-.94-2.06-.94-.94-2.06-.94 2.06-2.06.94z\"/><path d=\"M17.41 7.96l-1.37-1.37c-.4-.4-.92-.59-1.43-.59-.52 0-1.04.2-1.43.59L10.3 9.45l-7.72 7.72c-.78.78-.78 2.05 0 2.83L4 21.41c.39.39.9.59 1.41.59.51 0 1.02-.2 1.41-.59l7.78-7.78 2.81-2.81c.8-.78.8-2.07 0-2.86zM5.41 20L4 18.59l7.72-7.72 1.47 1.35L5.41 20z\"/>\n",
              "  </svg>\n",
              "      </button>\n",
              "      \n",
              "  <style>\n",
              "    .colab-df-container {\n",
              "      display:flex;\n",
              "      flex-wrap:wrap;\n",
              "      gap: 12px;\n",
              "    }\n",
              "\n",
              "    .colab-df-convert {\n",
              "      background-color: #E8F0FE;\n",
              "      border: none;\n",
              "      border-radius: 50%;\n",
              "      cursor: pointer;\n",
              "      display: none;\n",
              "      fill: #1967D2;\n",
              "      height: 32px;\n",
              "      padding: 0 0 0 0;\n",
              "      width: 32px;\n",
              "    }\n",
              "\n",
              "    .colab-df-convert:hover {\n",
              "      background-color: #E2EBFA;\n",
              "      box-shadow: 0px 1px 2px rgba(60, 64, 67, 0.3), 0px 1px 3px 1px rgba(60, 64, 67, 0.15);\n",
              "      fill: #174EA6;\n",
              "    }\n",
              "\n",
              "    [theme=dark] .colab-df-convert {\n",
              "      background-color: #3B4455;\n",
              "      fill: #D2E3FC;\n",
              "    }\n",
              "\n",
              "    [theme=dark] .colab-df-convert:hover {\n",
              "      background-color: #434B5C;\n",
              "      box-shadow: 0px 1px 3px 1px rgba(0, 0, 0, 0.15);\n",
              "      filter: drop-shadow(0px 1px 2px rgba(0, 0, 0, 0.3));\n",
              "      fill: #FFFFFF;\n",
              "    }\n",
              "  </style>\n",
              "\n",
              "      <script>\n",
              "        const buttonEl =\n",
              "          document.querySelector('#df-e8393c05-2b3e-4a3a-ac97-84e648f777d8 button.colab-df-convert');\n",
              "        buttonEl.style.display =\n",
              "          google.colab.kernel.accessAllowed ? 'block' : 'none';\n",
              "\n",
              "        async function convertToInteractive(key) {\n",
              "          const element = document.querySelector('#df-e8393c05-2b3e-4a3a-ac97-84e648f777d8');\n",
              "          const dataTable =\n",
              "            await google.colab.kernel.invokeFunction('convertToInteractive',\n",
              "                                                     [key], {});\n",
              "          if (!dataTable) return;\n",
              "\n",
              "          const docLinkHtml = 'Like what you see? Visit the ' +\n",
              "            '<a target=\"_blank\" href=https://colab.research.google.com/notebooks/data_table.ipynb>data table notebook</a>'\n",
              "            + ' to learn more about interactive tables.';\n",
              "          element.innerHTML = '';\n",
              "          dataTable['output_type'] = 'display_data';\n",
              "          await google.colab.output.renderOutput(dataTable, element);\n",
              "          const docLink = document.createElement('div');\n",
              "          docLink.innerHTML = docLinkHtml;\n",
              "          element.appendChild(docLink);\n",
              "        }\n",
              "      </script>\n",
              "    </div>\n",
              "  </div>\n",
              "  "
            ]
          },
          "metadata": {},
          "execution_count": 30
        }
      ]
    },
    {
      "cell_type": "code",
      "source": [
        "# jumlah NaN / missing values setiap column\n",
        "df.isna().sum()"
      ],
      "metadata": {
        "colab": {
          "base_uri": "https://localhost:8080/"
        },
        "id": "3lQCr0nSLEJp",
        "outputId": "c7a07d89-cb0f-4f8a-a015-ae1215718db8"
      },
      "execution_count": 31,
      "outputs": [
        {
          "output_type": "execute_result",
          "data": {
            "text/plain": [
              "npm                         0\n",
              "activeness_score            0\n",
              "assignment_score            8\n",
              "pre_test_score             36\n",
              "post_test_score             9\n",
              "midterm_test_score         11\n",
              "end_semester_test_score     0\n",
              "pass_test                   0\n",
              "dtype: int64"
            ]
          },
          "metadata": {},
          "execution_count": 31
        }
      ]
    },
    {
      "cell_type": "markdown",
      "source": [
        "##Preprocessing"
      ],
      "metadata": {
        "id": "LeD-PW4xLIp7"
      }
    },
    {
      "cell_type": "code",
      "source": [
        "# hapus data outlier\n",
        "df.loc[df[\"activeness_score\"]<0, \"activeness_score\"] = np.nan\n",
        "df.loc[df[\"activeness_score\"]>100, \"activeness_score\"] = np.nan"
      ],
      "metadata": {
        "id": "fh_2Xt_SMZHW"
      },
      "execution_count": 32,
      "outputs": []
    },
    {
      "cell_type": "code",
      "source": [
        "# # assign missing values dengan mean untuk setiap column yang ada missing nya\n",
        "df[\"activeness_score\"].fillna(value=df[\"activeness_score\"].mean(), inplace=True)\n",
        "df[\"assignment_score\"].fillna(value=df[\"assignment_score\"].mean(), inplace=True)\n",
        "df[\"pre_test_score\"].fillna(value=df[\"pre_test_score\"].mean(), inplace=True)\n",
        "df[\"post_test_score\"].fillna(value=df[\"post_test_score\"].mean(), inplace=True)\n",
        "df[\"midterm_test_score\"].fillna(value=df[\"midterm_test_score\"].mean(), inplace=True)"
      ],
      "metadata": {
        "id": "aoM5Lk26Mrlv"
      },
      "execution_count": 33,
      "outputs": []
    },
    {
      "cell_type": "code",
      "source": [
        "# hapus kolom yang tidak diperlukan\n",
        "df_clean = df.drop(['npm', 'pass_test'], axis=1)"
      ],
      "metadata": {
        "id": "IGEyXpa_M85X"
      },
      "execution_count": 34,
      "outputs": []
    },
    {
      "cell_type": "code",
      "source": [
        "# recale data-nya\n",
        "data_scaler = StandardScaler()\n",
        "scaled_data = data_scaler.fit_transform(df_clean)"
      ],
      "metadata": {
        "id": "GVzCjY0CNAep"
      },
      "execution_count": 35,
      "outputs": []
    },
    {
      "cell_type": "markdown",
      "source": [
        "##Modeling\n",
        "Modeling/Training data menggunakan algoritma hierarchical clustering\n",
        "\n"
      ],
      "metadata": {
        "id": "8Fl8wLjeNH4w"
      }
    },
    {
      "cell_type": "code",
      "source": [
        "# lihat pemetaan clustering berdasarkan hirarki dengan metode divisive\n",
        "complete_clustering = linkage(scaled_data, method=\"complete\", metric=\"euclidean\")\n",
        "average_clustering = linkage(scaled_data, method=\"average\", metric=\"euclidean\")\n",
        "single_clustering = linkage(scaled_data, method=\"single\", metric=\"euclidean\")"
      ],
      "metadata": {
        "id": "Msz8BIK7NWtP"
      },
      "execution_count": 36,
      "outputs": []
    },
    {
      "cell_type": "code",
      "source": [
        "# berhubung clustering ini menggunakan pendekatan herarki,\n",
        "# maka digunakan visualisasi untuk lebih mudah memahaminya\n",
        "def plot_dendrogram(clusters):\n",
        "  plt.figure(figsize=(20, 6))\n",
        "  dendrogram(clusters, orientation=\"top\", leaf_font_size=9, leaf_rotation=360)\n",
        "  plt.ylabel('Euclidean Distance');"
      ],
      "metadata": {
        "id": "S_9PlvAoNd6a"
      },
      "execution_count": 37,
      "outputs": []
    },
    {
      "cell_type": "code",
      "source": [
        "plot_dendrogram(complete_clustering)"
      ],
      "metadata": {
        "colab": {
          "base_uri": "https://localhost:8080/",
          "height": 371
        },
        "id": "TpPqO_FLNtPP",
        "outputId": "0a71ac8b-820e-43c6-d54f-76e1303adb7c"
      },
      "execution_count": 38,
      "outputs": [
        {
          "output_type": "display_data",
          "data": {
            "text/plain": [
              "<Figure size 1440x432 with 1 Axes>"
            ],
            "image/png": "[encoded data removed]"
          },
          "metadata": {
            "needs_background": "light"
          }
        }
      ]
    },
    {
      "cell_type": "code",
      "source": [
        "plot_dendrogram(average_clustering)"
      ],
      "metadata": {
        "colab": {
          "base_uri": "https://localhost:8080/",
          "height": 371
        },
        "id": "mCyXh0vCOFDH",
        "outputId": "d216208e-94dd-48fc-b21a-2240972612b1"
      },
      "execution_count": 39,
      "outputs": [
        {
          "output_type": "display_data",
          "data": {
            "text/plain": [
              "<Figure size 1440x432 with 1 Axes>"
            ],
            "image/png": "[encoded data removed]"
          },
          "metadata": {
            "needs_background": "light"
          }
        }
      ]
    },
    {
      "cell_type": "code",
      "source": [
        "plot_dendrogram(single_clustering)"
      ],
      "metadata": {
        "colab": {
          "base_uri": "https://localhost:8080/",
          "height": 368
        },
        "id": "8AdH5DEbOOpj",
        "outputId": "fd9526d4-6d2b-45d8-be4d-63a82a5c668a"
      },
      "execution_count": 40,
      "outputs": [
        {
          "output_type": "display_data",
          "data": {
            "text/plain": [
              "<Figure size 1440x432 with 1 Axes>"
            ],
            "image/png": "[encoded data removed]"
          },
          "metadata": {
            "needs_background": "light"
          }
        }
      ]
    },
    {
      "cell_type": "code",
      "source": [
        "# predict data cluster bisa menggunakan agglomerative,\n",
        "# karena sama-sama pendekatan clustering hirarki\n",
        "# asal parameternya sama dengan divisive sebelumnnya\n",
        "model = AgglomerativeClustering(n_clusters=2, metric=\"euclidean\").fit(df_clean)\n",
        "# hasil clustering\n",
        "label = model.labels_"
      ],
      "metadata": {
        "id": "HSx7pa1-OVD6"
      },
      "execution_count": 41,
      "outputs": []
    },
    {
      "cell_type": "markdown",
      "source": [
        "##Evaluation\n",
        "Evaluation hasil data clustering menggunakan beberapa metric"
      ],
      "metadata": {
        "id": "_o8xlsnIObpO"
      }
    },
    {
      "cell_type": "code",
      "source": [
        "Z = df_clean.copy()"
      ],
      "metadata": {
        "id": "buj6eoObOq6T"
      },
      "execution_count": 42,
      "outputs": []
    },
    {
      "cell_type": "code",
      "source": [
        "# Silhoutte Score dapat digunakan untuk mengevaluasi pemisahan suatu cluster\n",
        "# selain itu matriks ini dapat mengevaluasi apakah cluster overlapping atau tidak\n",
        "# semakin nilai tersebut mendekati 0, semakin bagus pemisahan cluster\n",
        "ss = silhouette_score(Z, label)\n",
        "print(f\"silhouette score yang didapat adalah: {ss}\")"
      ],
      "metadata": {
        "colab": {
          "base_uri": "https://localhost:8080/"
        },
        "id": "kmHLSoAYO2ic",
        "outputId": "12b9fce4-efd5-4974-8a57-d30dfce72197"
      },
      "execution_count": 43,
      "outputs": [
        {
          "output_type": "stream",
          "name": "stdout",
          "text": [
            "silhouette score yang didapat adalah: 0.1472906100582593\n"
          ]
        }
      ]
    },
    {
      "cell_type": "code",
      "source": [
        "# Calinski Harabasz Score dapat digunakan untuk mengevaluasi suatu cluster,\n",
        "# apakah sudah cukup terpisah dengan baik atau tidak\n",
        "# semakin besar nilai yang diperoleh, semakin banyak cluster yang dipisahkan\n",
        "sc = calinski_harabasz_score(Z, label)\n",
        "print(f\"Calinski Harabasz score yang didapat adalah: {sc}\")"
      ],
      "metadata": {
        "colab": {
          "base_uri": "https://localhost:8080/"
        },
        "id": "Cke9-rVuO6Yy",
        "outputId": "52b184ba-44f2-42e3-ef5e-e61dc87c8ec4"
      },
      "execution_count": 44,
      "outputs": [
        {
          "output_type": "stream",
          "name": "stdout",
          "text": [
            "Calinski Harabasz score yang didapat adalah: 64.32213986808439\n"
          ]
        }
      ]
    },
    {
      "cell_type": "code",
      "source": [
        "# Matrik ini dapat digunakan untuk mengevaluasi suatu model cluster,\n",
        "# apakah sudah menghasilkan cluster yang bagus atau tidak\n",
        "# semakin kecil nilai yang diperoleh (mendekati 0), semakin bagus model cluster tersebut\n",
        "sd = davies_bouldin_score(Z, label)\n",
        "print(f\"Davies Bouldin score yang didapat adalah: {sd}\")"
      ],
      "metadata": {
        "colab": {
          "base_uri": "https://localhost:8080/"
        },
        "id": "BizCL-QQO9q7",
        "outputId": "5009c781-34b9-40d1-8cd3-4a15252921b5"
      },
      "execution_count": 45,
      "outputs": [
        {
          "output_type": "stream",
          "name": "stdout",
          "text": [
            "Davies Bouldin score yang didapat adalah: 2.269267831996057\n"
          ]
        }
      ]
    },
    {
      "cell_type": "markdown",
      "source": [
        "##Tugas \n",
        "Buat visualisasi clustering"
      ],
      "metadata": {
        "id": "yPRzcnTZPIbx"
      }
    },
    {
      "cell_type": "markdown",
      "source": [
        "\n",
        "\n",
        "*   Actual cluster didapat dari kolom pass_test (not pass = 0, selain itu 1)\n",
        "*   predicted_cluster didapat dari labeling hasil pemodelan agglomerative clustering\n",
        "\n"
      ],
      "metadata": {
        "id": "5sSb85ZqdNr5"
      }
    },
    {
      "cell_type": "markdown",
      "source": [
        "###Preprocessing"
      ],
      "metadata": {
        "id": "Gl-BjZD3eNJ1"
      }
    },
    {
      "cell_type": "code",
      "source": [
        "# mengganti 'not pass' dengan 0 dan 'pass' dengan 1\n",
        "# membuat label actual_cluster\n",
        "df['actual_cluster'] = df['pass_test'] = df['pass_test'].replace('not pass', 0)\n",
        "df['actual_cluster'] = df['pass_test'] = df['pass_test'].replace('pass', 1)"
      ],
      "metadata": {
        "id": "To3QiQCEPUgN"
      },
      "execution_count": 46,
      "outputs": []
    },
    {
      "cell_type": "markdown",
      "source": [
        "###Modeling"
      ],
      "metadata": {
        "id": "2He5hsI_gqwp"
      }
    },
    {
      "cell_type": "code",
      "source": [
        "# Membuat predicted_cluster dari labeling pemodelan agglomerative clustering\n",
        "clustering = AgglomerativeClustering(n_clusters=2).fit(df)\n",
        "\n",
        "# drop kolom npm dan pass_test\n",
        "df = df.drop(['npm', 'pass_test'], axis=1)\n",
        "\n",
        "df['predicted_cluster'] = clustering.labels_\n",
        "df.head()"
      ],
      "metadata": {
        "colab": {
          "base_uri": "https://localhost:8080/",
          "height": 250
        },
        "id": "-LEiN7DCgsQ2",
        "outputId": "44da5328-a3da-47d2-c646-9a52857d5113"
      },
      "execution_count": 47,
      "outputs": [
        {
          "output_type": "execute_result",
          "data": {
            "text/plain": [
              "   activeness_score  assignment_score  pre_test_score  post_test_score  \\\n",
              "0              99.0              71.0       93.000000        52.000000   \n",
              "1              96.0              77.0       57.988095        27.000000   \n",
              "2              86.0              71.0       84.000000        17.000000   \n",
              "3              81.0              96.0       57.988095        52.798898   \n",
              "4              93.0              85.0       68.000000        29.000000   \n",
              "\n",
              "   midterm_test_score  end_semester_test_score  actual_cluster  \\\n",
              "0                44.0                       24               0   \n",
              "1               100.0                       89               1   \n",
              "2                21.0                       41               0   \n",
              "3                11.0                       99               0   \n",
              "4                44.0                       50               0   \n",
              "\n",
              "   predicted_cluster  \n",
              "0                  0  \n",
              "1                  0  \n",
              "2                  0  \n",
              "3                  0  \n",
              "4                  0  "
            ],
            "text/html": [
              "\n",
              "  <div id=\"df-009d6bb2-133e-48cc-a43b-abb06de53c74\">\n",
              "    <div class=\"colab-df-container\">\n",
              "      <div>\n",
              "<style scoped>\n",
              "    .dataframe tbody tr th:only-of-type {\n",
              "        vertical-align: middle;\n",
              "    }\n",
              "\n",
              "    .dataframe tbody tr th {\n",
              "        vertical-align: top;\n",
              "    }\n",
              "\n",
              "    .dataframe thead th {\n",
              "        text-align: right;\n",
              "    }\n",
              "</style>\n",
              "<table border=\"1\" class=\"dataframe\">\n",
              "  <thead>\n",
              "    <tr style=\"text-align: right;\">\n",
              "      <th></th>\n",
              "      <th>activeness_score</th>\n",
              "      <th>assignment_score</th>\n",
              "      <th>pre_test_score</th>\n",
              "      <th>post_test_score</th>\n",
              "      <th>midterm_test_score</th>\n",
              "      <th>end_semester_test_score</th>\n",
              "      <th>actual_cluster</th>\n",
              "      <th>predicted_cluster</th>\n",
              "    </tr>\n",
              "  </thead>\n",
              "  <tbody>\n",
              "    <tr>\n",
              "      <th>0</th>\n",
              "      <td>99.0</td>\n",
              "      <td>71.0</td>\n",
              "      <td>93.000000</td>\n",
              "      <td>52.000000</td>\n",
              "      <td>44.0</td>\n",
              "      <td>24</td>\n",
              "      <td>0</td>\n",
              "      <td>0</td>\n",
              "    </tr>\n",
              "    <tr>\n",
              "      <th>1</th>\n",
              "      <td>96.0</td>\n",
              "      <td>77.0</td>\n",
              "      <td>57.988095</td>\n",
              "      <td>27.000000</td>\n",
              "      <td>100.0</td>\n",
              "      <td>89</td>\n",
              "      <td>1</td>\n",
              "      <td>0</td>\n",
              "    </tr>\n",
              "    <tr>\n",
              "      <th>2</th>\n",
              "      <td>86.0</td>\n",
              "      <td>71.0</td>\n",
              "      <td>84.000000</td>\n",
              "      <td>17.000000</td>\n",
              "      <td>21.0</td>\n",
              "      <td>41</td>\n",
              "      <td>0</td>\n",
              "      <td>0</td>\n",
              "    </tr>\n",
              "    <tr>\n",
              "      <th>3</th>\n",
              "      <td>81.0</td>\n",
              "      <td>96.0</td>\n",
              "      <td>57.988095</td>\n",
              "      <td>52.798898</td>\n",
              "      <td>11.0</td>\n",
              "      <td>99</td>\n",
              "      <td>0</td>\n",
              "      <td>0</td>\n",
              "    </tr>\n",
              "    <tr>\n",
              "      <th>4</th>\n",
              "      <td>93.0</td>\n",
              "      <td>85.0</td>\n",
              "      <td>68.000000</td>\n",
              "      <td>29.000000</td>\n",
              "      <td>44.0</td>\n",
              "      <td>50</td>\n",
              "      <td>0</td>\n",
              "      <td>0</td>\n",
              "    </tr>\n",
              "  </tbody>\n",
              "</table>\n",
              "</div>\n",
              "      <button class=\"colab-df-convert\" onclick=\"convertToInteractive('df-009d6bb2-133e-48cc-a43b-abb06de53c74')\"\n",
              "              title=\"Convert this dataframe to an interactive table.\"\n",
              "              style=\"display:none;\">\n",
              "        \n",
              "  <svg xmlns=\"http://www.w3.org/2000/svg\" height=\"24px\"viewBox=\"0 0 24 24\"\n",
              "       width=\"24px\">\n",
              "    <path d=\"M0 0h24v24H0V0z\" fill=\"none\"/>\n",
              "    <path d=\"M18.56 5.44l.94 2.06.94-2.06 2.06-.94-2.06-.94-.94-2.06-.94 2.06-2.06.94zm-11 1L8.5 8.5l.94-2.06 2.06-.94-2.06-.94L8.5 2.5l-.94 2.06-2.06.94zm10 10l.94 2.06.94-2.06 2.06-.94-2.06-.94-.94-2.06-.94 2.06-2.06.94z\"/><path d=\"M17.41 7.96l-1.37-1.37c-.4-.4-.92-.59-1.43-.59-.52 0-1.04.2-1.43.59L10.3 9.45l-7.72 7.72c-.78.78-.78 2.05 0 2.83L4 21.41c.39.39.9.59 1.41.59.51 0 1.02-.2 1.41-.59l7.78-7.78 2.81-2.81c.8-.78.8-2.07 0-2.86zM5.41 20L4 18.59l7.72-7.72 1.47 1.35L5.41 20z\"/>\n",
              "  </svg>\n",
              "      </button>\n",
              "      \n",
              "  <style>\n",
              "    .colab-df-container {\n",
              "      display:flex;\n",
              "      flex-wrap:wrap;\n",
              "      gap: 12px;\n",
              "    }\n",
              "\n",
              "    .colab-df-convert {\n",
              "      background-color: #E8F0FE;\n",
              "      border: none;\n",
              "      border-radius: 50%;\n",
              "      cursor: pointer;\n",
              "      display: none;\n",
              "      fill: #1967D2;\n",
              "      height: 32px;\n",
              "      padding: 0 0 0 0;\n",
              "      width: 32px;\n",
              "    }\n",
              "\n",
              "    .colab-df-convert:hover {\n",
              "      background-color: #E2EBFA;\n",
              "      box-shadow: 0px 1px 2px rgba(60, 64, 67, 0.3), 0px 1px 3px 1px rgba(60, 64, 67, 0.15);\n",
              "      fill: #174EA6;\n",
              "    }\n",
              "\n",
              "    [theme=dark] .colab-df-convert {\n",
              "      background-color: #3B4455;\n",
              "      fill: #D2E3FC;\n",
              "    }\n",
              "\n",
              "    [theme=dark] .colab-df-convert:hover {\n",
              "      background-color: #434B5C;\n",
              "      box-shadow: 0px 1px 3px 1px rgba(0, 0, 0, 0.15);\n",
              "      filter: drop-shadow(0px 1px 2px rgba(0, 0, 0, 0.3));\n",
              "      fill: #FFFFFF;\n",
              "    }\n",
              "  </style>\n",
              "\n",
              "      <script>\n",
              "        const buttonEl =\n",
              "          document.querySelector('#df-009d6bb2-133e-48cc-a43b-abb06de53c74 button.colab-df-convert');\n",
              "        buttonEl.style.display =\n",
              "          google.colab.kernel.accessAllowed ? 'block' : 'none';\n",
              "\n",
              "        async function convertToInteractive(key) {\n",
              "          const element = document.querySelector('#df-009d6bb2-133e-48cc-a43b-abb06de53c74');\n",
              "          const dataTable =\n",
              "            await google.colab.kernel.invokeFunction('convertToInteractive',\n",
              "                                                     [key], {});\n",
              "          if (!dataTable) return;\n",
              "\n",
              "          const docLinkHtml = 'Like what you see? Visit the ' +\n",
              "            '<a target=\"_blank\" href=https://colab.research.google.com/notebooks/data_table.ipynb>data table notebook</a>'\n",
              "            + ' to learn more about interactive tables.';\n",
              "          element.innerHTML = '';\n",
              "          dataTable['output_type'] = 'display_data';\n",
              "          await google.colab.output.renderOutput(dataTable, element);\n",
              "          const docLink = document.createElement('div');\n",
              "          docLink.innerHTML = docLinkHtml;\n",
              "          element.appendChild(docLink);\n",
              "        }\n",
              "      </script>\n",
              "    </div>\n",
              "  </div>\n",
              "  "
            ]
          },
          "metadata": {},
          "execution_count": 47
        }
      ]
    },
    {
      "cell_type": "markdown",
      "source": [
        "###Actual Cluster"
      ],
      "metadata": {
        "id": "9rt58FPSjNra"
      }
    },
    {
      "cell_type": "code",
      "source": [
        "# scatter plot untuk actual_cluster\n",
        "plt.scatter(df['pre_test_score'][df['actual_cluster'] == 0], df['post_test_score'][df['actual_cluster'] == 0], color='brown', label='not pass')\n",
        "plt.scatter(df['pre_test_score'][df['actual_cluster'] == 1], df['post_test_score'][df['actual_cluster'] == 1], color='green', label='pass')\n",
        "\n",
        "#judul visual\n",
        "plt.title('actual_cluster')\n",
        "\n",
        "#label x dan y\n",
        "plt.xlabel('X')\n",
        "plt.ylabel('Y')\n",
        "\n",
        "#menampilkan keterangan dalam grafik\n",
        "plt.legend(title=\"actual_cluster\", labels = ['0', '1'], loc='upper right')\n",
        "\n",
        "#menampilkan visualisasi \n",
        "plt.show()"
      ],
      "metadata": {
        "colab": {
          "base_uri": "https://localhost:8080/",
          "height": 295
        },
        "id": "lCY1syWhjPgH",
        "outputId": "d86c916d-343e-45c5-c7ae-b15d56d8de03"
      },
      "execution_count": 57,
      "outputs": [
        {
          "output_type": "display_data",
          "data": {
            "text/plain": [
              "<Figure size 432x288 with 1 Axes>"
            ],
            "image/png": "[encoded data removed]"
          },
          "metadata": {
            "needs_background": "light"
          }
        }
      ]
    },
    {
      "cell_type": "markdown",
      "source": [
        "###Predicted Cluster"
      ],
      "metadata": {
        "id": "38065mGpsZTe"
      }
    },
    {
      "cell_type": "code",
      "source": [
        "# scatter plot untuk predicted_cluster\n",
        "plt.scatter(df['pre_test_score'][df['predicted_cluster'] == 0], df['post_test_score'][df['predicted_cluster'] == 0], color='brown', label='Cluster 0')\n",
        "plt.scatter(df['pre_test_score'][df['predicted_cluster'] == 1], df['post_test_score'][df['predicted_cluster'] == 1], color='green', label='Cluster 1')\n",
        "\n",
        "#judul visual\n",
        "plt.title('predicted_cluster')\n",
        "\n",
        "#label x dan y\n",
        "plt.xlabel('X')\n",
        "plt.ylabel('Y')\n",
        "\n",
        "#menampilkan keterangan dalam grafik\n",
        "plt.legend(title=\"predicted_cluster\", labels = ['0', '1'], loc='upper right')\n",
        "\n",
        "#menampilkan visualisasi \n",
        "plt.show()"
      ],
      "metadata": {
        "colab": {
          "base_uri": "https://localhost:8080/",
          "height": 295
        },
        "id": "0yoOcQnCsfZl",
        "outputId": "fe67fd13-27ab-4a32-e48e-92a08a2c4873"
      },
      "execution_count": 58,
      "outputs": [
        {
          "output_type": "display_data",
          "data": {
            "text/plain": [
              "<Figure size 432x288 with 1 Axes>"
            ],
            "image/png": "[encoded data removed]"
          },
          "metadata": {
            "needs_background": "light"
          }
        }
      ]
    }
  ]
}