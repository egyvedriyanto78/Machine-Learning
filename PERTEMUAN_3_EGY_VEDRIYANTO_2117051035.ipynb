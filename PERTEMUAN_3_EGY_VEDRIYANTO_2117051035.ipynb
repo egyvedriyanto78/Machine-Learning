{
  "nbformat": 4,
  "nbformat_minor": 0,
  "metadata": {
    "colab": {
      "provenance": [],
      "authorship_tag": "ABX9TyMH/wQNFFbz7575P5vGwcl/"
    },
    "kernelspec": {
      "name": "python3",
      "display_name": "Python 3"
    },
    "language_info": {
      "name": "python"
    }
  },
  "cells": [
    {
      "cell_type": "markdown",
      "source": [
        "# Machine Learning pt.3\n",
        "\n",
        "##### Egy Vedriyanto\n",
        "##### 2117051035"
      ],
      "metadata": {
        "id": "Vp_lDjckg_4B"
      }
    },
    {
      "cell_type": "markdown",
      "source": [
        "##Library"
      ],
      "metadata": {
        "id": "C8ttJxXhhP5Y"
      }
    },
    {
      "cell_type": "code",
      "source": [
        "import numpy as np\n",
        "import pandas as pd\n",
        "import scipy as stats\n",
        "from scipy.stats import chi2\n",
        "from scipy.spatial.distance import cityblock, mahalanobis"
      ],
      "metadata": {
        "id": "olEEa__hhUkf"
      },
      "execution_count": 1,
      "outputs": []
    },
    {
      "cell_type": "markdown",
      "source": [
        "## Dataset"
      ],
      "metadata": {
        "id": "IYBiToj1hsxI"
      }
    },
    {
      "cell_type": "code",
      "source": [
        "#dataset pertama untuk perhitungan euclidean distance\n",
        "P1 = np.array((4, 1))\n",
        "P2 = np.array((1, 3))\n",
        "\n",
        "#dataset kedua untuk perhitungan mahalanobis distance\n",
        "X = np.array([[7.0, 165, 5], [7.4, 160, 5], [7.1, 170, 4], [7.3, 150, 5], [7.2, 160, 3], [7.1, 145, 3], [6.0, 100, 5]])"
      ],
      "metadata": {
        "id": "ZBAS4LLZhuix"
      },
      "execution_count": 2,
      "outputs": []
    },
    {
      "cell_type": "code",
      "source": [
        "#info dataset\n",
        "print(X.shape)\n",
        "print(X.ndim)\n",
        "print(X)"
      ],
      "metadata": {
        "colab": {
          "base_uri": "https://localhost:8080/"
        },
        "id": "mxAmJ-OQjEuf",
        "outputId": "005cd9e6-dbed-4030-8e9c-57b52393f03f"
      },
      "execution_count": 3,
      "outputs": [
        {
          "output_type": "stream",
          "name": "stdout",
          "text": [
            "(7, 3)\n",
            "2\n",
            "[[  7.  165.    5. ]\n",
            " [  7.4 160.    5. ]\n",
            " [  7.1 170.    4. ]\n",
            " [  7.3 150.    5. ]\n",
            " [  7.2 160.    3. ]\n",
            " [  7.1 145.    3. ]\n",
            " [  6.  100.    5. ]]\n"
          ]
        }
      ]
    },
    {
      "cell_type": "markdown",
      "source": [
        "## Calculate Distance"
      ],
      "metadata": {
        "id": "CE-DJS50kGRO"
      }
    },
    {
      "cell_type": "markdown",
      "source": [
        "### Manhattan Distance"
      ],
      "metadata": {
        "id": "ub3uyi7bkIM3"
      }
    },
    {
      "cell_type": "code",
      "source": [
        "mht_dist = cityblock(P1, P2)\n",
        "print(mht_dist)"
      ],
      "metadata": {
        "colab": {
          "base_uri": "https://localhost:8080/"
        },
        "id": "FfARWe22kOcu",
        "outputId": "2185c98e-367d-4be5-dab7-2558213dbbf6"
      },
      "execution_count": 4,
      "outputs": [
        {
          "output_type": "stream",
          "name": "stdout",
          "text": [
            "5\n"
          ]
        }
      ]
    },
    {
      "cell_type": "markdown",
      "source": [
        "###Euclidean Distance"
      ],
      "metadata": {
        "id": "GFjNwfWZkcOu"
      }
    },
    {
      "cell_type": "code",
      "source": [
        "#Hitung selisih antara dua vector\n",
        "temp = P1 - P2\n",
        "\n",
        "#gunakan formula euclidean di library numpy\n",
        "euclid_dist = np.sqrt(np.dot(temp.T, temp))\n",
        "print(np.dot(temp.T, temp))\n",
        "print(euclid_dist)\n",
        "\n"
      ],
      "metadata": {
        "colab": {
          "base_uri": "https://localhost:8080/"
        },
        "id": "tOEftO_UkhUu",
        "outputId": "f75bfb7e-de05-424d-97a0-6f0d60510674"
      },
      "execution_count": 5,
      "outputs": [
        {
          "output_type": "stream",
          "name": "stdout",
          "text": [
            "13\n",
            "3.605551275463989\n"
          ]
        }
      ]
    },
    {
      "cell_type": "markdown",
      "source": [
        "###Mahalanobis Distance"
      ],
      "metadata": {
        "id": "8xC0xdljl4XH"
      }
    },
    {
      "cell_type": "code",
      "source": [
        "#Hitung kovarians dan inverse kovarians dari dataset\n",
        "cov = np.cov(X.T)\n",
        "inv_cov = np.linalg.inv(cov)\n",
        "\n",
        "#Dua data baru dalam dataset\n",
        "x1 = np.array([7.1, 145, 3])\n",
        "x2 = np.array([6.0, 100, 5])\n",
        "\n",
        "#Hitung jarak Mahalanobis antara dua titik\n",
        "mhlnbs_dist = mahalanobis(x1, x2, inv_cov)\n",
        "print(mhlnbs_dist)\n",
        "\n"
      ],
      "metadata": {
        "colab": {
          "base_uri": "https://localhost:8080/"
        },
        "id": "jtgmjBT9l7Q-",
        "outputId": "04bef266-16ac-4602-c5a4-0ac6d930b360"
      },
      "execution_count": 6,
      "outputs": [
        {
          "output_type": "stream",
          "name": "stdout",
          "text": [
            "2.863641534625095\n"
          ]
        }
      ]
    },
    {
      "cell_type": "markdown",
      "source": [
        "## Tugas 3 Machine Learning\n"
      ],
      "metadata": {
        "id": "MhHUyNut0zLh"
      }
    },
    {
      "cell_type": "markdown",
      "source": [
        "### 1. Tentukan mahalanobis distance setiap row yang ada didata ini."
      ],
      "metadata": {
        "id": "Axs8FFRq1Iqb"
      }
    },
    {
      "cell_type": "code",
      "source": [
        "def Mahalanobis_dist(y=None, data=None, cov=None):\n",
        "    y_mu = y - np.mean(data)\n",
        "    if not cov:\n",
        "        cov = np.cov(data.values.T)\n",
        "        inv_covmat = np.linalg.inv(cov)\n",
        "        left = np.dot(y_mu, inv_covmat)\n",
        "        mahalanobis = np.dot(left, y_mu.T)\n",
        "    return mahalanobis.diagonal()"
      ],
      "metadata": {
        "id": "9djL5tBq1ETX"
      },
      "execution_count": 9,
      "outputs": []
    },
    {
      "cell_type": "code",
      "source": [
        "df = pd.DataFrame(X, columns=['diameter (f1)', 'berat (f2)', 'tingkat kemerahan (f3)'])\n",
        "df"
      ],
      "metadata": {
        "colab": {
          "base_uri": "https://localhost:8080/",
          "height": 269
        },
        "id": "RfKN65rE2LoB",
        "outputId": "e9729a0e-8463-4166-8481-13e9501a8a98"
      },
      "execution_count": 11,
      "outputs": [
        {
          "output_type": "execute_result",
          "data": {
            "text/plain": [
              "   diameter (f1)  berat (f2)  tingkat kemerahan (f3)\n",
              "0            7.0       165.0                     5.0\n",
              "1            7.4       160.0                     5.0\n",
              "2            7.1       170.0                     4.0\n",
              "3            7.3       150.0                     5.0\n",
              "4            7.2       160.0                     3.0\n",
              "5            7.1       145.0                     3.0\n",
              "6            6.0       100.0                     5.0"
            ],
            "text/html": [
              "\n",
              "  <div id=\"df-c0c61d66-97e1-45b7-bd5e-5204bd669673\">\n",
              "    <div class=\"colab-df-container\">\n",
              "      <div>\n",
              "<style scoped>\n",
              "    .dataframe tbody tr th:only-of-type {\n",
              "        vertical-align: middle;\n",
              "    }\n",
              "\n",
              "    .dataframe tbody tr th {\n",
              "        vertical-align: top;\n",
              "    }\n",
              "\n",
              "    .dataframe thead th {\n",
              "        text-align: right;\n",
              "    }\n",
              "</style>\n",
              "<table border=\"1\" class=\"dataframe\">\n",
              "  <thead>\n",
              "    <tr style=\"text-align: right;\">\n",
              "      <th></th>\n",
              "      <th>diameter (f1)</th>\n",
              "      <th>berat (f2)</th>\n",
              "      <th>tingkat kemerahan (f3)</th>\n",
              "    </tr>\n",
              "  </thead>\n",
              "  <tbody>\n",
              "    <tr>\n",
              "      <th>0</th>\n",
              "      <td>7.0</td>\n",
              "      <td>165.0</td>\n",
              "      <td>5.0</td>\n",
              "    </tr>\n",
              "    <tr>\n",
              "      <th>1</th>\n",
              "      <td>7.4</td>\n",
              "      <td>160.0</td>\n",
              "      <td>5.0</td>\n",
              "    </tr>\n",
              "    <tr>\n",
              "      <th>2</th>\n",
              "      <td>7.1</td>\n",
              "      <td>170.0</td>\n",
              "      <td>4.0</td>\n",
              "    </tr>\n",
              "    <tr>\n",
              "      <th>3</th>\n",
              "      <td>7.3</td>\n",
              "      <td>150.0</td>\n",
              "      <td>5.0</td>\n",
              "    </tr>\n",
              "    <tr>\n",
              "      <th>4</th>\n",
              "      <td>7.2</td>\n",
              "      <td>160.0</td>\n",
              "      <td>3.0</td>\n",
              "    </tr>\n",
              "    <tr>\n",
              "      <th>5</th>\n",
              "      <td>7.1</td>\n",
              "      <td>145.0</td>\n",
              "      <td>3.0</td>\n",
              "    </tr>\n",
              "    <tr>\n",
              "      <th>6</th>\n",
              "      <td>6.0</td>\n",
              "      <td>100.0</td>\n",
              "      <td>5.0</td>\n",
              "    </tr>\n",
              "  </tbody>\n",
              "</table>\n",
              "</div>\n",
              "      <button class=\"colab-df-convert\" onclick=\"convertToInteractive('df-c0c61d66-97e1-45b7-bd5e-5204bd669673')\"\n",
              "              title=\"Convert this dataframe to an interactive table.\"\n",
              "              style=\"display:none;\">\n",
              "        \n",
              "  <svg xmlns=\"http://www.w3.org/2000/svg\" height=\"24px\"viewBox=\"0 0 24 24\"\n",
              "       width=\"24px\">\n",
              "    <path d=\"M0 0h24v24H0V0z\" fill=\"none\"/>\n",
              "    <path d=\"M18.56 5.44l.94 2.06.94-2.06 2.06-.94-2.06-.94-.94-2.06-.94 2.06-2.06.94zm-11 1L8.5 8.5l.94-2.06 2.06-.94-2.06-.94L8.5 2.5l-.94 2.06-2.06.94zm10 10l.94 2.06.94-2.06 2.06-.94-2.06-.94-.94-2.06-.94 2.06-2.06.94z\"/><path d=\"M17.41 7.96l-1.37-1.37c-.4-.4-.92-.59-1.43-.59-.52 0-1.04.2-1.43.59L10.3 9.45l-7.72 7.72c-.78.78-.78 2.05 0 2.83L4 21.41c.39.39.9.59 1.41.59.51 0 1.02-.2 1.41-.59l7.78-7.78 2.81-2.81c.8-.78.8-2.07 0-2.86zM5.41 20L4 18.59l7.72-7.72 1.47 1.35L5.41 20z\"/>\n",
              "  </svg>\n",
              "      </button>\n",
              "      \n",
              "  <style>\n",
              "    .colab-df-container {\n",
              "      display:flex;\n",
              "      flex-wrap:wrap;\n",
              "      gap: 12px;\n",
              "    }\n",
              "\n",
              "    .colab-df-convert {\n",
              "      background-color: #E8F0FE;\n",
              "      border: none;\n",
              "      border-radius: 50%;\n",
              "      cursor: pointer;\n",
              "      display: none;\n",
              "      fill: #1967D2;\n",
              "      height: 32px;\n",
              "      padding: 0 0 0 0;\n",
              "      width: 32px;\n",
              "    }\n",
              "\n",
              "    .colab-df-convert:hover {\n",
              "      background-color: #E2EBFA;\n",
              "      box-shadow: 0px 1px 2px rgba(60, 64, 67, 0.3), 0px 1px 3px 1px rgba(60, 64, 67, 0.15);\n",
              "      fill: #174EA6;\n",
              "    }\n",
              "\n",
              "    [theme=dark] .colab-df-convert {\n",
              "      background-color: #3B4455;\n",
              "      fill: #D2E3FC;\n",
              "    }\n",
              "\n",
              "    [theme=dark] .colab-df-convert:hover {\n",
              "      background-color: #434B5C;\n",
              "      box-shadow: 0px 1px 3px 1px rgba(0, 0, 0, 0.15);\n",
              "      filter: drop-shadow(0px 1px 2px rgba(0, 0, 0, 0.3));\n",
              "      fill: #FFFFFF;\n",
              "    }\n",
              "  </style>\n",
              "\n",
              "      <script>\n",
              "        const buttonEl =\n",
              "          document.querySelector('#df-c0c61d66-97e1-45b7-bd5e-5204bd669673 button.colab-df-convert');\n",
              "        buttonEl.style.display =\n",
              "          google.colab.kernel.accessAllowed ? 'block' : 'none';\n",
              "\n",
              "        async function convertToInteractive(key) {\n",
              "          const element = document.querySelector('#df-c0c61d66-97e1-45b7-bd5e-5204bd669673');\n",
              "          const dataTable =\n",
              "            await google.colab.kernel.invokeFunction('convertToInteractive',\n",
              "                                                     [key], {});\n",
              "          if (!dataTable) return;\n",
              "\n",
              "          const docLinkHtml = 'Like what you see? Visit the ' +\n",
              "            '<a target=\"_blank\" href=https://colab.research.google.com/notebooks/data_table.ipynb>data table notebook</a>'\n",
              "            + ' to learn more about interactive tables.';\n",
              "          element.innerHTML = '';\n",
              "          dataTable['output_type'] = 'display_data';\n",
              "          await google.colab.output.renderOutput(dataTable, element);\n",
              "          const docLink = document.createElement('div');\n",
              "          docLink.innerHTML = docLinkHtml;\n",
              "          element.appendChild(docLink);\n",
              "        }\n",
              "      </script>\n",
              "    </div>\n",
              "  </div>\n",
              "  "
            ]
          },
          "metadata": {},
          "execution_count": 11
        }
      ]
    },
    {
      "cell_type": "markdown",
      "source": [
        "### 2. Normalisasi hasil mahalanobis distance menggunakan perhitungan p-value"
      ],
      "metadata": {
        "id": "Csf5dSoi2ihk"
      }
    },
    {
      "cell_type": "code",
      "source": [
        "#Menghitung jarak mahalanobis pada setiap baris\n",
        "df['Mahalanobis'] = Mahalanobis_dist(y=df, data=df[['diameter (f1)', 'berat (f2)', 'tingkat kemerahan (f3)']])"
      ],
      "metadata": {
        "id": "uHQLTKNa2pg6"
      },
      "execution_count": 12,
      "outputs": []
    },
    {
      "cell_type": "code",
      "source": [
        "#Menghitung p-value untuk setiap jarak\n",
        "df['p'] = 1 - chi2.cdf(df['Mahalanobis'], 3)"
      ],
      "metadata": {
        "id": "6A_sZ9FE24e7"
      },
      "execution_count": 13,
      "outputs": []
    },
    {
      "cell_type": "code",
      "source": [
        "#Hasil print\n",
        "df"
      ],
      "metadata": {
        "colab": {
          "base_uri": "https://localhost:8080/",
          "height": 269
        },
        "id": "NikgHATR3DIN",
        "outputId": "f0ed7406-600a-4ce0-fd8b-cafa47ba8a5e"
      },
      "execution_count": 14,
      "outputs": [
        {
          "output_type": "execute_result",
          "data": {
            "text/plain": [
              "   diameter (f1)  berat (f2)  tingkat kemerahan (f3)  Mahalanobis         p\n",
              "0            7.0       165.0                     5.0     2.444376  0.485428\n",
              "1            7.4       160.0                     5.0     1.940472  0.584853\n",
              "2            7.1       170.0                     4.0     1.999789  0.572450\n",
              "3            7.3       150.0                     5.0     2.301735  0.512189\n",
              "4            7.2       160.0                     3.0     1.845689  0.605043\n",
              "5            7.1       145.0                     3.0     2.483532  0.478275\n",
              "6            6.0       100.0                     5.0     4.984406  0.172943"
            ],
            "text/html": [
              "\n",
              "  <div id=\"df-c4c8e9e5-ef71-43ce-8af7-6a7c555966bb\">\n",
              "    <div class=\"colab-df-container\">\n",
              "      <div>\n",
              "<style scoped>\n",
              "    .dataframe tbody tr th:only-of-type {\n",
              "        vertical-align: middle;\n",
              "    }\n",
              "\n",
              "    .dataframe tbody tr th {\n",
              "        vertical-align: top;\n",
              "    }\n",
              "\n",
              "    .dataframe thead th {\n",
              "        text-align: right;\n",
              "    }\n",
              "</style>\n",
              "<table border=\"1\" class=\"dataframe\">\n",
              "  <thead>\n",
              "    <tr style=\"text-align: right;\">\n",
              "      <th></th>\n",
              "      <th>diameter (f1)</th>\n",
              "      <th>berat (f2)</th>\n",
              "      <th>tingkat kemerahan (f3)</th>\n",
              "      <th>Mahalanobis</th>\n",
              "      <th>p</th>\n",
              "    </tr>\n",
              "  </thead>\n",
              "  <tbody>\n",
              "    <tr>\n",
              "      <th>0</th>\n",
              "      <td>7.0</td>\n",
              "      <td>165.0</td>\n",
              "      <td>5.0</td>\n",
              "      <td>2.444376</td>\n",
              "      <td>0.485428</td>\n",
              "    </tr>\n",
              "    <tr>\n",
              "      <th>1</th>\n",
              "      <td>7.4</td>\n",
              "      <td>160.0</td>\n",
              "      <td>5.0</td>\n",
              "      <td>1.940472</td>\n",
              "      <td>0.584853</td>\n",
              "    </tr>\n",
              "    <tr>\n",
              "      <th>2</th>\n",
              "      <td>7.1</td>\n",
              "      <td>170.0</td>\n",
              "      <td>4.0</td>\n",
              "      <td>1.999789</td>\n",
              "      <td>0.572450</td>\n",
              "    </tr>\n",
              "    <tr>\n",
              "      <th>3</th>\n",
              "      <td>7.3</td>\n",
              "      <td>150.0</td>\n",
              "      <td>5.0</td>\n",
              "      <td>2.301735</td>\n",
              "      <td>0.512189</td>\n",
              "    </tr>\n",
              "    <tr>\n",
              "      <th>4</th>\n",
              "      <td>7.2</td>\n",
              "      <td>160.0</td>\n",
              "      <td>3.0</td>\n",
              "      <td>1.845689</td>\n",
              "      <td>0.605043</td>\n",
              "    </tr>\n",
              "    <tr>\n",
              "      <th>5</th>\n",
              "      <td>7.1</td>\n",
              "      <td>145.0</td>\n",
              "      <td>3.0</td>\n",
              "      <td>2.483532</td>\n",
              "      <td>0.478275</td>\n",
              "    </tr>\n",
              "    <tr>\n",
              "      <th>6</th>\n",
              "      <td>6.0</td>\n",
              "      <td>100.0</td>\n",
              "      <td>5.0</td>\n",
              "      <td>4.984406</td>\n",
              "      <td>0.172943</td>\n",
              "    </tr>\n",
              "  </tbody>\n",
              "</table>\n",
              "</div>\n",
              "      <button class=\"colab-df-convert\" onclick=\"convertToInteractive('df-c4c8e9e5-ef71-43ce-8af7-6a7c555966bb')\"\n",
              "              title=\"Convert this dataframe to an interactive table.\"\n",
              "              style=\"display:none;\">\n",
              "        \n",
              "  <svg xmlns=\"http://www.w3.org/2000/svg\" height=\"24px\"viewBox=\"0 0 24 24\"\n",
              "       width=\"24px\">\n",
              "    <path d=\"M0 0h24v24H0V0z\" fill=\"none\"/>\n",
              "    <path d=\"M18.56 5.44l.94 2.06.94-2.06 2.06-.94-2.06-.94-.94-2.06-.94 2.06-2.06.94zm-11 1L8.5 8.5l.94-2.06 2.06-.94-2.06-.94L8.5 2.5l-.94 2.06-2.06.94zm10 10l.94 2.06.94-2.06 2.06-.94-2.06-.94-.94-2.06-.94 2.06-2.06.94z\"/><path d=\"M17.41 7.96l-1.37-1.37c-.4-.4-.92-.59-1.43-.59-.52 0-1.04.2-1.43.59L10.3 9.45l-7.72 7.72c-.78.78-.78 2.05 0 2.83L4 21.41c.39.39.9.59 1.41.59.51 0 1.02-.2 1.41-.59l7.78-7.78 2.81-2.81c.8-.78.8-2.07 0-2.86zM5.41 20L4 18.59l7.72-7.72 1.47 1.35L5.41 20z\"/>\n",
              "  </svg>\n",
              "      </button>\n",
              "      \n",
              "  <style>\n",
              "    .colab-df-container {\n",
              "      display:flex;\n",
              "      flex-wrap:wrap;\n",
              "      gap: 12px;\n",
              "    }\n",
              "\n",
              "    .colab-df-convert {\n",
              "      background-color: #E8F0FE;\n",
              "      border: none;\n",
              "      border-radius: 50%;\n",
              "      cursor: pointer;\n",
              "      display: none;\n",
              "      fill: #1967D2;\n",
              "      height: 32px;\n",
              "      padding: 0 0 0 0;\n",
              "      width: 32px;\n",
              "    }\n",
              "\n",
              "    .colab-df-convert:hover {\n",
              "      background-color: #E2EBFA;\n",
              "      box-shadow: 0px 1px 2px rgba(60, 64, 67, 0.3), 0px 1px 3px 1px rgba(60, 64, 67, 0.15);\n",
              "      fill: #174EA6;\n",
              "    }\n",
              "\n",
              "    [theme=dark] .colab-df-convert {\n",
              "      background-color: #3B4455;\n",
              "      fill: #D2E3FC;\n",
              "    }\n",
              "\n",
              "    [theme=dark] .colab-df-convert:hover {\n",
              "      background-color: #434B5C;\n",
              "      box-shadow: 0px 1px 3px 1px rgba(0, 0, 0, 0.15);\n",
              "      filter: drop-shadow(0px 1px 2px rgba(0, 0, 0, 0.3));\n",
              "      fill: #FFFFFF;\n",
              "    }\n",
              "  </style>\n",
              "\n",
              "      <script>\n",
              "        const buttonEl =\n",
              "          document.querySelector('#df-c4c8e9e5-ef71-43ce-8af7-6a7c555966bb button.colab-df-convert');\n",
              "        buttonEl.style.display =\n",
              "          google.colab.kernel.accessAllowed ? 'block' : 'none';\n",
              "\n",
              "        async function convertToInteractive(key) {\n",
              "          const element = document.querySelector('#df-c4c8e9e5-ef71-43ce-8af7-6a7c555966bb');\n",
              "          const dataTable =\n",
              "            await google.colab.kernel.invokeFunction('convertToInteractive',\n",
              "                                                     [key], {});\n",
              "          if (!dataTable) return;\n",
              "\n",
              "          const docLinkHtml = 'Like what you see? Visit the ' +\n",
              "            '<a target=\"_blank\" href=https://colab.research.google.com/notebooks/data_table.ipynb>data table notebook</a>'\n",
              "            + ' to learn more about interactive tables.';\n",
              "          element.innerHTML = '';\n",
              "          dataTable['output_type'] = 'display_data';\n",
              "          await google.colab.output.renderOutput(dataTable, element);\n",
              "          const docLink = document.createElement('div');\n",
              "          docLink.innerHTML = docLinkHtml;\n",
              "          element.appendChild(docLink);\n",
              "        }\n",
              "      </script>\n",
              "    </div>\n",
              "  </div>\n",
              "  "
            ]
          },
          "metadata": {},
          "execution_count": 14
        }
      ]
    }
  ]
}